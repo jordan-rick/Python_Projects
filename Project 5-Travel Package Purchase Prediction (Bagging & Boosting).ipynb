{
 "cells": [
  {
   "cell_type": "markdown",
   "metadata": {},
   "source": [
    "# Travel Package Purchase Prediction\n",
    "\n",
    "## Background\n",
    "\n",
    "Visit With Us is looking to grow and acquire new customers.  They are going to be offering a new package, Wellness Tourism Package.  This package allows the travelor to maintain or kickstart a healthy lifestyle, and increase well-being.  They have hired me to analyze the packages.\n",
    "\n",
    "## Key Question to Answer\n",
    "\n",
    "Which customer is going to purchase the travel packages?\n",
    "\n",
    "## Dataset\n",
    "#### The lines below give a brief definition of each variable in the dataset:\n",
    "\n",
    "CustomerID: Unique customer ID\n",
    "\n",
    "ProdTaken: Whether the customer has purchased a package or not (0: No, 1: Yes)\n",
    "\n",
    "Age: Age of customer\n",
    "\n",
    "TypeofContact: How customer was contacted (Company Invited or Self Inquiry)\n",
    "\n",
    "CityTier: City tier depends on the development of a city, population, facilities, and living standards. The categories are ordered i.e. Tier 1 > Tier 2 > Tier 3\n",
    "\n",
    "DurationOfPitch: Duration of the pitch by a salesperson to the customer\n",
    "\n",
    "Occupation: Occupation of customer\n",
    "\n",
    "Gender: Gender of customer\n",
    "\n",
    "NumberOfPersonVisiting: Total number of persons planning to take the trip with the customer\n",
    "\n",
    "PreferredPropertyStar: Preferred hotel property rating by customer\n",
    "\n",
    "MaritalStatus: Marital status of customer\n",
    "\n",
    "NumberOfTrips: Average number of trips in a year by customer\n",
    "\n",
    "Passport: The customer has a passport or not (0: No, 1: Yes)\n",
    "\n",
    "OwnCar: Whether the customers own a car or not (0: No, 1: Yes)\n",
    "\n",
    "NumberOfChildrenVisiting: Total number of children with age less than 5 planning to take the trip with the customer\n",
    "\n",
    "Designation: Designation of the customer in the current organization\n",
    "\n",
    "MonthlyIncome: Gross monthly income of the customer"
   ]
  },
  {
   "cell_type": "code",
   "execution_count": 1,
   "metadata": {},
   "outputs": [],
   "source": [
    "# To help make our code look less cluttered, this removes the warnings that pop up.\n",
    "import warnings\n",
    "\n",
    "warnings.filterwarnings(\"ignore\")"
   ]
  },
  {
   "cell_type": "code",
   "execution_count": 2,
   "metadata": {},
   "outputs": [
    {
     "data": {
      "application/javascript": [
       "\n",
       "            setTimeout(function() {\n",
       "                var nbb_cell_id = 2;\n",
       "                var nbb_unformatted_code = \"# Importing the packages for this project\\n\\n%load_ext nb_black\\n\\nimport numpy as np\\nimport pandas as pd\\nimport matplotlib.pyplot as plt\\nimport seaborn as sns\\nimport scipy.stats as stats\\n\\n%matplotlib inline\\n\\n\\n# Splitting data in train and test splits\\nfrom sklearn.model_selection import train_test_split\\n\\n# To build model for prediction\\nimport statsmodels.stats.api as sms\\nfrom statsmodels.stats.outliers_influence import variance_inflation_factor\\nimport statsmodels.api as sm\\nfrom statsmodels.tools.tools import add_constant\\nfrom sklearn.linear_model import LogisticRegression\\nfrom sklearn.tree import DecisionTreeClassifier\\nfrom sklearn import tree\\n\\n# To tune\\nfrom sklearn.model_selection import GridSearchCV\\n\\n# To get diferent metrics\\nfrom sklearn.metrics import (\\n    f1_score,\\n    accuracy_score,\\n    recall_score,\\n    precision_score,\\n    confusion_matrix,\\n    roc_auc_score,\\n    plot_confusion_matrix,\\n    precision_recall_curve,\\n    roc_curve,\\n    make_scorer,\\n)\\n\\n# Bagging and Boosting\\nfrom sklearn import metrics\\nfrom sklearn.ensemble import BaggingClassifier, RandomForestClassifier\\nfrom sklearn.tree import DecisionTreeRegressor\\nfrom sklearn.ensemble import (\\n    BaggingRegressor,\\n    RandomForestRegressor,\\n    GradientBoostingRegressor,\\n    AdaBoostRegressor,\\n    StackingRegressor,\\n)\\nfrom xgboost import XGBRegressor\\nfrom sklearn.ensemble import AdaBoostClassifier, GradientBoostingClassifier\\nfrom xgboost import XGBClassifier\";\n",
       "                var nbb_formatted_code = \"# Importing the packages for this project\\n\\n%load_ext nb_black\\n\\nimport numpy as np\\nimport pandas as pd\\nimport matplotlib.pyplot as plt\\nimport seaborn as sns\\nimport scipy.stats as stats\\n\\n%matplotlib inline\\n\\n\\n# Splitting data in train and test splits\\nfrom sklearn.model_selection import train_test_split\\n\\n# To build model for prediction\\nimport statsmodels.stats.api as sms\\nfrom statsmodels.stats.outliers_influence import variance_inflation_factor\\nimport statsmodels.api as sm\\nfrom statsmodels.tools.tools import add_constant\\nfrom sklearn.linear_model import LogisticRegression\\nfrom sklearn.tree import DecisionTreeClassifier\\nfrom sklearn import tree\\n\\n# To tune\\nfrom sklearn.model_selection import GridSearchCV\\n\\n# To get diferent metrics\\nfrom sklearn.metrics import (\\n    f1_score,\\n    accuracy_score,\\n    recall_score,\\n    precision_score,\\n    confusion_matrix,\\n    roc_auc_score,\\n    plot_confusion_matrix,\\n    precision_recall_curve,\\n    roc_curve,\\n    make_scorer,\\n)\\n\\n# Bagging and Boosting\\nfrom sklearn import metrics\\nfrom sklearn.ensemble import BaggingClassifier, RandomForestClassifier\\nfrom sklearn.tree import DecisionTreeRegressor\\nfrom sklearn.ensemble import (\\n    BaggingRegressor,\\n    RandomForestRegressor,\\n    GradientBoostingRegressor,\\n    AdaBoostRegressor,\\n    StackingRegressor,\\n)\\nfrom xgboost import XGBRegressor\\nfrom sklearn.ensemble import AdaBoostClassifier, GradientBoostingClassifier\\nfrom xgboost import XGBClassifier\";\n",
       "                var nbb_cells = Jupyter.notebook.get_cells();\n",
       "                for (var i = 0; i < nbb_cells.length; ++i) {\n",
       "                    if (nbb_cells[i].input_prompt_number == nbb_cell_id) {\n",
       "                        if (nbb_cells[i].get_text() == nbb_unformatted_code) {\n",
       "                             nbb_cells[i].set_text(nbb_formatted_code);\n",
       "                        }\n",
       "                        break;\n",
       "                    }\n",
       "                }\n",
       "            }, 500);\n",
       "            "
      ],
      "text/plain": [
       "<IPython.core.display.Javascript object>"
      ]
     },
     "metadata": {},
     "output_type": "display_data"
    }
   ],
   "source": [
    "# Importing the packages for this project\n",
    "\n",
    "%load_ext nb_black\n",
    "\n",
    "import numpy as np\n",
    "import pandas as pd\n",
    "import matplotlib.pyplot as plt\n",
    "import seaborn as sns\n",
    "import scipy.stats as stats\n",
    "\n",
    "%matplotlib inline\n",
    "\n",
    "\n",
    "# Splitting data in train and test splits\n",
    "from sklearn.model_selection import train_test_split\n",
    "\n",
    "# To build model for prediction\n",
    "import statsmodels.stats.api as sms\n",
    "from statsmodels.stats.outliers_influence import variance_inflation_factor\n",
    "import statsmodels.api as sm\n",
    "from statsmodels.tools.tools import add_constant\n",
    "from sklearn.linear_model import LogisticRegression\n",
    "from sklearn.tree import DecisionTreeClassifier\n",
    "from sklearn import tree\n",
    "\n",
    "# To tune\n",
    "from sklearn.model_selection import GridSearchCV\n",
    "\n",
    "# To get diferent metrics\n",
    "from sklearn.metrics import (\n",
    "    f1_score,\n",
    "    accuracy_score,\n",
    "    recall_score,\n",
    "    precision_score,\n",
    "    confusion_matrix,\n",
    "    roc_auc_score,\n",
    "    plot_confusion_matrix,\n",
    "    precision_recall_curve,\n",
    "    roc_curve,\n",
    "    make_scorer,\n",
    ")\n",
    "\n",
    "# Bagging and Boosting\n",
    "from sklearn import metrics\n",
    "from sklearn.ensemble import BaggingClassifier, RandomForestClassifier\n",
    "from sklearn.tree import DecisionTreeRegressor\n",
    "from sklearn.ensemble import (\n",
    "    BaggingRegressor,\n",
    "    RandomForestRegressor,\n",
    "    GradientBoostingRegressor,\n",
    "    AdaBoostRegressor,\n",
    "    StackingRegressor,\n",
    ")\n",
    "from xgboost import XGBRegressor\n",
    "from sklearn.ensemble import AdaBoostClassifier, GradientBoostingClassifier\n",
    "from xgboost import XGBClassifier"
   ]
  },
  {
   "cell_type": "code",
   "execution_count": 3,
   "metadata": {},
   "outputs": [
    {
     "data": {
      "application/javascript": [
       "\n",
       "            setTimeout(function() {\n",
       "                var nbb_cell_id = 3;\n",
       "                var nbb_unformatted_code = \"# Reading our dataset titled \\\"Tourism.xlsx\\\".\\nfile = pd.read_excel(\\\"Tourism.xlsx\\\", sheet_name=\\\"Tourism\\\")\\n\\n# Making a copy of the dataset, so I am not making any changes to the original file.\\ndata = file.copy()\";\n",
       "                var nbb_formatted_code = \"# Reading our dataset titled \\\"Tourism.xlsx\\\".\\nfile = pd.read_excel(\\\"Tourism.xlsx\\\", sheet_name=\\\"Tourism\\\")\\n\\n# Making a copy of the dataset, so I am not making any changes to the original file.\\ndata = file.copy()\";\n",
       "                var nbb_cells = Jupyter.notebook.get_cells();\n",
       "                for (var i = 0; i < nbb_cells.length; ++i) {\n",
       "                    if (nbb_cells[i].input_prompt_number == nbb_cell_id) {\n",
       "                        if (nbb_cells[i].get_text() == nbb_unformatted_code) {\n",
       "                             nbb_cells[i].set_text(nbb_formatted_code);\n",
       "                        }\n",
       "                        break;\n",
       "                    }\n",
       "                }\n",
       "            }, 500);\n",
       "            "
      ],
      "text/plain": [
       "<IPython.core.display.Javascript object>"
      ]
     },
     "metadata": {},
     "output_type": "display_data"
    }
   ],
   "source": [
    "# Reading our dataset titled \"Tourism.xlsx\".\n",
    "file = pd.read_excel(\"Tourism.xlsx\", sheet_name=\"Tourism\")\n",
    "\n",
    "# Making a copy of the dataset, so I am not making any changes to the original file.\n",
    "data = file.copy()"
   ]
  },
  {
   "cell_type": "code",
   "execution_count": 4,
   "metadata": {
    "scrolled": false
   },
   "outputs": [
    {
     "data": {
      "text/html": [
       "<div>\n",
       "<style scoped>\n",
       "    .dataframe tbody tr th:only-of-type {\n",
       "        vertical-align: middle;\n",
       "    }\n",
       "\n",
       "    .dataframe tbody tr th {\n",
       "        vertical-align: top;\n",
       "    }\n",
       "\n",
       "    .dataframe thead th {\n",
       "        text-align: right;\n",
       "    }\n",
       "</style>\n",
       "<table border=\"1\" class=\"dataframe\">\n",
       "  <thead>\n",
       "    <tr style=\"text-align: right;\">\n",
       "      <th></th>\n",
       "      <th>CustomerID</th>\n",
       "      <th>ProdTaken</th>\n",
       "      <th>Age</th>\n",
       "      <th>TypeofContact</th>\n",
       "      <th>CityTier</th>\n",
       "      <th>DurationOfPitch</th>\n",
       "      <th>Occupation</th>\n",
       "      <th>Gender</th>\n",
       "      <th>NumberOfPersonVisiting</th>\n",
       "      <th>NumberOfFollowups</th>\n",
       "      <th>ProductPitched</th>\n",
       "      <th>PreferredPropertyStar</th>\n",
       "      <th>MaritalStatus</th>\n",
       "      <th>NumberOfTrips</th>\n",
       "      <th>Passport</th>\n",
       "      <th>PitchSatisfactionScore</th>\n",
       "      <th>OwnCar</th>\n",
       "      <th>NumberOfChildrenVisiting</th>\n",
       "      <th>Designation</th>\n",
       "      <th>MonthlyIncome</th>\n",
       "    </tr>\n",
       "  </thead>\n",
       "  <tbody>\n",
       "    <tr>\n",
       "      <th>0</th>\n",
       "      <td>200000</td>\n",
       "      <td>1</td>\n",
       "      <td>41.0</td>\n",
       "      <td>Self Enquiry</td>\n",
       "      <td>3</td>\n",
       "      <td>6.0</td>\n",
       "      <td>Salaried</td>\n",
       "      <td>Female</td>\n",
       "      <td>3</td>\n",
       "      <td>3.0</td>\n",
       "      <td>Deluxe</td>\n",
       "      <td>3.0</td>\n",
       "      <td>Single</td>\n",
       "      <td>1.0</td>\n",
       "      <td>1</td>\n",
       "      <td>2</td>\n",
       "      <td>1</td>\n",
       "      <td>0.0</td>\n",
       "      <td>Manager</td>\n",
       "      <td>20993.0</td>\n",
       "    </tr>\n",
       "    <tr>\n",
       "      <th>1</th>\n",
       "      <td>200001</td>\n",
       "      <td>0</td>\n",
       "      <td>49.0</td>\n",
       "      <td>Company Invited</td>\n",
       "      <td>1</td>\n",
       "      <td>14.0</td>\n",
       "      <td>Salaried</td>\n",
       "      <td>Male</td>\n",
       "      <td>3</td>\n",
       "      <td>4.0</td>\n",
       "      <td>Deluxe</td>\n",
       "      <td>4.0</td>\n",
       "      <td>Divorced</td>\n",
       "      <td>2.0</td>\n",
       "      <td>0</td>\n",
       "      <td>3</td>\n",
       "      <td>1</td>\n",
       "      <td>2.0</td>\n",
       "      <td>Manager</td>\n",
       "      <td>20130.0</td>\n",
       "    </tr>\n",
       "    <tr>\n",
       "      <th>2</th>\n",
       "      <td>200002</td>\n",
       "      <td>1</td>\n",
       "      <td>37.0</td>\n",
       "      <td>Self Enquiry</td>\n",
       "      <td>1</td>\n",
       "      <td>8.0</td>\n",
       "      <td>Free Lancer</td>\n",
       "      <td>Male</td>\n",
       "      <td>3</td>\n",
       "      <td>4.0</td>\n",
       "      <td>Basic</td>\n",
       "      <td>3.0</td>\n",
       "      <td>Single</td>\n",
       "      <td>7.0</td>\n",
       "      <td>1</td>\n",
       "      <td>3</td>\n",
       "      <td>0</td>\n",
       "      <td>0.0</td>\n",
       "      <td>Executive</td>\n",
       "      <td>17090.0</td>\n",
       "    </tr>\n",
       "    <tr>\n",
       "      <th>3</th>\n",
       "      <td>200003</td>\n",
       "      <td>0</td>\n",
       "      <td>33.0</td>\n",
       "      <td>Company Invited</td>\n",
       "      <td>1</td>\n",
       "      <td>9.0</td>\n",
       "      <td>Salaried</td>\n",
       "      <td>Female</td>\n",
       "      <td>2</td>\n",
       "      <td>3.0</td>\n",
       "      <td>Basic</td>\n",
       "      <td>3.0</td>\n",
       "      <td>Divorced</td>\n",
       "      <td>2.0</td>\n",
       "      <td>1</td>\n",
       "      <td>5</td>\n",
       "      <td>1</td>\n",
       "      <td>1.0</td>\n",
       "      <td>Executive</td>\n",
       "      <td>17909.0</td>\n",
       "    </tr>\n",
       "    <tr>\n",
       "      <th>4</th>\n",
       "      <td>200004</td>\n",
       "      <td>0</td>\n",
       "      <td>NaN</td>\n",
       "      <td>Self Enquiry</td>\n",
       "      <td>1</td>\n",
       "      <td>8.0</td>\n",
       "      <td>Small Business</td>\n",
       "      <td>Male</td>\n",
       "      <td>2</td>\n",
       "      <td>3.0</td>\n",
       "      <td>Basic</td>\n",
       "      <td>4.0</td>\n",
       "      <td>Divorced</td>\n",
       "      <td>1.0</td>\n",
       "      <td>0</td>\n",
       "      <td>5</td>\n",
       "      <td>1</td>\n",
       "      <td>0.0</td>\n",
       "      <td>Executive</td>\n",
       "      <td>18468.0</td>\n",
       "    </tr>\n",
       "    <tr>\n",
       "      <th>5</th>\n",
       "      <td>200005</td>\n",
       "      <td>0</td>\n",
       "      <td>32.0</td>\n",
       "      <td>Company Invited</td>\n",
       "      <td>1</td>\n",
       "      <td>8.0</td>\n",
       "      <td>Salaried</td>\n",
       "      <td>Male</td>\n",
       "      <td>3</td>\n",
       "      <td>3.0</td>\n",
       "      <td>Basic</td>\n",
       "      <td>3.0</td>\n",
       "      <td>Single</td>\n",
       "      <td>1.0</td>\n",
       "      <td>0</td>\n",
       "      <td>5</td>\n",
       "      <td>1</td>\n",
       "      <td>1.0</td>\n",
       "      <td>Executive</td>\n",
       "      <td>18068.0</td>\n",
       "    </tr>\n",
       "    <tr>\n",
       "      <th>6</th>\n",
       "      <td>200006</td>\n",
       "      <td>0</td>\n",
       "      <td>59.0</td>\n",
       "      <td>Self Enquiry</td>\n",
       "      <td>1</td>\n",
       "      <td>9.0</td>\n",
       "      <td>Small Business</td>\n",
       "      <td>Female</td>\n",
       "      <td>2</td>\n",
       "      <td>2.0</td>\n",
       "      <td>Basic</td>\n",
       "      <td>5.0</td>\n",
       "      <td>Divorced</td>\n",
       "      <td>5.0</td>\n",
       "      <td>1</td>\n",
       "      <td>2</td>\n",
       "      <td>1</td>\n",
       "      <td>1.0</td>\n",
       "      <td>Executive</td>\n",
       "      <td>17670.0</td>\n",
       "    </tr>\n",
       "    <tr>\n",
       "      <th>7</th>\n",
       "      <td>200007</td>\n",
       "      <td>0</td>\n",
       "      <td>30.0</td>\n",
       "      <td>Self Enquiry</td>\n",
       "      <td>1</td>\n",
       "      <td>30.0</td>\n",
       "      <td>Salaried</td>\n",
       "      <td>Male</td>\n",
       "      <td>3</td>\n",
       "      <td>3.0</td>\n",
       "      <td>Basic</td>\n",
       "      <td>3.0</td>\n",
       "      <td>Married</td>\n",
       "      <td>2.0</td>\n",
       "      <td>0</td>\n",
       "      <td>2</td>\n",
       "      <td>0</td>\n",
       "      <td>1.0</td>\n",
       "      <td>Executive</td>\n",
       "      <td>17693.0</td>\n",
       "    </tr>\n",
       "    <tr>\n",
       "      <th>8</th>\n",
       "      <td>200008</td>\n",
       "      <td>0</td>\n",
       "      <td>38.0</td>\n",
       "      <td>Company Invited</td>\n",
       "      <td>1</td>\n",
       "      <td>29.0</td>\n",
       "      <td>Salaried</td>\n",
       "      <td>Male</td>\n",
       "      <td>2</td>\n",
       "      <td>4.0</td>\n",
       "      <td>Standard</td>\n",
       "      <td>3.0</td>\n",
       "      <td>Unmarried</td>\n",
       "      <td>1.0</td>\n",
       "      <td>0</td>\n",
       "      <td>3</td>\n",
       "      <td>0</td>\n",
       "      <td>0.0</td>\n",
       "      <td>Senior Manager</td>\n",
       "      <td>24526.0</td>\n",
       "    </tr>\n",
       "    <tr>\n",
       "      <th>9</th>\n",
       "      <td>200009</td>\n",
       "      <td>0</td>\n",
       "      <td>36.0</td>\n",
       "      <td>Self Enquiry</td>\n",
       "      <td>1</td>\n",
       "      <td>33.0</td>\n",
       "      <td>Small Business</td>\n",
       "      <td>Male</td>\n",
       "      <td>3</td>\n",
       "      <td>3.0</td>\n",
       "      <td>Deluxe</td>\n",
       "      <td>3.0</td>\n",
       "      <td>Divorced</td>\n",
       "      <td>7.0</td>\n",
       "      <td>0</td>\n",
       "      <td>3</td>\n",
       "      <td>1</td>\n",
       "      <td>0.0</td>\n",
       "      <td>Manager</td>\n",
       "      <td>20237.0</td>\n",
       "    </tr>\n",
       "    <tr>\n",
       "      <th>10</th>\n",
       "      <td>200010</td>\n",
       "      <td>0</td>\n",
       "      <td>35.0</td>\n",
       "      <td>Self Enquiry</td>\n",
       "      <td>1</td>\n",
       "      <td>22.0</td>\n",
       "      <td>Small Business</td>\n",
       "      <td>Male</td>\n",
       "      <td>2</td>\n",
       "      <td>2.0</td>\n",
       "      <td>Basic</td>\n",
       "      <td>4.0</td>\n",
       "      <td>Divorced</td>\n",
       "      <td>1.0</td>\n",
       "      <td>0</td>\n",
       "      <td>3</td>\n",
       "      <td>1</td>\n",
       "      <td>1.0</td>\n",
       "      <td>Executive</td>\n",
       "      <td>17426.0</td>\n",
       "    </tr>\n",
       "    <tr>\n",
       "      <th>11</th>\n",
       "      <td>200011</td>\n",
       "      <td>0</td>\n",
       "      <td>NaN</td>\n",
       "      <td>Self Enquiry</td>\n",
       "      <td>1</td>\n",
       "      <td>21.0</td>\n",
       "      <td>Salaried</td>\n",
       "      <td>Female</td>\n",
       "      <td>2</td>\n",
       "      <td>4.0</td>\n",
       "      <td>Deluxe</td>\n",
       "      <td>3.0</td>\n",
       "      <td>Single</td>\n",
       "      <td>1.0</td>\n",
       "      <td>1</td>\n",
       "      <td>3</td>\n",
       "      <td>0</td>\n",
       "      <td>0.0</td>\n",
       "      <td>Manager</td>\n",
       "      <td>NaN</td>\n",
       "    </tr>\n",
       "    <tr>\n",
       "      <th>12</th>\n",
       "      <td>200012</td>\n",
       "      <td>0</td>\n",
       "      <td>31.0</td>\n",
       "      <td>Self Enquiry</td>\n",
       "      <td>1</td>\n",
       "      <td>32.0</td>\n",
       "      <td>Salaried</td>\n",
       "      <td>Male</td>\n",
       "      <td>2</td>\n",
       "      <td>3.0</td>\n",
       "      <td>Basic</td>\n",
       "      <td>3.0</td>\n",
       "      <td>Married</td>\n",
       "      <td>2.0</td>\n",
       "      <td>0</td>\n",
       "      <td>3</td>\n",
       "      <td>0</td>\n",
       "      <td>1.0</td>\n",
       "      <td>Executive</td>\n",
       "      <td>17911.0</td>\n",
       "    </tr>\n",
       "    <tr>\n",
       "      <th>13</th>\n",
       "      <td>200013</td>\n",
       "      <td>0</td>\n",
       "      <td>34.0</td>\n",
       "      <td>Self Enquiry</td>\n",
       "      <td>1</td>\n",
       "      <td>25.0</td>\n",
       "      <td>Small Business</td>\n",
       "      <td>Male</td>\n",
       "      <td>3</td>\n",
       "      <td>3.0</td>\n",
       "      <td>Basic</td>\n",
       "      <td>3.0</td>\n",
       "      <td>Married</td>\n",
       "      <td>1.0</td>\n",
       "      <td>0</td>\n",
       "      <td>3</td>\n",
       "      <td>0</td>\n",
       "      <td>2.0</td>\n",
       "      <td>Executive</td>\n",
       "      <td>17661.0</td>\n",
       "    </tr>\n",
       "    <tr>\n",
       "      <th>14</th>\n",
       "      <td>200014</td>\n",
       "      <td>1</td>\n",
       "      <td>28.0</td>\n",
       "      <td>Self Enquiry</td>\n",
       "      <td>1</td>\n",
       "      <td>30.0</td>\n",
       "      <td>Salaried</td>\n",
       "      <td>Male</td>\n",
       "      <td>2</td>\n",
       "      <td>4.0</td>\n",
       "      <td>Basic</td>\n",
       "      <td>3.0</td>\n",
       "      <td>Single</td>\n",
       "      <td>6.0</td>\n",
       "      <td>1</td>\n",
       "      <td>2</td>\n",
       "      <td>0</td>\n",
       "      <td>0.0</td>\n",
       "      <td>Executive</td>\n",
       "      <td>17028.0</td>\n",
       "    </tr>\n",
       "    <tr>\n",
       "      <th>15</th>\n",
       "      <td>200015</td>\n",
       "      <td>0</td>\n",
       "      <td>29.0</td>\n",
       "      <td>Self Enquiry</td>\n",
       "      <td>1</td>\n",
       "      <td>27.0</td>\n",
       "      <td>Salaried</td>\n",
       "      <td>Female</td>\n",
       "      <td>2</td>\n",
       "      <td>2.0</td>\n",
       "      <td>Standard</td>\n",
       "      <td>5.0</td>\n",
       "      <td>Married</td>\n",
       "      <td>2.0</td>\n",
       "      <td>0</td>\n",
       "      <td>5</td>\n",
       "      <td>1</td>\n",
       "      <td>1.0</td>\n",
       "      <td>Senior Manager</td>\n",
       "      <td>24980.0</td>\n",
       "    </tr>\n",
       "    <tr>\n",
       "      <th>16</th>\n",
       "      <td>200016</td>\n",
       "      <td>0</td>\n",
       "      <td>32.0</td>\n",
       "      <td>Self Enquiry</td>\n",
       "      <td>1</td>\n",
       "      <td>11.0</td>\n",
       "      <td>Salaried</td>\n",
       "      <td>Male</td>\n",
       "      <td>3</td>\n",
       "      <td>2.0</td>\n",
       "      <td>Basic</td>\n",
       "      <td>4.0</td>\n",
       "      <td>Married</td>\n",
       "      <td>1.0</td>\n",
       "      <td>1</td>\n",
       "      <td>2</td>\n",
       "      <td>1</td>\n",
       "      <td>0.0</td>\n",
       "      <td>Executive</td>\n",
       "      <td>18298.0</td>\n",
       "    </tr>\n",
       "    <tr>\n",
       "      <th>17</th>\n",
       "      <td>200017</td>\n",
       "      <td>0</td>\n",
       "      <td>22.0</td>\n",
       "      <td>Company Invited</td>\n",
       "      <td>1</td>\n",
       "      <td>22.0</td>\n",
       "      <td>Small Business</td>\n",
       "      <td>Male</td>\n",
       "      <td>3</td>\n",
       "      <td>2.0</td>\n",
       "      <td>Basic</td>\n",
       "      <td>3.0</td>\n",
       "      <td>Married</td>\n",
       "      <td>2.0</td>\n",
       "      <td>1</td>\n",
       "      <td>3</td>\n",
       "      <td>0</td>\n",
       "      <td>0.0</td>\n",
       "      <td>Executive</td>\n",
       "      <td>17935.0</td>\n",
       "    </tr>\n",
       "    <tr>\n",
       "      <th>18</th>\n",
       "      <td>200018</td>\n",
       "      <td>0</td>\n",
       "      <td>53.0</td>\n",
       "      <td>Self Enquiry</td>\n",
       "      <td>3</td>\n",
       "      <td>8.0</td>\n",
       "      <td>Salaried</td>\n",
       "      <td>Female</td>\n",
       "      <td>3</td>\n",
       "      <td>4.0</td>\n",
       "      <td>Super Deluxe</td>\n",
       "      <td>3.0</td>\n",
       "      <td>Divorced</td>\n",
       "      <td>3.0</td>\n",
       "      <td>0</td>\n",
       "      <td>3</td>\n",
       "      <td>1</td>\n",
       "      <td>0.0</td>\n",
       "      <td>AVP</td>\n",
       "      <td>30427.0</td>\n",
       "    </tr>\n",
       "    <tr>\n",
       "      <th>19</th>\n",
       "      <td>200019</td>\n",
       "      <td>0</td>\n",
       "      <td>NaN</td>\n",
       "      <td>Self Enquiry</td>\n",
       "      <td>1</td>\n",
       "      <td>8.0</td>\n",
       "      <td>Salaried</td>\n",
       "      <td>Male</td>\n",
       "      <td>2</td>\n",
       "      <td>3.0</td>\n",
       "      <td>Basic</td>\n",
       "      <td>3.0</td>\n",
       "      <td>Single</td>\n",
       "      <td>6.0</td>\n",
       "      <td>1</td>\n",
       "      <td>4</td>\n",
       "      <td>0</td>\n",
       "      <td>1.0</td>\n",
       "      <td>Executive</td>\n",
       "      <td>NaN</td>\n",
       "    </tr>\n",
       "  </tbody>\n",
       "</table>\n",
       "</div>"
      ],
      "text/plain": [
       "    CustomerID  ProdTaken   Age    TypeofContact  CityTier  DurationOfPitch  \\\n",
       "0       200000          1  41.0     Self Enquiry         3              6.0   \n",
       "1       200001          0  49.0  Company Invited         1             14.0   \n",
       "2       200002          1  37.0     Self Enquiry         1              8.0   \n",
       "3       200003          0  33.0  Company Invited         1              9.0   \n",
       "4       200004          0   NaN     Self Enquiry         1              8.0   \n",
       "5       200005          0  32.0  Company Invited         1              8.0   \n",
       "6       200006          0  59.0     Self Enquiry         1              9.0   \n",
       "7       200007          0  30.0     Self Enquiry         1             30.0   \n",
       "8       200008          0  38.0  Company Invited         1             29.0   \n",
       "9       200009          0  36.0     Self Enquiry         1             33.0   \n",
       "10      200010          0  35.0     Self Enquiry         1             22.0   \n",
       "11      200011          0   NaN     Self Enquiry         1             21.0   \n",
       "12      200012          0  31.0     Self Enquiry         1             32.0   \n",
       "13      200013          0  34.0     Self Enquiry         1             25.0   \n",
       "14      200014          1  28.0     Self Enquiry         1             30.0   \n",
       "15      200015          0  29.0     Self Enquiry         1             27.0   \n",
       "16      200016          0  32.0     Self Enquiry         1             11.0   \n",
       "17      200017          0  22.0  Company Invited         1             22.0   \n",
       "18      200018          0  53.0     Self Enquiry         3              8.0   \n",
       "19      200019          0   NaN     Self Enquiry         1              8.0   \n",
       "\n",
       "        Occupation  Gender  NumberOfPersonVisiting  NumberOfFollowups  \\\n",
       "0         Salaried  Female                       3                3.0   \n",
       "1         Salaried    Male                       3                4.0   \n",
       "2      Free Lancer    Male                       3                4.0   \n",
       "3         Salaried  Female                       2                3.0   \n",
       "4   Small Business    Male                       2                3.0   \n",
       "5         Salaried    Male                       3                3.0   \n",
       "6   Small Business  Female                       2                2.0   \n",
       "7         Salaried    Male                       3                3.0   \n",
       "8         Salaried    Male                       2                4.0   \n",
       "9   Small Business    Male                       3                3.0   \n",
       "10  Small Business    Male                       2                2.0   \n",
       "11        Salaried  Female                       2                4.0   \n",
       "12        Salaried    Male                       2                3.0   \n",
       "13  Small Business    Male                       3                3.0   \n",
       "14        Salaried    Male                       2                4.0   \n",
       "15        Salaried  Female                       2                2.0   \n",
       "16        Salaried    Male                       3                2.0   \n",
       "17  Small Business    Male                       3                2.0   \n",
       "18        Salaried  Female                       3                4.0   \n",
       "19        Salaried    Male                       2                3.0   \n",
       "\n",
       "   ProductPitched  PreferredPropertyStar MaritalStatus  NumberOfTrips  \\\n",
       "0          Deluxe                    3.0        Single            1.0   \n",
       "1          Deluxe                    4.0      Divorced            2.0   \n",
       "2           Basic                    3.0        Single            7.0   \n",
       "3           Basic                    3.0      Divorced            2.0   \n",
       "4           Basic                    4.0      Divorced            1.0   \n",
       "5           Basic                    3.0        Single            1.0   \n",
       "6           Basic                    5.0      Divorced            5.0   \n",
       "7           Basic                    3.0       Married            2.0   \n",
       "8        Standard                    3.0     Unmarried            1.0   \n",
       "9          Deluxe                    3.0      Divorced            7.0   \n",
       "10          Basic                    4.0      Divorced            1.0   \n",
       "11         Deluxe                    3.0        Single            1.0   \n",
       "12          Basic                    3.0       Married            2.0   \n",
       "13          Basic                    3.0       Married            1.0   \n",
       "14          Basic                    3.0        Single            6.0   \n",
       "15       Standard                    5.0       Married            2.0   \n",
       "16          Basic                    4.0       Married            1.0   \n",
       "17          Basic                    3.0       Married            2.0   \n",
       "18   Super Deluxe                    3.0      Divorced            3.0   \n",
       "19          Basic                    3.0        Single            6.0   \n",
       "\n",
       "    Passport  PitchSatisfactionScore  OwnCar  NumberOfChildrenVisiting  \\\n",
       "0          1                       2       1                       0.0   \n",
       "1          0                       3       1                       2.0   \n",
       "2          1                       3       0                       0.0   \n",
       "3          1                       5       1                       1.0   \n",
       "4          0                       5       1                       0.0   \n",
       "5          0                       5       1                       1.0   \n",
       "6          1                       2       1                       1.0   \n",
       "7          0                       2       0                       1.0   \n",
       "8          0                       3       0                       0.0   \n",
       "9          0                       3       1                       0.0   \n",
       "10         0                       3       1                       1.0   \n",
       "11         1                       3       0                       0.0   \n",
       "12         0                       3       0                       1.0   \n",
       "13         0                       3       0                       2.0   \n",
       "14         1                       2       0                       0.0   \n",
       "15         0                       5       1                       1.0   \n",
       "16         1                       2       1                       0.0   \n",
       "17         1                       3       0                       0.0   \n",
       "18         0                       3       1                       0.0   \n",
       "19         1                       4       0                       1.0   \n",
       "\n",
       "       Designation  MonthlyIncome  \n",
       "0          Manager        20993.0  \n",
       "1          Manager        20130.0  \n",
       "2        Executive        17090.0  \n",
       "3        Executive        17909.0  \n",
       "4        Executive        18468.0  \n",
       "5        Executive        18068.0  \n",
       "6        Executive        17670.0  \n",
       "7        Executive        17693.0  \n",
       "8   Senior Manager        24526.0  \n",
       "9          Manager        20237.0  \n",
       "10       Executive        17426.0  \n",
       "11         Manager            NaN  \n",
       "12       Executive        17911.0  \n",
       "13       Executive        17661.0  \n",
       "14       Executive        17028.0  \n",
       "15  Senior Manager        24980.0  \n",
       "16       Executive        18298.0  \n",
       "17       Executive        17935.0  \n",
       "18             AVP        30427.0  \n",
       "19       Executive            NaN  "
      ]
     },
     "execution_count": 4,
     "metadata": {},
     "output_type": "execute_result"
    },
    {
     "data": {
      "application/javascript": [
       "\n",
       "            setTimeout(function() {\n",
       "                var nbb_cell_id = 4;\n",
       "                var nbb_unformatted_code = \"# Viewing the first 5 rows of the dataset\\ndata.head(20)\";\n",
       "                var nbb_formatted_code = \"# Viewing the first 5 rows of the dataset\\ndata.head(20)\";\n",
       "                var nbb_cells = Jupyter.notebook.get_cells();\n",
       "                for (var i = 0; i < nbb_cells.length; ++i) {\n",
       "                    if (nbb_cells[i].input_prompt_number == nbb_cell_id) {\n",
       "                        if (nbb_cells[i].get_text() == nbb_unformatted_code) {\n",
       "                             nbb_cells[i].set_text(nbb_formatted_code);\n",
       "                        }\n",
       "                        break;\n",
       "                    }\n",
       "                }\n",
       "            }, 500);\n",
       "            "
      ],
      "text/plain": [
       "<IPython.core.display.Javascript object>"
      ]
     },
     "metadata": {},
     "output_type": "display_data"
    }
   ],
   "source": [
    "# Viewing the first 5 rows of the dataset\n",
    "data.head(20)"
   ]
  },
  {
   "cell_type": "markdown",
   "metadata": {},
   "source": [
    "#### Observations\n",
    "There appears to be an issue with the Gender variable.  I see some showing up as \"Fe Male\" with a space. I need to remedy this."
   ]
  },
  {
   "cell_type": "code",
   "execution_count": 5,
   "metadata": {},
   "outputs": [
    {
     "data": {
      "text/html": [
       "<div>\n",
       "<style scoped>\n",
       "    .dataframe tbody tr th:only-of-type {\n",
       "        vertical-align: middle;\n",
       "    }\n",
       "\n",
       "    .dataframe tbody tr th {\n",
       "        vertical-align: top;\n",
       "    }\n",
       "\n",
       "    .dataframe thead th {\n",
       "        text-align: right;\n",
       "    }\n",
       "</style>\n",
       "<table border=\"1\" class=\"dataframe\">\n",
       "  <thead>\n",
       "    <tr style=\"text-align: right;\">\n",
       "      <th></th>\n",
       "      <th>CustomerID</th>\n",
       "      <th>ProdTaken</th>\n",
       "      <th>Age</th>\n",
       "      <th>TypeofContact</th>\n",
       "      <th>CityTier</th>\n",
       "      <th>DurationOfPitch</th>\n",
       "      <th>Occupation</th>\n",
       "      <th>Gender</th>\n",
       "      <th>NumberOfPersonVisiting</th>\n",
       "      <th>NumberOfFollowups</th>\n",
       "      <th>ProductPitched</th>\n",
       "      <th>PreferredPropertyStar</th>\n",
       "      <th>MaritalStatus</th>\n",
       "      <th>NumberOfTrips</th>\n",
       "      <th>Passport</th>\n",
       "      <th>PitchSatisfactionScore</th>\n",
       "      <th>OwnCar</th>\n",
       "      <th>NumberOfChildrenVisiting</th>\n",
       "      <th>Designation</th>\n",
       "      <th>MonthlyIncome</th>\n",
       "    </tr>\n",
       "  </thead>\n",
       "  <tbody>\n",
       "    <tr>\n",
       "      <th>4868</th>\n",
       "      <td>204868</td>\n",
       "      <td>1</td>\n",
       "      <td>43.0</td>\n",
       "      <td>Company Invited</td>\n",
       "      <td>2</td>\n",
       "      <td>15.0</td>\n",
       "      <td>Salaried</td>\n",
       "      <td>Female</td>\n",
       "      <td>4</td>\n",
       "      <td>5.0</td>\n",
       "      <td>Basic</td>\n",
       "      <td>3.0</td>\n",
       "      <td>Married</td>\n",
       "      <td>NaN</td>\n",
       "      <td>0</td>\n",
       "      <td>5</td>\n",
       "      <td>1</td>\n",
       "      <td>2.0</td>\n",
       "      <td>Executive</td>\n",
       "      <td>36539.0</td>\n",
       "    </tr>\n",
       "    <tr>\n",
       "      <th>4869</th>\n",
       "      <td>204869</td>\n",
       "      <td>1</td>\n",
       "      <td>56.0</td>\n",
       "      <td>Self Enquiry</td>\n",
       "      <td>3</td>\n",
       "      <td>16.0</td>\n",
       "      <td>Small Business</td>\n",
       "      <td>Female</td>\n",
       "      <td>3</td>\n",
       "      <td>6.0</td>\n",
       "      <td>Basic</td>\n",
       "      <td>4.0</td>\n",
       "      <td>Single</td>\n",
       "      <td>NaN</td>\n",
       "      <td>0</td>\n",
       "      <td>1</td>\n",
       "      <td>1</td>\n",
       "      <td>2.0</td>\n",
       "      <td>Executive</td>\n",
       "      <td>37865.0</td>\n",
       "    </tr>\n",
       "    <tr>\n",
       "      <th>4870</th>\n",
       "      <td>204870</td>\n",
       "      <td>1</td>\n",
       "      <td>57.0</td>\n",
       "      <td>Self Enquiry</td>\n",
       "      <td>3</td>\n",
       "      <td>23.0</td>\n",
       "      <td>Salaried</td>\n",
       "      <td>Female</td>\n",
       "      <td>4</td>\n",
       "      <td>4.0</td>\n",
       "      <td>Standard</td>\n",
       "      <td>NaN</td>\n",
       "      <td>Single</td>\n",
       "      <td>4.0</td>\n",
       "      <td>1</td>\n",
       "      <td>5</td>\n",
       "      <td>1</td>\n",
       "      <td>3.0</td>\n",
       "      <td>Senior Manager</td>\n",
       "      <td>38395.0</td>\n",
       "    </tr>\n",
       "    <tr>\n",
       "      <th>4871</th>\n",
       "      <td>204871</td>\n",
       "      <td>1</td>\n",
       "      <td>41.0</td>\n",
       "      <td>Self Enquiry</td>\n",
       "      <td>3</td>\n",
       "      <td>23.0</td>\n",
       "      <td>Small Business</td>\n",
       "      <td>Male</td>\n",
       "      <td>4</td>\n",
       "      <td>4.0</td>\n",
       "      <td>Standard</td>\n",
       "      <td>3.0</td>\n",
       "      <td>Married</td>\n",
       "      <td>4.0</td>\n",
       "      <td>0</td>\n",
       "      <td>5</td>\n",
       "      <td>0</td>\n",
       "      <td>2.0</td>\n",
       "      <td>Senior Manager</td>\n",
       "      <td>22222.0</td>\n",
       "    </tr>\n",
       "    <tr>\n",
       "      <th>4872</th>\n",
       "      <td>204872</td>\n",
       "      <td>1</td>\n",
       "      <td>35.0</td>\n",
       "      <td>Company Invited</td>\n",
       "      <td>1</td>\n",
       "      <td>24.0</td>\n",
       "      <td>Large Business</td>\n",
       "      <td>Male</td>\n",
       "      <td>3</td>\n",
       "      <td>5.0</td>\n",
       "      <td>Basic</td>\n",
       "      <td>3.0</td>\n",
       "      <td>Married</td>\n",
       "      <td>2.0</td>\n",
       "      <td>1</td>\n",
       "      <td>5</td>\n",
       "      <td>1</td>\n",
       "      <td>2.0</td>\n",
       "      <td>Executive</td>\n",
       "      <td>27178.0</td>\n",
       "    </tr>\n",
       "    <tr>\n",
       "      <th>4873</th>\n",
       "      <td>204873</td>\n",
       "      <td>1</td>\n",
       "      <td>41.0</td>\n",
       "      <td>Self Enquiry</td>\n",
       "      <td>3</td>\n",
       "      <td>14.0</td>\n",
       "      <td>Small Business</td>\n",
       "      <td>Male</td>\n",
       "      <td>3</td>\n",
       "      <td>4.0</td>\n",
       "      <td>Basic</td>\n",
       "      <td>4.0</td>\n",
       "      <td>Unmarried</td>\n",
       "      <td>3.0</td>\n",
       "      <td>0</td>\n",
       "      <td>5</td>\n",
       "      <td>0</td>\n",
       "      <td>1.0</td>\n",
       "      <td>Executive</td>\n",
       "      <td>23339.0</td>\n",
       "    </tr>\n",
       "    <tr>\n",
       "      <th>4874</th>\n",
       "      <td>204874</td>\n",
       "      <td>1</td>\n",
       "      <td>42.0</td>\n",
       "      <td>Self Enquiry</td>\n",
       "      <td>1</td>\n",
       "      <td>15.0</td>\n",
       "      <td>Small Business</td>\n",
       "      <td>Female</td>\n",
       "      <td>4</td>\n",
       "      <td>4.0</td>\n",
       "      <td>Basic</td>\n",
       "      <td>5.0</td>\n",
       "      <td>Married</td>\n",
       "      <td>3.0</td>\n",
       "      <td>1</td>\n",
       "      <td>3</td>\n",
       "      <td>0</td>\n",
       "      <td>3.0</td>\n",
       "      <td>Executive</td>\n",
       "      <td>22781.0</td>\n",
       "    </tr>\n",
       "    <tr>\n",
       "      <th>4875</th>\n",
       "      <td>204875</td>\n",
       "      <td>1</td>\n",
       "      <td>36.0</td>\n",
       "      <td>Company Invited</td>\n",
       "      <td>1</td>\n",
       "      <td>8.0</td>\n",
       "      <td>Small Business</td>\n",
       "      <td>Male</td>\n",
       "      <td>4</td>\n",
       "      <td>4.0</td>\n",
       "      <td>Basic</td>\n",
       "      <td>4.0</td>\n",
       "      <td>Married</td>\n",
       "      <td>3.0</td>\n",
       "      <td>1</td>\n",
       "      <td>3</td>\n",
       "      <td>1</td>\n",
       "      <td>1.0</td>\n",
       "      <td>Executive</td>\n",
       "      <td>22927.0</td>\n",
       "    </tr>\n",
       "    <tr>\n",
       "      <th>4876</th>\n",
       "      <td>204876</td>\n",
       "      <td>1</td>\n",
       "      <td>52.0</td>\n",
       "      <td>Self Enquiry</td>\n",
       "      <td>3</td>\n",
       "      <td>34.0</td>\n",
       "      <td>Salaried</td>\n",
       "      <td>Male</td>\n",
       "      <td>3</td>\n",
       "      <td>4.0</td>\n",
       "      <td>Deluxe</td>\n",
       "      <td>3.0</td>\n",
       "      <td>Single</td>\n",
       "      <td>3.0</td>\n",
       "      <td>1</td>\n",
       "      <td>5</td>\n",
       "      <td>1</td>\n",
       "      <td>2.0</td>\n",
       "      <td>Manager</td>\n",
       "      <td>32704.0</td>\n",
       "    </tr>\n",
       "    <tr>\n",
       "      <th>4877</th>\n",
       "      <td>204877</td>\n",
       "      <td>1</td>\n",
       "      <td>39.0</td>\n",
       "      <td>Company Invited</td>\n",
       "      <td>1</td>\n",
       "      <td>16.0</td>\n",
       "      <td>Salaried</td>\n",
       "      <td>Male</td>\n",
       "      <td>4</td>\n",
       "      <td>4.0</td>\n",
       "      <td>Deluxe</td>\n",
       "      <td>5.0</td>\n",
       "      <td>Married</td>\n",
       "      <td>6.0</td>\n",
       "      <td>0</td>\n",
       "      <td>3</td>\n",
       "      <td>0</td>\n",
       "      <td>3.0</td>\n",
       "      <td>Manager</td>\n",
       "      <td>25571.0</td>\n",
       "    </tr>\n",
       "    <tr>\n",
       "      <th>4878</th>\n",
       "      <td>204878</td>\n",
       "      <td>1</td>\n",
       "      <td>35.0</td>\n",
       "      <td>Self Enquiry</td>\n",
       "      <td>1</td>\n",
       "      <td>17.0</td>\n",
       "      <td>Small Business</td>\n",
       "      <td>Male</td>\n",
       "      <td>3</td>\n",
       "      <td>4.0</td>\n",
       "      <td>Deluxe</td>\n",
       "      <td>5.0</td>\n",
       "      <td>Unmarried</td>\n",
       "      <td>3.0</td>\n",
       "      <td>0</td>\n",
       "      <td>4</td>\n",
       "      <td>0</td>\n",
       "      <td>1.0</td>\n",
       "      <td>Manager</td>\n",
       "      <td>24803.0</td>\n",
       "    </tr>\n",
       "    <tr>\n",
       "      <th>4879</th>\n",
       "      <td>204879</td>\n",
       "      <td>1</td>\n",
       "      <td>26.0</td>\n",
       "      <td>Self Enquiry</td>\n",
       "      <td>2</td>\n",
       "      <td>27.0</td>\n",
       "      <td>Small Business</td>\n",
       "      <td>Female</td>\n",
       "      <td>4</td>\n",
       "      <td>4.0</td>\n",
       "      <td>Basic</td>\n",
       "      <td>4.0</td>\n",
       "      <td>Married</td>\n",
       "      <td>2.0</td>\n",
       "      <td>1</td>\n",
       "      <td>3</td>\n",
       "      <td>0</td>\n",
       "      <td>2.0</td>\n",
       "      <td>Executive</td>\n",
       "      <td>22347.0</td>\n",
       "    </tr>\n",
       "    <tr>\n",
       "      <th>4880</th>\n",
       "      <td>204880</td>\n",
       "      <td>1</td>\n",
       "      <td>59.0</td>\n",
       "      <td>Self Enquiry</td>\n",
       "      <td>1</td>\n",
       "      <td>28.0</td>\n",
       "      <td>Small Business</td>\n",
       "      <td>Female</td>\n",
       "      <td>4</td>\n",
       "      <td>4.0</td>\n",
       "      <td>Deluxe</td>\n",
       "      <td>4.0</td>\n",
       "      <td>Married</td>\n",
       "      <td>6.0</td>\n",
       "      <td>0</td>\n",
       "      <td>3</td>\n",
       "      <td>1</td>\n",
       "      <td>2.0</td>\n",
       "      <td>Manager</td>\n",
       "      <td>28686.0</td>\n",
       "    </tr>\n",
       "    <tr>\n",
       "      <th>4881</th>\n",
       "      <td>204881</td>\n",
       "      <td>1</td>\n",
       "      <td>41.0</td>\n",
       "      <td>Self Enquiry</td>\n",
       "      <td>2</td>\n",
       "      <td>25.0</td>\n",
       "      <td>Salaried</td>\n",
       "      <td>Male</td>\n",
       "      <td>3</td>\n",
       "      <td>2.0</td>\n",
       "      <td>Basic</td>\n",
       "      <td>5.0</td>\n",
       "      <td>Married</td>\n",
       "      <td>2.0</td>\n",
       "      <td>0</td>\n",
       "      <td>1</td>\n",
       "      <td>1</td>\n",
       "      <td>2.0</td>\n",
       "      <td>Executive</td>\n",
       "      <td>21065.0</td>\n",
       "    </tr>\n",
       "    <tr>\n",
       "      <th>4882</th>\n",
       "      <td>204882</td>\n",
       "      <td>1</td>\n",
       "      <td>37.0</td>\n",
       "      <td>Self Enquiry</td>\n",
       "      <td>2</td>\n",
       "      <td>20.0</td>\n",
       "      <td>Salaried</td>\n",
       "      <td>Male</td>\n",
       "      <td>3</td>\n",
       "      <td>5.0</td>\n",
       "      <td>Basic</td>\n",
       "      <td>5.0</td>\n",
       "      <td>Married</td>\n",
       "      <td>6.0</td>\n",
       "      <td>1</td>\n",
       "      <td>5</td>\n",
       "      <td>1</td>\n",
       "      <td>2.0</td>\n",
       "      <td>Executive</td>\n",
       "      <td>23317.0</td>\n",
       "    </tr>\n",
       "    <tr>\n",
       "      <th>4883</th>\n",
       "      <td>204883</td>\n",
       "      <td>1</td>\n",
       "      <td>49.0</td>\n",
       "      <td>Self Enquiry</td>\n",
       "      <td>3</td>\n",
       "      <td>9.0</td>\n",
       "      <td>Small Business</td>\n",
       "      <td>Male</td>\n",
       "      <td>3</td>\n",
       "      <td>5.0</td>\n",
       "      <td>Deluxe</td>\n",
       "      <td>4.0</td>\n",
       "      <td>Unmarried</td>\n",
       "      <td>2.0</td>\n",
       "      <td>1</td>\n",
       "      <td>1</td>\n",
       "      <td>1</td>\n",
       "      <td>1.0</td>\n",
       "      <td>Manager</td>\n",
       "      <td>26576.0</td>\n",
       "    </tr>\n",
       "    <tr>\n",
       "      <th>4884</th>\n",
       "      <td>204884</td>\n",
       "      <td>1</td>\n",
       "      <td>28.0</td>\n",
       "      <td>Company Invited</td>\n",
       "      <td>1</td>\n",
       "      <td>31.0</td>\n",
       "      <td>Salaried</td>\n",
       "      <td>Male</td>\n",
       "      <td>4</td>\n",
       "      <td>5.0</td>\n",
       "      <td>Basic</td>\n",
       "      <td>3.0</td>\n",
       "      <td>Single</td>\n",
       "      <td>3.0</td>\n",
       "      <td>1</td>\n",
       "      <td>3</td>\n",
       "      <td>1</td>\n",
       "      <td>2.0</td>\n",
       "      <td>Executive</td>\n",
       "      <td>21212.0</td>\n",
       "    </tr>\n",
       "    <tr>\n",
       "      <th>4885</th>\n",
       "      <td>204885</td>\n",
       "      <td>1</td>\n",
       "      <td>52.0</td>\n",
       "      <td>Self Enquiry</td>\n",
       "      <td>3</td>\n",
       "      <td>17.0</td>\n",
       "      <td>Salaried</td>\n",
       "      <td>Female</td>\n",
       "      <td>4</td>\n",
       "      <td>4.0</td>\n",
       "      <td>Standard</td>\n",
       "      <td>4.0</td>\n",
       "      <td>Married</td>\n",
       "      <td>7.0</td>\n",
       "      <td>0</td>\n",
       "      <td>1</td>\n",
       "      <td>1</td>\n",
       "      <td>3.0</td>\n",
       "      <td>Senior Manager</td>\n",
       "      <td>31820.0</td>\n",
       "    </tr>\n",
       "    <tr>\n",
       "      <th>4886</th>\n",
       "      <td>204886</td>\n",
       "      <td>1</td>\n",
       "      <td>19.0</td>\n",
       "      <td>Self Enquiry</td>\n",
       "      <td>3</td>\n",
       "      <td>16.0</td>\n",
       "      <td>Small Business</td>\n",
       "      <td>Male</td>\n",
       "      <td>3</td>\n",
       "      <td>4.0</td>\n",
       "      <td>Basic</td>\n",
       "      <td>3.0</td>\n",
       "      <td>Single</td>\n",
       "      <td>3.0</td>\n",
       "      <td>0</td>\n",
       "      <td>5</td>\n",
       "      <td>0</td>\n",
       "      <td>2.0</td>\n",
       "      <td>Executive</td>\n",
       "      <td>20289.0</td>\n",
       "    </tr>\n",
       "    <tr>\n",
       "      <th>4887</th>\n",
       "      <td>204887</td>\n",
       "      <td>1</td>\n",
       "      <td>36.0</td>\n",
       "      <td>Self Enquiry</td>\n",
       "      <td>1</td>\n",
       "      <td>14.0</td>\n",
       "      <td>Salaried</td>\n",
       "      <td>Male</td>\n",
       "      <td>4</td>\n",
       "      <td>4.0</td>\n",
       "      <td>Basic</td>\n",
       "      <td>4.0</td>\n",
       "      <td>Unmarried</td>\n",
       "      <td>3.0</td>\n",
       "      <td>1</td>\n",
       "      <td>3</td>\n",
       "      <td>1</td>\n",
       "      <td>2.0</td>\n",
       "      <td>Executive</td>\n",
       "      <td>24041.0</td>\n",
       "    </tr>\n",
       "  </tbody>\n",
       "</table>\n",
       "</div>"
      ],
      "text/plain": [
       "      CustomerID  ProdTaken   Age    TypeofContact  CityTier  DurationOfPitch  \\\n",
       "4868      204868          1  43.0  Company Invited         2             15.0   \n",
       "4869      204869          1  56.0     Self Enquiry         3             16.0   \n",
       "4870      204870          1  57.0     Self Enquiry         3             23.0   \n",
       "4871      204871          1  41.0     Self Enquiry         3             23.0   \n",
       "4872      204872          1  35.0  Company Invited         1             24.0   \n",
       "4873      204873          1  41.0     Self Enquiry         3             14.0   \n",
       "4874      204874          1  42.0     Self Enquiry         1             15.0   \n",
       "4875      204875          1  36.0  Company Invited         1              8.0   \n",
       "4876      204876          1  52.0     Self Enquiry         3             34.0   \n",
       "4877      204877          1  39.0  Company Invited         1             16.0   \n",
       "4878      204878          1  35.0     Self Enquiry         1             17.0   \n",
       "4879      204879          1  26.0     Self Enquiry         2             27.0   \n",
       "4880      204880          1  59.0     Self Enquiry         1             28.0   \n",
       "4881      204881          1  41.0     Self Enquiry         2             25.0   \n",
       "4882      204882          1  37.0     Self Enquiry         2             20.0   \n",
       "4883      204883          1  49.0     Self Enquiry         3              9.0   \n",
       "4884      204884          1  28.0  Company Invited         1             31.0   \n",
       "4885      204885          1  52.0     Self Enquiry         3             17.0   \n",
       "4886      204886          1  19.0     Self Enquiry         3             16.0   \n",
       "4887      204887          1  36.0     Self Enquiry         1             14.0   \n",
       "\n",
       "          Occupation  Gender  NumberOfPersonVisiting  NumberOfFollowups  \\\n",
       "4868        Salaried  Female                       4                5.0   \n",
       "4869  Small Business  Female                       3                6.0   \n",
       "4870        Salaried  Female                       4                4.0   \n",
       "4871  Small Business    Male                       4                4.0   \n",
       "4872  Large Business    Male                       3                5.0   \n",
       "4873  Small Business    Male                       3                4.0   \n",
       "4874  Small Business  Female                       4                4.0   \n",
       "4875  Small Business    Male                       4                4.0   \n",
       "4876        Salaried    Male                       3                4.0   \n",
       "4877        Salaried    Male                       4                4.0   \n",
       "4878  Small Business    Male                       3                4.0   \n",
       "4879  Small Business  Female                       4                4.0   \n",
       "4880  Small Business  Female                       4                4.0   \n",
       "4881        Salaried    Male                       3                2.0   \n",
       "4882        Salaried    Male                       3                5.0   \n",
       "4883  Small Business    Male                       3                5.0   \n",
       "4884        Salaried    Male                       4                5.0   \n",
       "4885        Salaried  Female                       4                4.0   \n",
       "4886  Small Business    Male                       3                4.0   \n",
       "4887        Salaried    Male                       4                4.0   \n",
       "\n",
       "     ProductPitched  PreferredPropertyStar MaritalStatus  NumberOfTrips  \\\n",
       "4868          Basic                    3.0       Married            NaN   \n",
       "4869          Basic                    4.0        Single            NaN   \n",
       "4870       Standard                    NaN        Single            4.0   \n",
       "4871       Standard                    3.0       Married            4.0   \n",
       "4872          Basic                    3.0       Married            2.0   \n",
       "4873          Basic                    4.0     Unmarried            3.0   \n",
       "4874          Basic                    5.0       Married            3.0   \n",
       "4875          Basic                    4.0       Married            3.0   \n",
       "4876         Deluxe                    3.0        Single            3.0   \n",
       "4877         Deluxe                    5.0       Married            6.0   \n",
       "4878         Deluxe                    5.0     Unmarried            3.0   \n",
       "4879          Basic                    4.0       Married            2.0   \n",
       "4880         Deluxe                    4.0       Married            6.0   \n",
       "4881          Basic                    5.0       Married            2.0   \n",
       "4882          Basic                    5.0       Married            6.0   \n",
       "4883         Deluxe                    4.0     Unmarried            2.0   \n",
       "4884          Basic                    3.0        Single            3.0   \n",
       "4885       Standard                    4.0       Married            7.0   \n",
       "4886          Basic                    3.0        Single            3.0   \n",
       "4887          Basic                    4.0     Unmarried            3.0   \n",
       "\n",
       "      Passport  PitchSatisfactionScore  OwnCar  NumberOfChildrenVisiting  \\\n",
       "4868         0                       5       1                       2.0   \n",
       "4869         0                       1       1                       2.0   \n",
       "4870         1                       5       1                       3.0   \n",
       "4871         0                       5       0                       2.0   \n",
       "4872         1                       5       1                       2.0   \n",
       "4873         0                       5       0                       1.0   \n",
       "4874         1                       3       0                       3.0   \n",
       "4875         1                       3       1                       1.0   \n",
       "4876         1                       5       1                       2.0   \n",
       "4877         0                       3       0                       3.0   \n",
       "4878         0                       4       0                       1.0   \n",
       "4879         1                       3       0                       2.0   \n",
       "4880         0                       3       1                       2.0   \n",
       "4881         0                       1       1                       2.0   \n",
       "4882         1                       5       1                       2.0   \n",
       "4883         1                       1       1                       1.0   \n",
       "4884         1                       3       1                       2.0   \n",
       "4885         0                       1       1                       3.0   \n",
       "4886         0                       5       0                       2.0   \n",
       "4887         1                       3       1                       2.0   \n",
       "\n",
       "         Designation  MonthlyIncome  \n",
       "4868       Executive        36539.0  \n",
       "4869       Executive        37865.0  \n",
       "4870  Senior Manager        38395.0  \n",
       "4871  Senior Manager        22222.0  \n",
       "4872       Executive        27178.0  \n",
       "4873       Executive        23339.0  \n",
       "4874       Executive        22781.0  \n",
       "4875       Executive        22927.0  \n",
       "4876         Manager        32704.0  \n",
       "4877         Manager        25571.0  \n",
       "4878         Manager        24803.0  \n",
       "4879       Executive        22347.0  \n",
       "4880         Manager        28686.0  \n",
       "4881       Executive        21065.0  \n",
       "4882       Executive        23317.0  \n",
       "4883         Manager        26576.0  \n",
       "4884       Executive        21212.0  \n",
       "4885  Senior Manager        31820.0  \n",
       "4886       Executive        20289.0  \n",
       "4887       Executive        24041.0  "
      ]
     },
     "execution_count": 5,
     "metadata": {},
     "output_type": "execute_result"
    },
    {
     "data": {
      "application/javascript": [
       "\n",
       "            setTimeout(function() {\n",
       "                var nbb_cell_id = 5;\n",
       "                var nbb_unformatted_code = \"# Viewing the last 5 rows of the dataset\\ndata.tail(20)\";\n",
       "                var nbb_formatted_code = \"# Viewing the last 5 rows of the dataset\\ndata.tail(20)\";\n",
       "                var nbb_cells = Jupyter.notebook.get_cells();\n",
       "                for (var i = 0; i < nbb_cells.length; ++i) {\n",
       "                    if (nbb_cells[i].input_prompt_number == nbb_cell_id) {\n",
       "                        if (nbb_cells[i].get_text() == nbb_unformatted_code) {\n",
       "                             nbb_cells[i].set_text(nbb_formatted_code);\n",
       "                        }\n",
       "                        break;\n",
       "                    }\n",
       "                }\n",
       "            }, 500);\n",
       "            "
      ],
      "text/plain": [
       "<IPython.core.display.Javascript object>"
      ]
     },
     "metadata": {},
     "output_type": "display_data"
    }
   ],
   "source": [
    "# Viewing the last 5 rows of the dataset\n",
    "data.tail(20)"
   ]
  },
  {
   "cell_type": "code",
   "execution_count": 6,
   "metadata": {},
   "outputs": [
    {
     "data": {
      "text/plain": [
       "(4888, 20)"
      ]
     },
     "execution_count": 6,
     "metadata": {},
     "output_type": "execute_result"
    },
    {
     "data": {
      "application/javascript": [
       "\n",
       "            setTimeout(function() {\n",
       "                var nbb_cell_id = 6;\n",
       "                var nbb_unformatted_code = \"# Looking at the shape of the dataset\\ndata.shape\";\n",
       "                var nbb_formatted_code = \"# Looking at the shape of the dataset\\ndata.shape\";\n",
       "                var nbb_cells = Jupyter.notebook.get_cells();\n",
       "                for (var i = 0; i < nbb_cells.length; ++i) {\n",
       "                    if (nbb_cells[i].input_prompt_number == nbb_cell_id) {\n",
       "                        if (nbb_cells[i].get_text() == nbb_unformatted_code) {\n",
       "                             nbb_cells[i].set_text(nbb_formatted_code);\n",
       "                        }\n",
       "                        break;\n",
       "                    }\n",
       "                }\n",
       "            }, 500);\n",
       "            "
      ],
      "text/plain": [
       "<IPython.core.display.Javascript object>"
      ]
     },
     "metadata": {},
     "output_type": "display_data"
    }
   ],
   "source": [
    "# Looking at the shape of the dataset\n",
    "data.shape"
   ]
  },
  {
   "cell_type": "markdown",
   "metadata": {},
   "source": [
    "#### Observations\n",
    "There are 4888 rows and 20 columns in the dataset."
   ]
  },
  {
   "cell_type": "code",
   "execution_count": 7,
   "metadata": {},
   "outputs": [
    {
     "name": "stdout",
     "output_type": "stream",
     "text": [
      "<class 'pandas.core.frame.DataFrame'>\n",
      "RangeIndex: 4888 entries, 0 to 4887\n",
      "Data columns (total 20 columns):\n",
      " #   Column                    Non-Null Count  Dtype  \n",
      "---  ------                    --------------  -----  \n",
      " 0   CustomerID                4888 non-null   int64  \n",
      " 1   ProdTaken                 4888 non-null   int64  \n",
      " 2   Age                       4662 non-null   float64\n",
      " 3   TypeofContact             4863 non-null   object \n",
      " 4   CityTier                  4888 non-null   int64  \n",
      " 5   DurationOfPitch           4637 non-null   float64\n",
      " 6   Occupation                4888 non-null   object \n",
      " 7   Gender                    4888 non-null   object \n",
      " 8   NumberOfPersonVisiting    4888 non-null   int64  \n",
      " 9   NumberOfFollowups         4843 non-null   float64\n",
      " 10  ProductPitched            4888 non-null   object \n",
      " 11  PreferredPropertyStar     4862 non-null   float64\n",
      " 12  MaritalStatus             4888 non-null   object \n",
      " 13  NumberOfTrips             4748 non-null   float64\n",
      " 14  Passport                  4888 non-null   int64  \n",
      " 15  PitchSatisfactionScore    4888 non-null   int64  \n",
      " 16  OwnCar                    4888 non-null   int64  \n",
      " 17  NumberOfChildrenVisiting  4822 non-null   float64\n",
      " 18  Designation               4888 non-null   object \n",
      " 19  MonthlyIncome             4655 non-null   float64\n",
      "dtypes: float64(7), int64(7), object(6)\n",
      "memory usage: 763.9+ KB\n"
     ]
    },
    {
     "data": {
      "application/javascript": [
       "\n",
       "            setTimeout(function() {\n",
       "                var nbb_cell_id = 7;\n",
       "                var nbb_unformatted_code = \"# Looking at the data types of our variables\\ndata.info()\";\n",
       "                var nbb_formatted_code = \"# Looking at the data types of our variables\\ndata.info()\";\n",
       "                var nbb_cells = Jupyter.notebook.get_cells();\n",
       "                for (var i = 0; i < nbb_cells.length; ++i) {\n",
       "                    if (nbb_cells[i].input_prompt_number == nbb_cell_id) {\n",
       "                        if (nbb_cells[i].get_text() == nbb_unformatted_code) {\n",
       "                             nbb_cells[i].set_text(nbb_formatted_code);\n",
       "                        }\n",
       "                        break;\n",
       "                    }\n",
       "                }\n",
       "            }, 500);\n",
       "            "
      ],
      "text/plain": [
       "<IPython.core.display.Javascript object>"
      ]
     },
     "metadata": {},
     "output_type": "display_data"
    }
   ],
   "source": [
    "# Looking at the data types of our variables\n",
    "data.info()"
   ]
  },
  {
   "cell_type": "code",
   "execution_count": 8,
   "metadata": {},
   "outputs": [
    {
     "data": {
      "application/javascript": [
       "\n",
       "            setTimeout(function() {\n",
       "                var nbb_cell_id = 8;\n",
       "                var nbb_unformatted_code = \"# Let's drop the CustomerID column, as it is just an index column\\ndata.drop([\\\"CustomerID\\\"], axis=1, inplace=True)\";\n",
       "                var nbb_formatted_code = \"# Let's drop the CustomerID column, as it is just an index column\\ndata.drop([\\\"CustomerID\\\"], axis=1, inplace=True)\";\n",
       "                var nbb_cells = Jupyter.notebook.get_cells();\n",
       "                for (var i = 0; i < nbb_cells.length; ++i) {\n",
       "                    if (nbb_cells[i].input_prompt_number == nbb_cell_id) {\n",
       "                        if (nbb_cells[i].get_text() == nbb_unformatted_code) {\n",
       "                             nbb_cells[i].set_text(nbb_formatted_code);\n",
       "                        }\n",
       "                        break;\n",
       "                    }\n",
       "                }\n",
       "            }, 500);\n",
       "            "
      ],
      "text/plain": [
       "<IPython.core.display.Javascript object>"
      ]
     },
     "metadata": {},
     "output_type": "display_data"
    }
   ],
   "source": [
    "# Let's drop the CustomerID column, as it is just an index column\n",
    "data.drop([\"CustomerID\"], axis=1, inplace=True)"
   ]
  },
  {
   "cell_type": "code",
   "execution_count": 9,
   "metadata": {},
   "outputs": [
    {
     "name": "stdout",
     "output_type": "stream",
     "text": [
      "<class 'pandas.core.frame.DataFrame'>\n",
      "RangeIndex: 4888 entries, 0 to 4887\n",
      "Data columns (total 19 columns):\n",
      " #   Column                    Non-Null Count  Dtype  \n",
      "---  ------                    --------------  -----  \n",
      " 0   ProdTaken                 4888 non-null   int64  \n",
      " 1   Age                       4662 non-null   float64\n",
      " 2   TypeofContact             4863 non-null   object \n",
      " 3   CityTier                  4888 non-null   int64  \n",
      " 4   DurationOfPitch           4637 non-null   float64\n",
      " 5   Occupation                4888 non-null   object \n",
      " 6   Gender                    4888 non-null   object \n",
      " 7   NumberOfPersonVisiting    4888 non-null   int64  \n",
      " 8   NumberOfFollowups         4843 non-null   float64\n",
      " 9   ProductPitched            4888 non-null   object \n",
      " 10  PreferredPropertyStar     4862 non-null   float64\n",
      " 11  MaritalStatus             4888 non-null   object \n",
      " 12  NumberOfTrips             4748 non-null   float64\n",
      " 13  Passport                  4888 non-null   int64  \n",
      " 14  PitchSatisfactionScore    4888 non-null   int64  \n",
      " 15  OwnCar                    4888 non-null   int64  \n",
      " 16  NumberOfChildrenVisiting  4822 non-null   float64\n",
      " 17  Designation               4888 non-null   object \n",
      " 18  MonthlyIncome             4655 non-null   float64\n",
      "dtypes: float64(7), int64(6), object(6)\n",
      "memory usage: 725.7+ KB\n"
     ]
    },
    {
     "data": {
      "application/javascript": [
       "\n",
       "            setTimeout(function() {\n",
       "                var nbb_cell_id = 9;\n",
       "                var nbb_unformatted_code = \"# Checking that CustomerID is removed\\ndata.info()\";\n",
       "                var nbb_formatted_code = \"# Checking that CustomerID is removed\\ndata.info()\";\n",
       "                var nbb_cells = Jupyter.notebook.get_cells();\n",
       "                for (var i = 0; i < nbb_cells.length; ++i) {\n",
       "                    if (nbb_cells[i].input_prompt_number == nbb_cell_id) {\n",
       "                        if (nbb_cells[i].get_text() == nbb_unformatted_code) {\n",
       "                             nbb_cells[i].set_text(nbb_formatted_code);\n",
       "                        }\n",
       "                        break;\n",
       "                    }\n",
       "                }\n",
       "            }, 500);\n",
       "            "
      ],
      "text/plain": [
       "<IPython.core.display.Javascript object>"
      ]
     },
     "metadata": {},
     "output_type": "display_data"
    }
   ],
   "source": [
    "# Checking that CustomerID is removed\n",
    "data.info()"
   ]
  },
  {
   "cell_type": "markdown",
   "metadata": {},
   "source": [
    "#### Observations\n",
    "CustomerID is now removed from the dataset"
   ]
  },
  {
   "cell_type": "code",
   "execution_count": 10,
   "metadata": {
    "scrolled": false
   },
   "outputs": [
    {
     "data": {
      "text/plain": [
       "DurationOfPitch             251\n",
       "MonthlyIncome               233\n",
       "Age                         226\n",
       "NumberOfTrips               140\n",
       "NumberOfChildrenVisiting     66\n",
       "NumberOfFollowups            45\n",
       "PreferredPropertyStar        26\n",
       "TypeofContact                25\n",
       "Gender                        0\n",
       "CityTier                      0\n",
       "Occupation                    0\n",
       "ProductPitched                0\n",
       "NumberOfPersonVisiting        0\n",
       "Designation                   0\n",
       "MaritalStatus                 0\n",
       "Passport                      0\n",
       "PitchSatisfactionScore        0\n",
       "OwnCar                        0\n",
       "ProdTaken                     0\n",
       "dtype: int64"
      ]
     },
     "execution_count": 10,
     "metadata": {},
     "output_type": "execute_result"
    },
    {
     "data": {
      "application/javascript": [
       "\n",
       "            setTimeout(function() {\n",
       "                var nbb_cell_id = 10;\n",
       "                var nbb_unformatted_code = \"# Let's get an understanding on missing values in our dataset\\ndata.isnull().sum().sort_values(ascending=False)\";\n",
       "                var nbb_formatted_code = \"# Let's get an understanding on missing values in our dataset\\ndata.isnull().sum().sort_values(ascending=False)\";\n",
       "                var nbb_cells = Jupyter.notebook.get_cells();\n",
       "                for (var i = 0; i < nbb_cells.length; ++i) {\n",
       "                    if (nbb_cells[i].input_prompt_number == nbb_cell_id) {\n",
       "                        if (nbb_cells[i].get_text() == nbb_unformatted_code) {\n",
       "                             nbb_cells[i].set_text(nbb_formatted_code);\n",
       "                        }\n",
       "                        break;\n",
       "                    }\n",
       "                }\n",
       "            }, 500);\n",
       "            "
      ],
      "text/plain": [
       "<IPython.core.display.Javascript object>"
      ]
     },
     "metadata": {},
     "output_type": "display_data"
    }
   ],
   "source": [
    "# Let's get an understanding on missing values in our dataset\n",
    "data.isnull().sum().sort_values(ascending=False)"
   ]
  },
  {
   "cell_type": "code",
   "execution_count": 11,
   "metadata": {},
   "outputs": [
    {
     "data": {
      "application/javascript": [
       "\n",
       "            setTimeout(function() {\n",
       "                var nbb_cell_id = 11;\n",
       "                var nbb_unformatted_code = \"# Cleaning the data. Looking for any blank entries in the dataset\\ndata = data.dropna()\";\n",
       "                var nbb_formatted_code = \"# Cleaning the data. Looking for any blank entries in the dataset\\ndata = data.dropna()\";\n",
       "                var nbb_cells = Jupyter.notebook.get_cells();\n",
       "                for (var i = 0; i < nbb_cells.length; ++i) {\n",
       "                    if (nbb_cells[i].input_prompt_number == nbb_cell_id) {\n",
       "                        if (nbb_cells[i].get_text() == nbb_unformatted_code) {\n",
       "                             nbb_cells[i].set_text(nbb_formatted_code);\n",
       "                        }\n",
       "                        break;\n",
       "                    }\n",
       "                }\n",
       "            }, 500);\n",
       "            "
      ],
      "text/plain": [
       "<IPython.core.display.Javascript object>"
      ]
     },
     "metadata": {},
     "output_type": "display_data"
    }
   ],
   "source": [
    "# Cleaning the data. Looking for any blank entries in the dataset\n",
    "data = data.dropna()"
   ]
  },
  {
   "cell_type": "code",
   "execution_count": 12,
   "metadata": {},
   "outputs": [
    {
     "data": {
      "text/plain": [
       "(4128, 19)"
      ]
     },
     "execution_count": 12,
     "metadata": {},
     "output_type": "execute_result"
    },
    {
     "data": {
      "application/javascript": [
       "\n",
       "            setTimeout(function() {\n",
       "                var nbb_cell_id = 12;\n",
       "                var nbb_unformatted_code = \"# Looking at the shape of the dataset\\ndata.shape\";\n",
       "                var nbb_formatted_code = \"# Looking at the shape of the dataset\\ndata.shape\";\n",
       "                var nbb_cells = Jupyter.notebook.get_cells();\n",
       "                for (var i = 0; i < nbb_cells.length; ++i) {\n",
       "                    if (nbb_cells[i].input_prompt_number == nbb_cell_id) {\n",
       "                        if (nbb_cells[i].get_text() == nbb_unformatted_code) {\n",
       "                             nbb_cells[i].set_text(nbb_formatted_code);\n",
       "                        }\n",
       "                        break;\n",
       "                    }\n",
       "                }\n",
       "            }, 500);\n",
       "            "
      ],
      "text/plain": [
       "<IPython.core.display.Javascript object>"
      ]
     },
     "metadata": {},
     "output_type": "display_data"
    }
   ],
   "source": [
    "# Looking at the shape of the dataset\n",
    "data.shape"
   ]
  },
  {
   "cell_type": "markdown",
   "metadata": {},
   "source": [
    "#### Observations\n",
    "I removed the blanks from the dataset."
   ]
  },
  {
   "cell_type": "code",
   "execution_count": 13,
   "metadata": {},
   "outputs": [
    {
     "data": {
      "text/plain": [
       "array(['Female', 'Male', 'Fe Male'], dtype=object)"
      ]
     },
     "execution_count": 13,
     "metadata": {},
     "output_type": "execute_result"
    },
    {
     "data": {
      "application/javascript": [
       "\n",
       "            setTimeout(function() {\n",
       "                var nbb_cell_id = 13;\n",
       "                var nbb_unformatted_code = \"# Let's check the options for Genders, I noticed some issues when looking at the dateset.\\ndata[\\\"Gender\\\"].unique()\";\n",
       "                var nbb_formatted_code = \"# Let's check the options for Genders, I noticed some issues when looking at the dateset.\\ndata[\\\"Gender\\\"].unique()\";\n",
       "                var nbb_cells = Jupyter.notebook.get_cells();\n",
       "                for (var i = 0; i < nbb_cells.length; ++i) {\n",
       "                    if (nbb_cells[i].input_prompt_number == nbb_cell_id) {\n",
       "                        if (nbb_cells[i].get_text() == nbb_unformatted_code) {\n",
       "                             nbb_cells[i].set_text(nbb_formatted_code);\n",
       "                        }\n",
       "                        break;\n",
       "                    }\n",
       "                }\n",
       "            }, 500);\n",
       "            "
      ],
      "text/plain": [
       "<IPython.core.display.Javascript object>"
      ]
     },
     "metadata": {},
     "output_type": "display_data"
    }
   ],
   "source": [
    "# Let's check the options for Genders, I noticed some issues when looking at the dateset.\n",
    "data[\"Gender\"].unique()"
   ]
  },
  {
   "cell_type": "markdown",
   "metadata": {},
   "source": [
    "#### Observations\n",
    "It appears that some entries are errors, and are listed as \"Fe Male\". Let's clean this, and convert to Female."
   ]
  },
  {
   "cell_type": "code",
   "execution_count": 14,
   "metadata": {},
   "outputs": [
    {
     "data": {
      "application/javascript": [
       "\n",
       "            setTimeout(function() {\n",
       "                var nbb_cell_id = 14;\n",
       "                var nbb_unformatted_code = \"# Let's convert \\\"Fe Male\\\" to \\\"Female\\\"\\ndata[\\\"Gender\\\"] = data[\\\"Gender\\\"].replace([\\\"Fe Male\\\"], \\\"Female\\\")\";\n",
       "                var nbb_formatted_code = \"# Let's convert \\\"Fe Male\\\" to \\\"Female\\\"\\ndata[\\\"Gender\\\"] = data[\\\"Gender\\\"].replace([\\\"Fe Male\\\"], \\\"Female\\\")\";\n",
       "                var nbb_cells = Jupyter.notebook.get_cells();\n",
       "                for (var i = 0; i < nbb_cells.length; ++i) {\n",
       "                    if (nbb_cells[i].input_prompt_number == nbb_cell_id) {\n",
       "                        if (nbb_cells[i].get_text() == nbb_unformatted_code) {\n",
       "                             nbb_cells[i].set_text(nbb_formatted_code);\n",
       "                        }\n",
       "                        break;\n",
       "                    }\n",
       "                }\n",
       "            }, 500);\n",
       "            "
      ],
      "text/plain": [
       "<IPython.core.display.Javascript object>"
      ]
     },
     "metadata": {},
     "output_type": "display_data"
    }
   ],
   "source": [
    "# Let's convert \"Fe Male\" to \"Female\"\n",
    "data[\"Gender\"] = data[\"Gender\"].replace([\"Fe Male\"], \"Female\")"
   ]
  },
  {
   "cell_type": "code",
   "execution_count": 15,
   "metadata": {},
   "outputs": [
    {
     "data": {
      "application/javascript": [
       "\n",
       "            setTimeout(function() {\n",
       "                var nbb_cell_id = 15;\n",
       "                var nbb_unformatted_code = \"# Let's now convert some datatypes\\ndata[\\\"ProdTaken\\\"] = data[\\\"ProdTaken\\\"].astype(\\\"bool\\\")\\ndata[\\\"Age\\\"] = data[\\\"Age\\\"].astype(\\\"int64\\\")\\ndata[\\\"TypeofContact\\\"] = data[\\\"TypeofContact\\\"].astype(\\\"category\\\")\\ndata[\\\"CityTier\\\"] = data[\\\"CityTier\\\"].astype(\\\"category\\\")\\ndata[\\\"Occupation\\\"] = data[\\\"Occupation\\\"].astype(\\\"category\\\")\\ndata[\\\"Gender\\\"] = data[\\\"Gender\\\"].astype(\\\"category\\\")\\ndata[\\\"ProductPitched\\\"] = data[\\\"ProductPitched\\\"].astype(\\\"category\\\")\\ndata[\\\"PreferredPropertyStar\\\"] = data[\\\"PreferredPropertyStar\\\"].astype(\\\"category\\\")\\ndata[\\\"MaritalStatus\\\"] = data[\\\"MaritalStatus\\\"].astype(\\\"category\\\")\\ndata[\\\"MaritalStatus\\\"] = data[\\\"MaritalStatus\\\"].astype(\\\"category\\\")\\ndata[\\\"Passport\\\"] = data[\\\"Passport\\\"].astype(\\\"bool\\\")\\ndata[\\\"PitchSatisfactionScore\\\"] = data[\\\"PitchSatisfactionScore\\\"].astype(\\\"category\\\")\\ndata[\\\"OwnCar\\\"] = data[\\\"OwnCar\\\"].astype(\\\"bool\\\")\\ndata[\\\"Designation\\\"] = data[\\\"Designation\\\"].astype(\\\"category\\\")\";\n",
       "                var nbb_formatted_code = \"# Let's now convert some datatypes\\ndata[\\\"ProdTaken\\\"] = data[\\\"ProdTaken\\\"].astype(\\\"bool\\\")\\ndata[\\\"Age\\\"] = data[\\\"Age\\\"].astype(\\\"int64\\\")\\ndata[\\\"TypeofContact\\\"] = data[\\\"TypeofContact\\\"].astype(\\\"category\\\")\\ndata[\\\"CityTier\\\"] = data[\\\"CityTier\\\"].astype(\\\"category\\\")\\ndata[\\\"Occupation\\\"] = data[\\\"Occupation\\\"].astype(\\\"category\\\")\\ndata[\\\"Gender\\\"] = data[\\\"Gender\\\"].astype(\\\"category\\\")\\ndata[\\\"ProductPitched\\\"] = data[\\\"ProductPitched\\\"].astype(\\\"category\\\")\\ndata[\\\"PreferredPropertyStar\\\"] = data[\\\"PreferredPropertyStar\\\"].astype(\\\"category\\\")\\ndata[\\\"MaritalStatus\\\"] = data[\\\"MaritalStatus\\\"].astype(\\\"category\\\")\\ndata[\\\"MaritalStatus\\\"] = data[\\\"MaritalStatus\\\"].astype(\\\"category\\\")\\ndata[\\\"Passport\\\"] = data[\\\"Passport\\\"].astype(\\\"bool\\\")\\ndata[\\\"PitchSatisfactionScore\\\"] = data[\\\"PitchSatisfactionScore\\\"].astype(\\\"category\\\")\\ndata[\\\"OwnCar\\\"] = data[\\\"OwnCar\\\"].astype(\\\"bool\\\")\\ndata[\\\"Designation\\\"] = data[\\\"Designation\\\"].astype(\\\"category\\\")\";\n",
       "                var nbb_cells = Jupyter.notebook.get_cells();\n",
       "                for (var i = 0; i < nbb_cells.length; ++i) {\n",
       "                    if (nbb_cells[i].input_prompt_number == nbb_cell_id) {\n",
       "                        if (nbb_cells[i].get_text() == nbb_unformatted_code) {\n",
       "                             nbb_cells[i].set_text(nbb_formatted_code);\n",
       "                        }\n",
       "                        break;\n",
       "                    }\n",
       "                }\n",
       "            }, 500);\n",
       "            "
      ],
      "text/plain": [
       "<IPython.core.display.Javascript object>"
      ]
     },
     "metadata": {},
     "output_type": "display_data"
    }
   ],
   "source": [
    "# Let's now convert some datatypes\n",
    "data[\"ProdTaken\"] = data[\"ProdTaken\"].astype(\"bool\")\n",
    "data[\"Age\"] = data[\"Age\"].astype(\"int64\")\n",
    "data[\"TypeofContact\"] = data[\"TypeofContact\"].astype(\"category\")\n",
    "data[\"CityTier\"] = data[\"CityTier\"].astype(\"category\")\n",
    "data[\"Occupation\"] = data[\"Occupation\"].astype(\"category\")\n",
    "data[\"Gender\"] = data[\"Gender\"].astype(\"category\")\n",
    "data[\"ProductPitched\"] = data[\"ProductPitched\"].astype(\"category\")\n",
    "data[\"PreferredPropertyStar\"] = data[\"PreferredPropertyStar\"].astype(\"category\")\n",
    "data[\"MaritalStatus\"] = data[\"MaritalStatus\"].astype(\"category\")\n",
    "data[\"MaritalStatus\"] = data[\"MaritalStatus\"].astype(\"category\")\n",
    "data[\"Passport\"] = data[\"Passport\"].astype(\"bool\")\n",
    "data[\"PitchSatisfactionScore\"] = data[\"PitchSatisfactionScore\"].astype(\"category\")\n",
    "data[\"OwnCar\"] = data[\"OwnCar\"].astype(\"bool\")\n",
    "data[\"Designation\"] = data[\"Designation\"].astype(\"category\")"
   ]
  },
  {
   "cell_type": "code",
   "execution_count": 16,
   "metadata": {},
   "outputs": [
    {
     "name": "stdout",
     "output_type": "stream",
     "text": [
      "<class 'pandas.core.frame.DataFrame'>\n",
      "Int64Index: 4128 entries, 0 to 4887\n",
      "Data columns (total 19 columns):\n",
      " #   Column                    Non-Null Count  Dtype   \n",
      "---  ------                    --------------  -----   \n",
      " 0   ProdTaken                 4128 non-null   bool    \n",
      " 1   Age                       4128 non-null   int64   \n",
      " 2   TypeofContact             4128 non-null   category\n",
      " 3   CityTier                  4128 non-null   category\n",
      " 4   DurationOfPitch           4128 non-null   float64 \n",
      " 5   Occupation                4128 non-null   category\n",
      " 6   Gender                    4128 non-null   category\n",
      " 7   NumberOfPersonVisiting    4128 non-null   int64   \n",
      " 8   NumberOfFollowups         4128 non-null   float64 \n",
      " 9   ProductPitched            4128 non-null   category\n",
      " 10  PreferredPropertyStar     4128 non-null   category\n",
      " 11  MaritalStatus             4128 non-null   category\n",
      " 12  NumberOfTrips             4128 non-null   float64 \n",
      " 13  Passport                  4128 non-null   bool    \n",
      " 14  PitchSatisfactionScore    4128 non-null   category\n",
      " 15  OwnCar                    4128 non-null   bool    \n",
      " 16  NumberOfChildrenVisiting  4128 non-null   float64 \n",
      " 17  Designation               4128 non-null   category\n",
      " 18  MonthlyIncome             4128 non-null   float64 \n",
      "dtypes: bool(3), category(9), float64(5), int64(2)\n",
      "memory usage: 307.7 KB\n"
     ]
    },
    {
     "data": {
      "application/javascript": [
       "\n",
       "            setTimeout(function() {\n",
       "                var nbb_cell_id = 16;\n",
       "                var nbb_unformatted_code = \"# Looking at the data types of our variables\\ndata.info()\";\n",
       "                var nbb_formatted_code = \"# Looking at the data types of our variables\\ndata.info()\";\n",
       "                var nbb_cells = Jupyter.notebook.get_cells();\n",
       "                for (var i = 0; i < nbb_cells.length; ++i) {\n",
       "                    if (nbb_cells[i].input_prompt_number == nbb_cell_id) {\n",
       "                        if (nbb_cells[i].get_text() == nbb_unformatted_code) {\n",
       "                             nbb_cells[i].set_text(nbb_formatted_code);\n",
       "                        }\n",
       "                        break;\n",
       "                    }\n",
       "                }\n",
       "            }, 500);\n",
       "            "
      ],
      "text/plain": [
       "<IPython.core.display.Javascript object>"
      ]
     },
     "metadata": {},
     "output_type": "display_data"
    }
   ],
   "source": [
    "# Looking at the data types of our variables\n",
    "data.info()"
   ]
  },
  {
   "cell_type": "markdown",
   "metadata": {},
   "source": [
    "#### Observations\n",
    "Our datatypes are now in order"
   ]
  },
  {
   "cell_type": "code",
   "execution_count": 17,
   "metadata": {},
   "outputs": [
    {
     "data": {
      "text/html": [
       "<div>\n",
       "<style scoped>\n",
       "    .dataframe tbody tr th:only-of-type {\n",
       "        vertical-align: middle;\n",
       "    }\n",
       "\n",
       "    .dataframe tbody tr th {\n",
       "        vertical-align: top;\n",
       "    }\n",
       "\n",
       "    .dataframe thead th {\n",
       "        text-align: right;\n",
       "    }\n",
       "</style>\n",
       "<table border=\"1\" class=\"dataframe\">\n",
       "  <thead>\n",
       "    <tr style=\"text-align: right;\">\n",
       "      <th></th>\n",
       "      <th>count</th>\n",
       "      <th>mean</th>\n",
       "      <th>std</th>\n",
       "      <th>min</th>\n",
       "      <th>25%</th>\n",
       "      <th>50%</th>\n",
       "      <th>75%</th>\n",
       "      <th>max</th>\n",
       "    </tr>\n",
       "  </thead>\n",
       "  <tbody>\n",
       "    <tr>\n",
       "      <th>Age</th>\n",
       "      <td>4128.0</td>\n",
       "      <td>37.231831</td>\n",
       "      <td>9.174521</td>\n",
       "      <td>18.0</td>\n",
       "      <td>31.0</td>\n",
       "      <td>36.0</td>\n",
       "      <td>43.0</td>\n",
       "      <td>61.0</td>\n",
       "    </tr>\n",
       "    <tr>\n",
       "      <th>DurationOfPitch</th>\n",
       "      <td>4128.0</td>\n",
       "      <td>15.584787</td>\n",
       "      <td>8.398142</td>\n",
       "      <td>5.0</td>\n",
       "      <td>9.0</td>\n",
       "      <td>14.0</td>\n",
       "      <td>20.0</td>\n",
       "      <td>127.0</td>\n",
       "    </tr>\n",
       "    <tr>\n",
       "      <th>NumberOfPersonVisiting</th>\n",
       "      <td>4128.0</td>\n",
       "      <td>2.949370</td>\n",
       "      <td>0.718818</td>\n",
       "      <td>1.0</td>\n",
       "      <td>2.0</td>\n",
       "      <td>3.0</td>\n",
       "      <td>3.0</td>\n",
       "      <td>5.0</td>\n",
       "    </tr>\n",
       "    <tr>\n",
       "      <th>NumberOfFollowups</th>\n",
       "      <td>4128.0</td>\n",
       "      <td>3.741521</td>\n",
       "      <td>1.006786</td>\n",
       "      <td>1.0</td>\n",
       "      <td>3.0</td>\n",
       "      <td>4.0</td>\n",
       "      <td>4.0</td>\n",
       "      <td>6.0</td>\n",
       "    </tr>\n",
       "    <tr>\n",
       "      <th>NumberOfTrips</th>\n",
       "      <td>4128.0</td>\n",
       "      <td>3.295300</td>\n",
       "      <td>1.856300</td>\n",
       "      <td>1.0</td>\n",
       "      <td>2.0</td>\n",
       "      <td>3.0</td>\n",
       "      <td>4.0</td>\n",
       "      <td>22.0</td>\n",
       "    </tr>\n",
       "    <tr>\n",
       "      <th>NumberOfChildrenVisiting</th>\n",
       "      <td>4128.0</td>\n",
       "      <td>1.223595</td>\n",
       "      <td>0.852685</td>\n",
       "      <td>0.0</td>\n",
       "      <td>1.0</td>\n",
       "      <td>1.0</td>\n",
       "      <td>2.0</td>\n",
       "      <td>3.0</td>\n",
       "    </tr>\n",
       "    <tr>\n",
       "      <th>MonthlyIncome</th>\n",
       "      <td>4128.0</td>\n",
       "      <td>23178.464147</td>\n",
       "      <td>4506.614622</td>\n",
       "      <td>1000.0</td>\n",
       "      <td>20751.0</td>\n",
       "      <td>22418.0</td>\n",
       "      <td>25301.0</td>\n",
       "      <td>98678.0</td>\n",
       "    </tr>\n",
       "  </tbody>\n",
       "</table>\n",
       "</div>"
      ],
      "text/plain": [
       "                           count          mean          std     min      25%  \\\n",
       "Age                       4128.0     37.231831     9.174521    18.0     31.0   \n",
       "DurationOfPitch           4128.0     15.584787     8.398142     5.0      9.0   \n",
       "NumberOfPersonVisiting    4128.0      2.949370     0.718818     1.0      2.0   \n",
       "NumberOfFollowups         4128.0      3.741521     1.006786     1.0      3.0   \n",
       "NumberOfTrips             4128.0      3.295300     1.856300     1.0      2.0   \n",
       "NumberOfChildrenVisiting  4128.0      1.223595     0.852685     0.0      1.0   \n",
       "MonthlyIncome             4128.0  23178.464147  4506.614622  1000.0  20751.0   \n",
       "\n",
       "                              50%      75%      max  \n",
       "Age                          36.0     43.0     61.0  \n",
       "DurationOfPitch              14.0     20.0    127.0  \n",
       "NumberOfPersonVisiting        3.0      3.0      5.0  \n",
       "NumberOfFollowups             4.0      4.0      6.0  \n",
       "NumberOfTrips                 3.0      4.0     22.0  \n",
       "NumberOfChildrenVisiting      1.0      2.0      3.0  \n",
       "MonthlyIncome             22418.0  25301.0  98678.0  "
      ]
     },
     "execution_count": 17,
     "metadata": {},
     "output_type": "execute_result"
    },
    {
     "data": {
      "application/javascript": [
       "\n",
       "            setTimeout(function() {\n",
       "                var nbb_cell_id = 17;\n",
       "                var nbb_unformatted_code = \"# Giving us some basic numbers in regards to our dataset. \\\".T\\\" is to transpose the data.\\ndata.describe().T\";\n",
       "                var nbb_formatted_code = \"# Giving us some basic numbers in regards to our dataset. \\\".T\\\" is to transpose the data.\\ndata.describe().T\";\n",
       "                var nbb_cells = Jupyter.notebook.get_cells();\n",
       "                for (var i = 0; i < nbb_cells.length; ++i) {\n",
       "                    if (nbb_cells[i].input_prompt_number == nbb_cell_id) {\n",
       "                        if (nbb_cells[i].get_text() == nbb_unformatted_code) {\n",
       "                             nbb_cells[i].set_text(nbb_formatted_code);\n",
       "                        }\n",
       "                        break;\n",
       "                    }\n",
       "                }\n",
       "            }, 500);\n",
       "            "
      ],
      "text/plain": [
       "<IPython.core.display.Javascript object>"
      ]
     },
     "metadata": {},
     "output_type": "display_data"
    }
   ],
   "source": [
    "# Giving us some basic numbers in regards to our dataset. \".T\" is to transpose the data.\n",
    "data.describe().T"
   ]
  },
  {
   "cell_type": "code",
   "execution_count": 18,
   "metadata": {},
   "outputs": [
    {
     "data": {
      "image/png": "[encoded data removed]",
      "text/plain": [
       "<Figure size 1080x504 with 2 Axes>"
      ]
     },
     "metadata": {
      "needs_background": "light"
     },
     "output_type": "display_data"
    },
    {
     "data": {
      "application/javascript": [
       "\n",
       "            setTimeout(function() {\n",
       "                var nbb_cell_id = 18;\n",
       "                var nbb_unformatted_code = \"# Heatmap of variable correlation\\nplt.figure(figsize=(15, 7))\\nsns.heatmap(data.corr(), annot=True, vmin=-1, vmax=1, fmt=\\\".2f\\\")\\nplt.show()\";\n",
       "                var nbb_formatted_code = \"# Heatmap of variable correlation\\nplt.figure(figsize=(15, 7))\\nsns.heatmap(data.corr(), annot=True, vmin=-1, vmax=1, fmt=\\\".2f\\\")\\nplt.show()\";\n",
       "                var nbb_cells = Jupyter.notebook.get_cells();\n",
       "                for (var i = 0; i < nbb_cells.length; ++i) {\n",
       "                    if (nbb_cells[i].input_prompt_number == nbb_cell_id) {\n",
       "                        if (nbb_cells[i].get_text() == nbb_unformatted_code) {\n",
       "                             nbb_cells[i].set_text(nbb_formatted_code);\n",
       "                        }\n",
       "                        break;\n",
       "                    }\n",
       "                }\n",
       "            }, 500);\n",
       "            "
      ],
      "text/plain": [
       "<IPython.core.display.Javascript object>"
      ]
     },
     "metadata": {},
     "output_type": "display_data"
    }
   ],
   "source": [
    "# Heatmap of variable correlation\n",
    "plt.figure(figsize=(15, 7))\n",
    "sns.heatmap(data.corr(), annot=True, vmin=-1, vmax=1, fmt=\".2f\")\n",
    "plt.show()"
   ]
  },
  {
   "cell_type": "markdown",
   "metadata": {},
   "source": [
    "#### Observations\n",
    "I do not see any direct standouts in our correlation. Income and Age appears to be the most obvious. I will look at the variables further."
   ]
  },
  {
   "cell_type": "markdown",
   "metadata": {},
   "source": [
    "## EDA"
   ]
  },
  {
   "cell_type": "code",
   "execution_count": 19,
   "metadata": {},
   "outputs": [
    {
     "data": {
      "application/javascript": [
       "\n",
       "            setTimeout(function() {\n",
       "                var nbb_cell_id = 19;\n",
       "                var nbb_unformatted_code = \"# Defining a function to show percentage on bars for our countplots\\ndef percent(plot, feature):\\n    \\\"\\\"\\\"\\n    plot\\n    feature: categorical feature\\n    the function won't work if a column is passed in hue parameter\\n    \\\"\\\"\\\"\\n    total = len(feature)\\n    for p in ax.patches:\\n        percentage = \\\"{:.1f}%\\\".format(100 * p.get_height() / total)\\n        x = p.get_x() + p.get_width() / 2 - 0.05\\n        y = p.get_y() + p.get_height()\\n        ax.annotate(percentage, (x, y), size=12)\\n    plt.show()\\n\\n\\n# Defining a histogram function to show us outliers and boxplot, as well as median and mean vlines\\ndef histogram_boxplot(feature, figsize=(15, 10), bins=None):\\n    \\\"\\\"\\\"Boxplot and histogram combined\\n    feature: 1-d feature array\\n    figsize: size of fig (default (9,8))\\n    bins: number of bins (default None / auto)\\n    \\\"\\\"\\\"\\n    f2, (ax_box2, ax_hist2) = plt.subplots(\\n        nrows=2,\\n        sharex=True,\\n        gridspec_kw={\\\"height_ratios\\\": (0.25, 0.75)},\\n        figsize=figsize,\\n    )\\n    sns.boxplot(feature, ax=ax_box2, showmeans=True, color=\\\"violet\\\")\\n    sns.distplot(\\n        feature, kde=F, ax=ax_hist2, bins=bins, palette=\\\"winter\\\"\\n    ) if bins else sns.distplot(feature, kde=False, ax=ax_hist2)\\n    ax_hist2.axvline(np.mean(feature), color=\\\"green\\\", linestyle=\\\"--\\\")\\n    ax_hist2.axvline(np.median(feature), color=\\\"black\\\", linestyle=\\\"-\\\")\";\n",
       "                var nbb_formatted_code = \"# Defining a function to show percentage on bars for our countplots\\ndef percent(plot, feature):\\n    \\\"\\\"\\\"\\n    plot\\n    feature: categorical feature\\n    the function won't work if a column is passed in hue parameter\\n    \\\"\\\"\\\"\\n    total = len(feature)\\n    for p in ax.patches:\\n        percentage = \\\"{:.1f}%\\\".format(100 * p.get_height() / total)\\n        x = p.get_x() + p.get_width() / 2 - 0.05\\n        y = p.get_y() + p.get_height()\\n        ax.annotate(percentage, (x, y), size=12)\\n    plt.show()\\n\\n\\n# Defining a histogram function to show us outliers and boxplot, as well as median and mean vlines\\ndef histogram_boxplot(feature, figsize=(15, 10), bins=None):\\n    \\\"\\\"\\\"Boxplot and histogram combined\\n    feature: 1-d feature array\\n    figsize: size of fig (default (9,8))\\n    bins: number of bins (default None / auto)\\n    \\\"\\\"\\\"\\n    f2, (ax_box2, ax_hist2) = plt.subplots(\\n        nrows=2,\\n        sharex=True,\\n        gridspec_kw={\\\"height_ratios\\\": (0.25, 0.75)},\\n        figsize=figsize,\\n    )\\n    sns.boxplot(feature, ax=ax_box2, showmeans=True, color=\\\"violet\\\")\\n    sns.distplot(\\n        feature, kde=F, ax=ax_hist2, bins=bins, palette=\\\"winter\\\"\\n    ) if bins else sns.distplot(feature, kde=False, ax=ax_hist2)\\n    ax_hist2.axvline(np.mean(feature), color=\\\"green\\\", linestyle=\\\"--\\\")\\n    ax_hist2.axvline(np.median(feature), color=\\\"black\\\", linestyle=\\\"-\\\")\";\n",
       "                var nbb_cells = Jupyter.notebook.get_cells();\n",
       "                for (var i = 0; i < nbb_cells.length; ++i) {\n",
       "                    if (nbb_cells[i].input_prompt_number == nbb_cell_id) {\n",
       "                        if (nbb_cells[i].get_text() == nbb_unformatted_code) {\n",
       "                             nbb_cells[i].set_text(nbb_formatted_code);\n",
       "                        }\n",
       "                        break;\n",
       "                    }\n",
       "                }\n",
       "            }, 500);\n",
       "            "
      ],
      "text/plain": [
       "<IPython.core.display.Javascript object>"
      ]
     },
     "metadata": {},
     "output_type": "display_data"
    }
   ],
   "source": [
    "# Defining a function to show percentage on bars for our countplots\n",
    "def percent(plot, feature):\n",
    "    \"\"\"\n",
    "    plot\n",
    "    feature: categorical feature\n",
    "    the function won't work if a column is passed in hue parameter\n",
    "    \"\"\"\n",
    "    total = len(feature)\n",
    "    for p in ax.patches:\n",
    "        percentage = \"{:.1f}%\".format(100 * p.get_height() / total)\n",
    "        x = p.get_x() + p.get_width() / 2 - 0.05\n",
    "        y = p.get_y() + p.get_height()\n",
    "        ax.annotate(percentage, (x, y), size=12)\n",
    "    plt.show()\n",
    "\n",
    "\n",
    "# Defining a histogram function to show us outliers and boxplot, as well as median and mean vlines\n",
    "def histogram_boxplot(feature, figsize=(15, 10), bins=None):\n",
    "    \"\"\"Boxplot and histogram combined\n",
    "    feature: 1-d feature array\n",
    "    figsize: size of fig (default (9,8))\n",
    "    bins: number of bins (default None / auto)\n",
    "    \"\"\"\n",
    "    f2, (ax_box2, ax_hist2) = plt.subplots(\n",
    "        nrows=2,\n",
    "        sharex=True,\n",
    "        gridspec_kw={\"height_ratios\": (0.25, 0.75)},\n",
    "        figsize=figsize,\n",
    "    )\n",
    "    sns.boxplot(feature, ax=ax_box2, showmeans=True, color=\"violet\")\n",
    "    sns.distplot(\n",
    "        feature, kde=F, ax=ax_hist2, bins=bins, palette=\"winter\"\n",
    "    ) if bins else sns.distplot(feature, kde=False, ax=ax_hist2)\n",
    "    ax_hist2.axvline(np.mean(feature), color=\"green\", linestyle=\"--\")\n",
    "    ax_hist2.axvline(np.median(feature), color=\"black\", linestyle=\"-\")"
   ]
  },
  {
   "cell_type": "markdown",
   "metadata": {},
   "source": [
    "### Univariate Analysis"
   ]
  },
  {
   "cell_type": "code",
   "execution_count": 20,
   "metadata": {
    "scrolled": true
   },
   "outputs": [
    {
     "data": {
      "image/png": "[encoded data removed]",
      "text/plain": [
       "<Figure size 1080x360 with 1 Axes>"
      ]
     },
     "metadata": {
      "needs_background": "light"
     },
     "output_type": "display_data"
    },
    {
     "data": {
      "application/javascript": [
       "\n",
       "            setTimeout(function() {\n",
       "                var nbb_cell_id = 20;\n",
       "                var nbb_unformatted_code = \"# Countplot of ProdTaken\\nplt.figure(figsize=(15, 5))\\nax = sns.countplot(data[\\\"ProdTaken\\\"], palette=\\\"winter\\\")\\npercent(ax, data[\\\"ProdTaken\\\"])\";\n",
       "                var nbb_formatted_code = \"# Countplot of ProdTaken\\nplt.figure(figsize=(15, 5))\\nax = sns.countplot(data[\\\"ProdTaken\\\"], palette=\\\"winter\\\")\\npercent(ax, data[\\\"ProdTaken\\\"])\";\n",
       "                var nbb_cells = Jupyter.notebook.get_cells();\n",
       "                for (var i = 0; i < nbb_cells.length; ++i) {\n",
       "                    if (nbb_cells[i].input_prompt_number == nbb_cell_id) {\n",
       "                        if (nbb_cells[i].get_text() == nbb_unformatted_code) {\n",
       "                             nbb_cells[i].set_text(nbb_formatted_code);\n",
       "                        }\n",
       "                        break;\n",
       "                    }\n",
       "                }\n",
       "            }, 500);\n",
       "            "
      ],
      "text/plain": [
       "<IPython.core.display.Javascript object>"
      ]
     },
     "metadata": {},
     "output_type": "display_data"
    }
   ],
   "source": [
    "# Countplot of ProdTaken\n",
    "plt.figure(figsize=(15, 5))\n",
    "ax = sns.countplot(data[\"ProdTaken\"], palette=\"winter\")\n",
    "percent(ax, data[\"ProdTaken\"])"
   ]
  },
  {
   "cell_type": "markdown",
   "metadata": {},
   "source": [
    "#### Observations\n",
    "I see roughly a 20% average conversion rate in the dataset."
   ]
  },
  {
   "cell_type": "code",
   "execution_count": 21,
   "metadata": {},
   "outputs": [
    {
     "data": {
      "image/png": "[encoded data removed]",
      "text/plain": [
       "<Figure size 1080x720 with 2 Axes>"
      ]
     },
     "metadata": {
      "needs_background": "light"
     },
     "output_type": "display_data"
    },
    {
     "data": {
      "application/javascript": [
       "\n",
       "            setTimeout(function() {\n",
       "                var nbb_cell_id = 21;\n",
       "                var nbb_unformatted_code = \"# Histogram showing Age\\nhistogram_boxplot(data[\\\"Age\\\"])\";\n",
       "                var nbb_formatted_code = \"# Histogram showing Age\\nhistogram_boxplot(data[\\\"Age\\\"])\";\n",
       "                var nbb_cells = Jupyter.notebook.get_cells();\n",
       "                for (var i = 0; i < nbb_cells.length; ++i) {\n",
       "                    if (nbb_cells[i].input_prompt_number == nbb_cell_id) {\n",
       "                        if (nbb_cells[i].get_text() == nbb_unformatted_code) {\n",
       "                             nbb_cells[i].set_text(nbb_formatted_code);\n",
       "                        }\n",
       "                        break;\n",
       "                    }\n",
       "                }\n",
       "            }, 500);\n",
       "            "
      ],
      "text/plain": [
       "<IPython.core.display.Javascript object>"
      ]
     },
     "metadata": {},
     "output_type": "display_data"
    }
   ],
   "source": [
    "# Histogram showing Age\n",
    "histogram_boxplot(data[\"Age\"])"
   ]
  },
  {
   "cell_type": "markdown",
   "metadata": {},
   "source": [
    "#### Observations\n",
    "There is a right skew with our mean being higher than the median."
   ]
  },
  {
   "cell_type": "code",
   "execution_count": 22,
   "metadata": {},
   "outputs": [
    {
     "data": {
      "image/png": "[encoded data removed]",
      "text/plain": [
       "<Figure size 1080x360 with 1 Axes>"
      ]
     },
     "metadata": {
      "needs_background": "light"
     },
     "output_type": "display_data"
    },
    {
     "data": {
      "application/javascript": [
       "\n",
       "            setTimeout(function() {\n",
       "                var nbb_cell_id = 22;\n",
       "                var nbb_unformatted_code = \"# Countplot of TypeofContact\\nplt.figure(figsize=(15, 5))\\nax = sns.countplot(data[\\\"TypeofContact\\\"], palette=\\\"winter\\\")\\npercent(ax, data[\\\"TypeofContact\\\"])\";\n",
       "                var nbb_formatted_code = \"# Countplot of TypeofContact\\nplt.figure(figsize=(15, 5))\\nax = sns.countplot(data[\\\"TypeofContact\\\"], palette=\\\"winter\\\")\\npercent(ax, data[\\\"TypeofContact\\\"])\";\n",
       "                var nbb_cells = Jupyter.notebook.get_cells();\n",
       "                for (var i = 0; i < nbb_cells.length; ++i) {\n",
       "                    if (nbb_cells[i].input_prompt_number == nbb_cell_id) {\n",
       "                        if (nbb_cells[i].get_text() == nbb_unformatted_code) {\n",
       "                             nbb_cells[i].set_text(nbb_formatted_code);\n",
       "                        }\n",
       "                        break;\n",
       "                    }\n",
       "                }\n",
       "            }, 500);\n",
       "            "
      ],
      "text/plain": [
       "<IPython.core.display.Javascript object>"
      ]
     },
     "metadata": {},
     "output_type": "display_data"
    }
   ],
   "source": [
    "# Countplot of TypeofContact\n",
    "plt.figure(figsize=(15, 5))\n",
    "ax = sns.countplot(data[\"TypeofContact\"], palette=\"winter\")\n",
    "percent(ax, data[\"TypeofContact\"])"
   ]
  },
  {
   "cell_type": "markdown",
   "metadata": {},
   "source": [
    "#### Observations\n",
    "I see that 70% of the dataset is Self Inquiry for TypeOfContact"
   ]
  },
  {
   "cell_type": "code",
   "execution_count": 23,
   "metadata": {},
   "outputs": [
    {
     "data": {
      "image/png": "[encoded data removed]",
      "text/plain": [
       "<Figure size 1080x360 with 1 Axes>"
      ]
     },
     "metadata": {
      "needs_background": "light"
     },
     "output_type": "display_data"
    },
    {
     "data": {
      "application/javascript": [
       "\n",
       "            setTimeout(function() {\n",
       "                var nbb_cell_id = 23;\n",
       "                var nbb_unformatted_code = \"# Countplot of CityTier\\nplt.figure(figsize=(15, 5))\\nax = sns.countplot(data[\\\"CityTier\\\"], palette=\\\"winter\\\")\\npercent(ax, data[\\\"CityTier\\\"])\";\n",
       "                var nbb_formatted_code = \"# Countplot of CityTier\\nplt.figure(figsize=(15, 5))\\nax = sns.countplot(data[\\\"CityTier\\\"], palette=\\\"winter\\\")\\npercent(ax, data[\\\"CityTier\\\"])\";\n",
       "                var nbb_cells = Jupyter.notebook.get_cells();\n",
       "                for (var i = 0; i < nbb_cells.length; ++i) {\n",
       "                    if (nbb_cells[i].input_prompt_number == nbb_cell_id) {\n",
       "                        if (nbb_cells[i].get_text() == nbb_unformatted_code) {\n",
       "                             nbb_cells[i].set_text(nbb_formatted_code);\n",
       "                        }\n",
       "                        break;\n",
       "                    }\n",
       "                }\n",
       "            }, 500);\n",
       "            "
      ],
      "text/plain": [
       "<IPython.core.display.Javascript object>"
      ]
     },
     "metadata": {},
     "output_type": "display_data"
    }
   ],
   "source": [
    "# Countplot of CityTier\n",
    "plt.figure(figsize=(15, 5))\n",
    "ax = sns.countplot(data[\"CityTier\"], palette=\"winter\")\n",
    "percent(ax, data[\"CityTier\"])"
   ]
  },
  {
   "cell_type": "markdown",
   "metadata": {},
   "source": [
    "#### Observations\n",
    "CityTier 2 is quite rare, occupying 3.9% of the dataset. CityTier 1 is the majority, taking up about two-thirds of the dataset."
   ]
  },
  {
   "cell_type": "code",
   "execution_count": 24,
   "metadata": {},
   "outputs": [
    {
     "data": {
      "image/png": "[encoded data removed]",
      "text/plain": [
       "<Figure size 1080x720 with 2 Axes>"
      ]
     },
     "metadata": {
      "needs_background": "light"
     },
     "output_type": "display_data"
    },
    {
     "data": {
      "application/javascript": [
       "\n",
       "            setTimeout(function() {\n",
       "                var nbb_cell_id = 24;\n",
       "                var nbb_unformatted_code = \"# Histogram showing DurationOfPitch\\nhistogram_boxplot(data[\\\"DurationOfPitch\\\"])\";\n",
       "                var nbb_formatted_code = \"# Histogram showing DurationOfPitch\\nhistogram_boxplot(data[\\\"DurationOfPitch\\\"])\";\n",
       "                var nbb_cells = Jupyter.notebook.get_cells();\n",
       "                for (var i = 0; i < nbb_cells.length; ++i) {\n",
       "                    if (nbb_cells[i].input_prompt_number == nbb_cell_id) {\n",
       "                        if (nbb_cells[i].get_text() == nbb_unformatted_code) {\n",
       "                             nbb_cells[i].set_text(nbb_formatted_code);\n",
       "                        }\n",
       "                        break;\n",
       "                    }\n",
       "                }\n",
       "            }, 500);\n",
       "            "
      ],
      "text/plain": [
       "<IPython.core.display.Javascript object>"
      ]
     },
     "metadata": {},
     "output_type": "display_data"
    }
   ],
   "source": [
    "# Histogram showing DurationOfPitch\n",
    "histogram_boxplot(data[\"DurationOfPitch\"])"
   ]
  },
  {
   "cell_type": "markdown",
   "metadata": {},
   "source": [
    "#### Observations\n",
    "There is an outlier here that will be remedied later.  The mean is greater than the median, indicating a right skew in the data."
   ]
  },
  {
   "cell_type": "code",
   "execution_count": 25,
   "metadata": {
    "scrolled": false
   },
   "outputs": [
    {
     "data": {
      "image/png": "[encoded data removed]",
      "text/plain": [
       "<Figure size 1080x360 with 1 Axes>"
      ]
     },
     "metadata": {
      "needs_background": "light"
     },
     "output_type": "display_data"
    },
    {
     "data": {
      "application/javascript": [
       "\n",
       "            setTimeout(function() {\n",
       "                var nbb_cell_id = 25;\n",
       "                var nbb_unformatted_code = \"# Countplot of Occupation\\nplt.figure(figsize=(15, 5))\\nax = sns.countplot(data[\\\"Occupation\\\"], palette=\\\"winter\\\")\\npercent(ax, data[\\\"Occupation\\\"])\";\n",
       "                var nbb_formatted_code = \"# Countplot of Occupation\\nplt.figure(figsize=(15, 5))\\nax = sns.countplot(data[\\\"Occupation\\\"], palette=\\\"winter\\\")\\npercent(ax, data[\\\"Occupation\\\"])\";\n",
       "                var nbb_cells = Jupyter.notebook.get_cells();\n",
       "                for (var i = 0; i < nbb_cells.length; ++i) {\n",
       "                    if (nbb_cells[i].input_prompt_number == nbb_cell_id) {\n",
       "                        if (nbb_cells[i].get_text() == nbb_unformatted_code) {\n",
       "                             nbb_cells[i].set_text(nbb_formatted_code);\n",
       "                        }\n",
       "                        break;\n",
       "                    }\n",
       "                }\n",
       "            }, 500);\n",
       "            "
      ],
      "text/plain": [
       "<IPython.core.display.Javascript object>"
      ]
     },
     "metadata": {},
     "output_type": "display_data"
    }
   ],
   "source": [
    "# Countplot of Occupation\n",
    "plt.figure(figsize=(15, 5))\n",
    "ax = sns.countplot(data[\"Occupation\"], palette=\"winter\")\n",
    "percent(ax, data[\"Occupation\"])"
   ]
  },
  {
   "cell_type": "markdown",
   "metadata": {},
   "source": [
    "#### Observations\n",
    "Salaried and Small Business take up a large majority of the dataset."
   ]
  },
  {
   "cell_type": "code",
   "execution_count": 26,
   "metadata": {},
   "outputs": [
    {
     "data": {
      "image/png": "[encoded data removed]",
      "text/plain": [
       "<Figure size 1080x360 with 1 Axes>"
      ]
     },
     "metadata": {
      "needs_background": "light"
     },
     "output_type": "display_data"
    },
    {
     "data": {
      "application/javascript": [
       "\n",
       "            setTimeout(function() {\n",
       "                var nbb_cell_id = 26;\n",
       "                var nbb_unformatted_code = \"# Countplot of Gender\\nplt.figure(figsize=(15, 5))\\nax = sns.countplot(data[\\\"Gender\\\"], palette=\\\"winter\\\")\\npercent(ax, data[\\\"Gender\\\"])\";\n",
       "                var nbb_formatted_code = \"# Countplot of Gender\\nplt.figure(figsize=(15, 5))\\nax = sns.countplot(data[\\\"Gender\\\"], palette=\\\"winter\\\")\\npercent(ax, data[\\\"Gender\\\"])\";\n",
       "                var nbb_cells = Jupyter.notebook.get_cells();\n",
       "                for (var i = 0; i < nbb_cells.length; ++i) {\n",
       "                    if (nbb_cells[i].input_prompt_number == nbb_cell_id) {\n",
       "                        if (nbb_cells[i].get_text() == nbb_unformatted_code) {\n",
       "                             nbb_cells[i].set_text(nbb_formatted_code);\n",
       "                        }\n",
       "                        break;\n",
       "                    }\n",
       "                }\n",
       "            }, 500);\n",
       "            "
      ],
      "text/plain": [
       "<IPython.core.display.Javascript object>"
      ]
     },
     "metadata": {},
     "output_type": "display_data"
    }
   ],
   "source": [
    "# Countplot of Gender\n",
    "plt.figure(figsize=(15, 5))\n",
    "ax = sns.countplot(data[\"Gender\"], palette=\"winter\")\n",
    "percent(ax, data[\"Gender\"])"
   ]
  },
  {
   "cell_type": "markdown",
   "metadata": {},
   "source": [
    "#### Observations\n",
    "There is slightly more males in the dataset. I will determine if Gender plays a factor in conversion."
   ]
  },
  {
   "cell_type": "code",
   "execution_count": 27,
   "metadata": {},
   "outputs": [
    {
     "data": {
      "image/png": "[encoded data removed]",
      "text/plain": [
       "<Figure size 1080x360 with 1 Axes>"
      ]
     },
     "metadata": {
      "needs_background": "light"
     },
     "output_type": "display_data"
    },
    {
     "data": {
      "application/javascript": [
       "\n",
       "            setTimeout(function() {\n",
       "                var nbb_cell_id = 27;\n",
       "                var nbb_unformatted_code = \"# Countplot of NumberOfPersonVisiting\\nplt.figure(figsize=(15, 5))\\nax = sns.countplot(data[\\\"NumberOfPersonVisiting\\\"], palette=\\\"winter\\\")\\npercent(ax, data[\\\"NumberOfPersonVisiting\\\"])\";\n",
       "                var nbb_formatted_code = \"# Countplot of NumberOfPersonVisiting\\nplt.figure(figsize=(15, 5))\\nax = sns.countplot(data[\\\"NumberOfPersonVisiting\\\"], palette=\\\"winter\\\")\\npercent(ax, data[\\\"NumberOfPersonVisiting\\\"])\";\n",
       "                var nbb_cells = Jupyter.notebook.get_cells();\n",
       "                for (var i = 0; i < nbb_cells.length; ++i) {\n",
       "                    if (nbb_cells[i].input_prompt_number == nbb_cell_id) {\n",
       "                        if (nbb_cells[i].get_text() == nbb_unformatted_code) {\n",
       "                             nbb_cells[i].set_text(nbb_formatted_code);\n",
       "                        }\n",
       "                        break;\n",
       "                    }\n",
       "                }\n",
       "            }, 500);\n",
       "            "
      ],
      "text/plain": [
       "<IPython.core.display.Javascript object>"
      ]
     },
     "metadata": {},
     "output_type": "display_data"
    }
   ],
   "source": [
    "# Countplot of NumberOfPersonVisiting\n",
    "plt.figure(figsize=(15, 5))\n",
    "ax = sns.countplot(data[\"NumberOfPersonVisiting\"], palette=\"winter\")\n",
    "percent(ax, data[\"NumberOfPersonVisiting\"])"
   ]
  },
  {
   "cell_type": "markdown",
   "metadata": {},
   "source": [
    "#### Observations\n",
    "NumberOfPersonVisiting mainly ranges from 2-4.  These three categories take up 99% of the dataset."
   ]
  },
  {
   "cell_type": "code",
   "execution_count": 28,
   "metadata": {},
   "outputs": [
    {
     "data": {
      "image/png": "[encoded data removed]",
      "text/plain": [
       "<Figure size 1080x360 with 1 Axes>"
      ]
     },
     "metadata": {
      "needs_background": "light"
     },
     "output_type": "display_data"
    },
    {
     "data": {
      "application/javascript": [
       "\n",
       "            setTimeout(function() {\n",
       "                var nbb_cell_id = 28;\n",
       "                var nbb_unformatted_code = \"# Countplot of NumberOfFollowups\\nplt.figure(figsize=(15, 5))\\nax = sns.countplot(data[\\\"NumberOfFollowups\\\"], palette=\\\"winter\\\")\\npercent(ax, data[\\\"NumberOfFollowups\\\"])\";\n",
       "                var nbb_formatted_code = \"# Countplot of NumberOfFollowups\\nplt.figure(figsize=(15, 5))\\nax = sns.countplot(data[\\\"NumberOfFollowups\\\"], palette=\\\"winter\\\")\\npercent(ax, data[\\\"NumberOfFollowups\\\"])\";\n",
       "                var nbb_cells = Jupyter.notebook.get_cells();\n",
       "                for (var i = 0; i < nbb_cells.length; ++i) {\n",
       "                    if (nbb_cells[i].input_prompt_number == nbb_cell_id) {\n",
       "                        if (nbb_cells[i].get_text() == nbb_unformatted_code) {\n",
       "                             nbb_cells[i].set_text(nbb_formatted_code);\n",
       "                        }\n",
       "                        break;\n",
       "                    }\n",
       "                }\n",
       "            }, 500);\n",
       "            "
      ],
      "text/plain": [
       "<IPython.core.display.Javascript object>"
      ]
     },
     "metadata": {},
     "output_type": "display_data"
    }
   ],
   "source": [
    "# Countplot of NumberOfFollowups\n",
    "plt.figure(figsize=(15, 5))\n",
    "ax = sns.countplot(data[\"NumberOfFollowups\"], palette=\"winter\")\n",
    "percent(ax, data[\"NumberOfFollowups\"])"
   ]
  },
  {
   "cell_type": "markdown",
   "metadata": {},
   "source": [
    "#### Observations\n",
    "Most of the dataset is between 3 to 5 followups.  "
   ]
  },
  {
   "cell_type": "code",
   "execution_count": 29,
   "metadata": {},
   "outputs": [
    {
     "data": {
      "image/png": "[encoded data removed]",
      "text/plain": [
       "<Figure size 1080x360 with 1 Axes>"
      ]
     },
     "metadata": {
      "needs_background": "light"
     },
     "output_type": "display_data"
    },
    {
     "data": {
      "application/javascript": [
       "\n",
       "            setTimeout(function() {\n",
       "                var nbb_cell_id = 29;\n",
       "                var nbb_unformatted_code = \"# Countplot of ProductPitched\\nplt.figure(figsize=(15, 5))\\nax = sns.countplot(data[\\\"ProductPitched\\\"], palette=\\\"winter\\\")\\npercent(ax, data[\\\"ProductPitched\\\"])\";\n",
       "                var nbb_formatted_code = \"# Countplot of ProductPitched\\nplt.figure(figsize=(15, 5))\\nax = sns.countplot(data[\\\"ProductPitched\\\"], palette=\\\"winter\\\")\\npercent(ax, data[\\\"ProductPitched\\\"])\";\n",
       "                var nbb_cells = Jupyter.notebook.get_cells();\n",
       "                for (var i = 0; i < nbb_cells.length; ++i) {\n",
       "                    if (nbb_cells[i].input_prompt_number == nbb_cell_id) {\n",
       "                        if (nbb_cells[i].get_text() == nbb_unformatted_code) {\n",
       "                             nbb_cells[i].set_text(nbb_formatted_code);\n",
       "                        }\n",
       "                        break;\n",
       "                    }\n",
       "                }\n",
       "            }, 500);\n",
       "            "
      ],
      "text/plain": [
       "<IPython.core.display.Javascript object>"
      ]
     },
     "metadata": {},
     "output_type": "display_data"
    }
   ],
   "source": [
    "# Countplot of ProductPitched\n",
    "plt.figure(figsize=(15, 5))\n",
    "ax = sns.countplot(data[\"ProductPitched\"], palette=\"winter\")\n",
    "percent(ax, data[\"ProductPitched\"])"
   ]
  },
  {
   "cell_type": "markdown",
   "metadata": {},
   "source": [
    "#### Observations\n",
    "Basic and deluxe are by far the most pitched between the 5 products."
   ]
  },
  {
   "cell_type": "code",
   "execution_count": 30,
   "metadata": {},
   "outputs": [
    {
     "data": {
      "image/png": "[encoded data removed]",
      "text/plain": [
       "<Figure size 1080x360 with 1 Axes>"
      ]
     },
     "metadata": {
      "needs_background": "light"
     },
     "output_type": "display_data"
    },
    {
     "data": {
      "application/javascript": [
       "\n",
       "            setTimeout(function() {\n",
       "                var nbb_cell_id = 30;\n",
       "                var nbb_unformatted_code = \"# Countplot of PreferredPropertyStar\\nplt.figure(figsize=(15, 5))\\nax = sns.countplot(data[\\\"PreferredPropertyStar\\\"], palette=\\\"winter\\\")\\npercent(ax, data[\\\"PreferredPropertyStar\\\"])\";\n",
       "                var nbb_formatted_code = \"# Countplot of PreferredPropertyStar\\nplt.figure(figsize=(15, 5))\\nax = sns.countplot(data[\\\"PreferredPropertyStar\\\"], palette=\\\"winter\\\")\\npercent(ax, data[\\\"PreferredPropertyStar\\\"])\";\n",
       "                var nbb_cells = Jupyter.notebook.get_cells();\n",
       "                for (var i = 0; i < nbb_cells.length; ++i) {\n",
       "                    if (nbb_cells[i].input_prompt_number == nbb_cell_id) {\n",
       "                        if (nbb_cells[i].get_text() == nbb_unformatted_code) {\n",
       "                             nbb_cells[i].set_text(nbb_formatted_code);\n",
       "                        }\n",
       "                        break;\n",
       "                    }\n",
       "                }\n",
       "            }, 500);\n",
       "            "
      ],
      "text/plain": [
       "<IPython.core.display.Javascript object>"
      ]
     },
     "metadata": {},
     "output_type": "display_data"
    }
   ],
   "source": [
    "# Countplot of PreferredPropertyStar\n",
    "plt.figure(figsize=(15, 5))\n",
    "ax = sns.countplot(data[\"PreferredPropertyStar\"], palette=\"winter\")\n",
    "percent(ax, data[\"PreferredPropertyStar\"])"
   ]
  },
  {
   "cell_type": "markdown",
   "metadata": {},
   "source": [
    "#### Observations\n",
    "3 is the most common, occupying three-fifths of the data."
   ]
  },
  {
   "cell_type": "code",
   "execution_count": 31,
   "metadata": {},
   "outputs": [
    {
     "data": {
      "image/png": "[encoded data removed]",
      "text/plain": [
       "<Figure size 1080x360 with 1 Axes>"
      ]
     },
     "metadata": {
      "needs_background": "light"
     },
     "output_type": "display_data"
    },
    {
     "data": {
      "application/javascript": [
       "\n",
       "            setTimeout(function() {\n",
       "                var nbb_cell_id = 31;\n",
       "                var nbb_unformatted_code = \"# Countplot of MaritalStatus\\nplt.figure(figsize=(15, 5))\\nax = sns.countplot(data[\\\"MaritalStatus\\\"], palette=\\\"winter\\\")\\npercent(ax, data[\\\"MaritalStatus\\\"])\";\n",
       "                var nbb_formatted_code = \"# Countplot of MaritalStatus\\nplt.figure(figsize=(15, 5))\\nax = sns.countplot(data[\\\"MaritalStatus\\\"], palette=\\\"winter\\\")\\npercent(ax, data[\\\"MaritalStatus\\\"])\";\n",
       "                var nbb_cells = Jupyter.notebook.get_cells();\n",
       "                for (var i = 0; i < nbb_cells.length; ++i) {\n",
       "                    if (nbb_cells[i].input_prompt_number == nbb_cell_id) {\n",
       "                        if (nbb_cells[i].get_text() == nbb_unformatted_code) {\n",
       "                             nbb_cells[i].set_text(nbb_formatted_code);\n",
       "                        }\n",
       "                        break;\n",
       "                    }\n",
       "                }\n",
       "            }, 500);\n",
       "            "
      ],
      "text/plain": [
       "<IPython.core.display.Javascript object>"
      ]
     },
     "metadata": {},
     "output_type": "display_data"
    }
   ],
   "source": [
    "# Countplot of MaritalStatus\n",
    "plt.figure(figsize=(15, 5))\n",
    "ax = sns.countplot(data[\"MaritalStatus\"], palette=\"winter\")\n",
    "percent(ax, data[\"MaritalStatus\"])"
   ]
  },
  {
   "cell_type": "markdown",
   "metadata": {},
   "source": [
    "#### Observations\n",
    "Married takes up half the dataset, otherwise the other 3 categories are quite even."
   ]
  },
  {
   "cell_type": "code",
   "execution_count": 32,
   "metadata": {},
   "outputs": [
    {
     "data": {
      "image/png": "[encoded data removed]",
      "text/plain": [
       "<Figure size 1080x720 with 2 Axes>"
      ]
     },
     "metadata": {
      "needs_background": "light"
     },
     "output_type": "display_data"
    },
    {
     "data": {
      "application/javascript": [
       "\n",
       "            setTimeout(function() {\n",
       "                var nbb_cell_id = 32;\n",
       "                var nbb_unformatted_code = \"# Histogram showing NumberOfTrips\\nhistogram_boxplot(data[\\\"NumberOfTrips\\\"])\";\n",
       "                var nbb_formatted_code = \"# Histogram showing NumberOfTrips\\nhistogram_boxplot(data[\\\"NumberOfTrips\\\"])\";\n",
       "                var nbb_cells = Jupyter.notebook.get_cells();\n",
       "                for (var i = 0; i < nbb_cells.length; ++i) {\n",
       "                    if (nbb_cells[i].input_prompt_number == nbb_cell_id) {\n",
       "                        if (nbb_cells[i].get_text() == nbb_unformatted_code) {\n",
       "                             nbb_cells[i].set_text(nbb_formatted_code);\n",
       "                        }\n",
       "                        break;\n",
       "                    }\n",
       "                }\n",
       "            }, 500);\n",
       "            "
      ],
      "text/plain": [
       "<IPython.core.display.Javascript object>"
      ]
     },
     "metadata": {},
     "output_type": "display_data"
    }
   ],
   "source": [
    "# Histogram showing NumberOfTrips\n",
    "histogram_boxplot(data[\"NumberOfTrips\"])"
   ]
  },
  {
   "cell_type": "markdown",
   "metadata": {},
   "source": [
    "#### Observations\n",
    "There are some major outliers in this variable that need some treatment later.  There is a right skew, with the mean being greater than the median."
   ]
  },
  {
   "cell_type": "code",
   "execution_count": 33,
   "metadata": {},
   "outputs": [
    {
     "data": {
      "image/png": "[encoded data removed]",
      "text/plain": [
       "<Figure size 1080x360 with 1 Axes>"
      ]
     },
     "metadata": {
      "needs_background": "light"
     },
     "output_type": "display_data"
    },
    {
     "data": {
      "application/javascript": [
       "\n",
       "            setTimeout(function() {\n",
       "                var nbb_cell_id = 33;\n",
       "                var nbb_unformatted_code = \"# Countplot of Passport\\nplt.figure(figsize=(15, 5))\\nax = sns.countplot(data[\\\"Passport\\\"], palette=\\\"winter\\\")\\npercent(ax, data[\\\"Passport\\\"])\";\n",
       "                var nbb_formatted_code = \"# Countplot of Passport\\nplt.figure(figsize=(15, 5))\\nax = sns.countplot(data[\\\"Passport\\\"], palette=\\\"winter\\\")\\npercent(ax, data[\\\"Passport\\\"])\";\n",
       "                var nbb_cells = Jupyter.notebook.get_cells();\n",
       "                for (var i = 0; i < nbb_cells.length; ++i) {\n",
       "                    if (nbb_cells[i].input_prompt_number == nbb_cell_id) {\n",
       "                        if (nbb_cells[i].get_text() == nbb_unformatted_code) {\n",
       "                             nbb_cells[i].set_text(nbb_formatted_code);\n",
       "                        }\n",
       "                        break;\n",
       "                    }\n",
       "                }\n",
       "            }, 500);\n",
       "            "
      ],
      "text/plain": [
       "<IPython.core.display.Javascript object>"
      ]
     },
     "metadata": {},
     "output_type": "display_data"
    }
   ],
   "source": [
    "# Countplot of Passport\n",
    "plt.figure(figsize=(15, 5))\n",
    "ax = sns.countplot(data[\"Passport\"], palette=\"winter\")\n",
    "percent(ax, data[\"Passport\"])"
   ]
  },
  {
   "cell_type": "markdown",
   "metadata": {},
   "source": [
    "#### Observations\n",
    "70% do not have a passport."
   ]
  },
  {
   "cell_type": "code",
   "execution_count": 34,
   "metadata": {},
   "outputs": [
    {
     "data": {
      "image/png": "[encoded data removed]",
      "text/plain": [
       "<Figure size 1080x360 with 1 Axes>"
      ]
     },
     "metadata": {
      "needs_background": "light"
     },
     "output_type": "display_data"
    },
    {
     "data": {
      "application/javascript": [
       "\n",
       "            setTimeout(function() {\n",
       "                var nbb_cell_id = 34;\n",
       "                var nbb_unformatted_code = \"# Countplot of PitchSatisfactionScore\\nplt.figure(figsize=(15, 5))\\nax = sns.countplot(data[\\\"PitchSatisfactionScore\\\"], palette=\\\"winter\\\")\\npercent(ax, data[\\\"PitchSatisfactionScore\\\"])\";\n",
       "                var nbb_formatted_code = \"# Countplot of PitchSatisfactionScore\\nplt.figure(figsize=(15, 5))\\nax = sns.countplot(data[\\\"PitchSatisfactionScore\\\"], palette=\\\"winter\\\")\\npercent(ax, data[\\\"PitchSatisfactionScore\\\"])\";\n",
       "                var nbb_cells = Jupyter.notebook.get_cells();\n",
       "                for (var i = 0; i < nbb_cells.length; ++i) {\n",
       "                    if (nbb_cells[i].input_prompt_number == nbb_cell_id) {\n",
       "                        if (nbb_cells[i].get_text() == nbb_unformatted_code) {\n",
       "                             nbb_cells[i].set_text(nbb_formatted_code);\n",
       "                        }\n",
       "                        break;\n",
       "                    }\n",
       "                }\n",
       "            }, 500);\n",
       "            "
      ],
      "text/plain": [
       "<IPython.core.display.Javascript object>"
      ]
     },
     "metadata": {},
     "output_type": "display_data"
    }
   ],
   "source": [
    "# Countplot of PitchSatisfactionScore\n",
    "plt.figure(figsize=(15, 5))\n",
    "ax = sns.countplot(data[\"PitchSatisfactionScore\"], palette=\"winter\")\n",
    "percent(ax, data[\"PitchSatisfactionScore\"])"
   ]
  },
  {
   "cell_type": "markdown",
   "metadata": {},
   "source": [
    "#### Observations\n",
    "These variables are quite even."
   ]
  },
  {
   "cell_type": "code",
   "execution_count": 35,
   "metadata": {},
   "outputs": [
    {
     "data": {
      "image/png": "[encoded data removed]",
      "text/plain": [
       "<Figure size 1080x360 with 1 Axes>"
      ]
     },
     "metadata": {
      "needs_background": "light"
     },
     "output_type": "display_data"
    },
    {
     "data": {
      "application/javascript": [
       "\n",
       "            setTimeout(function() {\n",
       "                var nbb_cell_id = 35;\n",
       "                var nbb_unformatted_code = \"# Countplot of OwnCar\\nplt.figure(figsize=(15, 5))\\nax = sns.countplot(data[\\\"OwnCar\\\"], palette=\\\"winter\\\")\\npercent(ax, data[\\\"OwnCar\\\"])\";\n",
       "                var nbb_formatted_code = \"# Countplot of OwnCar\\nplt.figure(figsize=(15, 5))\\nax = sns.countplot(data[\\\"OwnCar\\\"], palette=\\\"winter\\\")\\npercent(ax, data[\\\"OwnCar\\\"])\";\n",
       "                var nbb_cells = Jupyter.notebook.get_cells();\n",
       "                for (var i = 0; i < nbb_cells.length; ++i) {\n",
       "                    if (nbb_cells[i].input_prompt_number == nbb_cell_id) {\n",
       "                        if (nbb_cells[i].get_text() == nbb_unformatted_code) {\n",
       "                             nbb_cells[i].set_text(nbb_formatted_code);\n",
       "                        }\n",
       "                        break;\n",
       "                    }\n",
       "                }\n",
       "            }, 500);\n",
       "            "
      ],
      "text/plain": [
       "<IPython.core.display.Javascript object>"
      ]
     },
     "metadata": {},
     "output_type": "display_data"
    }
   ],
   "source": [
    "# Countplot of OwnCar\n",
    "plt.figure(figsize=(15, 5))\n",
    "ax = sns.countplot(data[\"OwnCar\"], palette=\"winter\")\n",
    "percent(ax, data[\"OwnCar\"])"
   ]
  },
  {
   "cell_type": "markdown",
   "metadata": {},
   "source": [
    "#### Observations\n",
    "60% own a car."
   ]
  },
  {
   "cell_type": "code",
   "execution_count": 36,
   "metadata": {},
   "outputs": [
    {
     "data": {
      "image/png": "[encoded data removed]",
      "text/plain": [
       "<Figure size 1080x360 with 1 Axes>"
      ]
     },
     "metadata": {
      "needs_background": "light"
     },
     "output_type": "display_data"
    },
    {
     "data": {
      "application/javascript": [
       "\n",
       "            setTimeout(function() {\n",
       "                var nbb_cell_id = 36;\n",
       "                var nbb_unformatted_code = \"# Countplot of NumberOfChildrenVisiting\\nplt.figure(figsize=(15, 5))\\nax = sns.countplot(data[\\\"NumberOfChildrenVisiting\\\"], palette=\\\"winter\\\")\\npercent(ax, data[\\\"NumberOfChildrenVisiting\\\"])\";\n",
       "                var nbb_formatted_code = \"# Countplot of NumberOfChildrenVisiting\\nplt.figure(figsize=(15, 5))\\nax = sns.countplot(data[\\\"NumberOfChildrenVisiting\\\"], palette=\\\"winter\\\")\\npercent(ax, data[\\\"NumberOfChildrenVisiting\\\"])\";\n",
       "                var nbb_cells = Jupyter.notebook.get_cells();\n",
       "                for (var i = 0; i < nbb_cells.length; ++i) {\n",
       "                    if (nbb_cells[i].input_prompt_number == nbb_cell_id) {\n",
       "                        if (nbb_cells[i].get_text() == nbb_unformatted_code) {\n",
       "                             nbb_cells[i].set_text(nbb_formatted_code);\n",
       "                        }\n",
       "                        break;\n",
       "                    }\n",
       "                }\n",
       "            }, 500);\n",
       "            "
      ],
      "text/plain": [
       "<IPython.core.display.Javascript object>"
      ]
     },
     "metadata": {},
     "output_type": "display_data"
    }
   ],
   "source": [
    "# Countplot of NumberOfChildrenVisiting\n",
    "plt.figure(figsize=(15, 5))\n",
    "ax = sns.countplot(data[\"NumberOfChildrenVisiting\"], palette=\"winter\")\n",
    "percent(ax, data[\"NumberOfChildrenVisiting\"])"
   ]
  },
  {
   "cell_type": "markdown",
   "metadata": {},
   "source": [
    "#### Observations\n",
    "Most of the dataset is two or less children."
   ]
  },
  {
   "cell_type": "code",
   "execution_count": 37,
   "metadata": {},
   "outputs": [
    {
     "data": {
      "image/png": "[encoded data removed]",
      "text/plain": [
       "<Figure size 1080x360 with 1 Axes>"
      ]
     },
     "metadata": {
      "needs_background": "light"
     },
     "output_type": "display_data"
    },
    {
     "data": {
      "application/javascript": [
       "\n",
       "            setTimeout(function() {\n",
       "                var nbb_cell_id = 37;\n",
       "                var nbb_unformatted_code = \"# Countplot of Designation\\nplt.figure(figsize=(15, 5))\\nax = sns.countplot(data[\\\"Designation\\\"], palette=\\\"winter\\\")\\npercent(ax, data[\\\"Designation\\\"])\";\n",
       "                var nbb_formatted_code = \"# Countplot of Designation\\nplt.figure(figsize=(15, 5))\\nax = sns.countplot(data[\\\"Designation\\\"], palette=\\\"winter\\\")\\npercent(ax, data[\\\"Designation\\\"])\";\n",
       "                var nbb_cells = Jupyter.notebook.get_cells();\n",
       "                for (var i = 0; i < nbb_cells.length; ++i) {\n",
       "                    if (nbb_cells[i].input_prompt_number == nbb_cell_id) {\n",
       "                        if (nbb_cells[i].get_text() == nbb_unformatted_code) {\n",
       "                             nbb_cells[i].set_text(nbb_formatted_code);\n",
       "                        }\n",
       "                        break;\n",
       "                    }\n",
       "                }\n",
       "            }, 500);\n",
       "            "
      ],
      "text/plain": [
       "<IPython.core.display.Javascript object>"
      ]
     },
     "metadata": {},
     "output_type": "display_data"
    }
   ],
   "source": [
    "# Countplot of Designation\n",
    "plt.figure(figsize=(15, 5))\n",
    "ax = sns.countplot(data[\"Designation\"], palette=\"winter\")\n",
    "percent(ax, data[\"Designation\"])"
   ]
  },
  {
   "cell_type": "markdown",
   "metadata": {},
   "source": [
    "#### Observations\n",
    "Executive and managers are the most common designation in the dataset.  VP's and AVP's are quite rare."
   ]
  },
  {
   "cell_type": "code",
   "execution_count": 38,
   "metadata": {},
   "outputs": [
    {
     "data": {
      "image/png": "[encoded data removed]",
      "text/plain": [
       "<Figure size 1080x720 with 2 Axes>"
      ]
     },
     "metadata": {
      "needs_background": "light"
     },
     "output_type": "display_data"
    },
    {
     "data": {
      "application/javascript": [
       "\n",
       "            setTimeout(function() {\n",
       "                var nbb_cell_id = 38;\n",
       "                var nbb_unformatted_code = \"# Histogram showing MonthlyIncome\\nhistogram_boxplot(data[\\\"MonthlyIncome\\\"])\";\n",
       "                var nbb_formatted_code = \"# Histogram showing MonthlyIncome\\nhistogram_boxplot(data[\\\"MonthlyIncome\\\"])\";\n",
       "                var nbb_cells = Jupyter.notebook.get_cells();\n",
       "                for (var i = 0; i < nbb_cells.length; ++i) {\n",
       "                    if (nbb_cells[i].input_prompt_number == nbb_cell_id) {\n",
       "                        if (nbb_cells[i].get_text() == nbb_unformatted_code) {\n",
       "                             nbb_cells[i].set_text(nbb_formatted_code);\n",
       "                        }\n",
       "                        break;\n",
       "                    }\n",
       "                }\n",
       "            }, 500);\n",
       "            "
      ],
      "text/plain": [
       "<IPython.core.display.Javascript object>"
      ]
     },
     "metadata": {},
     "output_type": "display_data"
    }
   ],
   "source": [
    "# Histogram showing MonthlyIncome\n",
    "histogram_boxplot(data[\"MonthlyIncome\"])"
   ]
  },
  {
   "cell_type": "markdown",
   "metadata": {},
   "source": [
    "#### Observations\n",
    "There are some outliers in Income.  I will look at this further in outlier treatment.  There is a slight right skew in this variable."
   ]
  },
  {
   "cell_type": "markdown",
   "metadata": {},
   "source": [
    "### Multivariate Analysis"
   ]
  },
  {
   "cell_type": "code",
   "execution_count": 39,
   "metadata": {
    "scrolled": false
   },
   "outputs": [
    {
     "data": {
      "text/plain": [
       "<AxesSubplot:xlabel='Occupation', ylabel='count'>"
      ]
     },
     "execution_count": 39,
     "metadata": {},
     "output_type": "execute_result"
    },
    {
     "data": {
      "image/png": "[encoded data removed]",
      "text/plain": [
       "<Figure size 1080x504 with 1 Axes>"
      ]
     },
     "metadata": {
      "needs_background": "light"
     },
     "output_type": "display_data"
    },
    {
     "data": {
      "application/javascript": [
       "\n",
       "            setTimeout(function() {\n",
       "                var nbb_cell_id = 39;\n",
       "                var nbb_unformatted_code = \"# Countplot of Occupation and ProdTaken\\nplt.figure(figsize=(15, 7))\\nsns.countplot(x=\\\"Occupation\\\", hue=\\\"ProdTaken\\\", data=data)\";\n",
       "                var nbb_formatted_code = \"# Countplot of Occupation and ProdTaken\\nplt.figure(figsize=(15, 7))\\nsns.countplot(x=\\\"Occupation\\\", hue=\\\"ProdTaken\\\", data=data)\";\n",
       "                var nbb_cells = Jupyter.notebook.get_cells();\n",
       "                for (var i = 0; i < nbb_cells.length; ++i) {\n",
       "                    if (nbb_cells[i].input_prompt_number == nbb_cell_id) {\n",
       "                        if (nbb_cells[i].get_text() == nbb_unformatted_code) {\n",
       "                             nbb_cells[i].set_text(nbb_formatted_code);\n",
       "                        }\n",
       "                        break;\n",
       "                    }\n",
       "                }\n",
       "            }, 500);\n",
       "            "
      ],
      "text/plain": [
       "<IPython.core.display.Javascript object>"
      ]
     },
     "metadata": {},
     "output_type": "display_data"
    }
   ],
   "source": [
    "# Countplot of Occupation and ProdTaken\n",
    "plt.figure(figsize=(15, 7))\n",
    "sns.countplot(x=\"Occupation\", hue=\"ProdTaken\", data=data)"
   ]
  },
  {
   "cell_type": "markdown",
   "metadata": {},
   "source": [
    "#### Observations\n",
    "I see that free lancers are avoided. However, it's hard to make an accurate analysis on that occupation unless I get a greater sample size."
   ]
  },
  {
   "cell_type": "code",
   "execution_count": 40,
   "metadata": {},
   "outputs": [
    {
     "data": {
      "image/png": "[encoded data removed]",
      "text/plain": [
       "<Figure size 1080x504 with 1 Axes>"
      ]
     },
     "metadata": {
      "needs_background": "light"
     },
     "output_type": "display_data"
    },
    {
     "data": {
      "application/javascript": [
       "\n",
       "            setTimeout(function() {\n",
       "                var nbb_cell_id = 40;\n",
       "                var nbb_unformatted_code = \"# Boxplot of Gender, MonthlyIncome, and ProductPitched\\nplt.figure(figsize=(15, 7))\\nsns.boxplot(\\n    data[\\\"Gender\\\"], data[\\\"MonthlyIncome\\\"], hue=data[\\\"ProdTaken\\\"], palette=\\\"viridis\\\"\\n)\\nplt.legend(bbox_to_anchor=(1.00, 1))\\nplt.show()\";\n",
       "                var nbb_formatted_code = \"# Boxplot of Gender, MonthlyIncome, and ProductPitched\\nplt.figure(figsize=(15, 7))\\nsns.boxplot(\\n    data[\\\"Gender\\\"], data[\\\"MonthlyIncome\\\"], hue=data[\\\"ProdTaken\\\"], palette=\\\"viridis\\\"\\n)\\nplt.legend(bbox_to_anchor=(1.00, 1))\\nplt.show()\";\n",
       "                var nbb_cells = Jupyter.notebook.get_cells();\n",
       "                for (var i = 0; i < nbb_cells.length; ++i) {\n",
       "                    if (nbb_cells[i].input_prompt_number == nbb_cell_id) {\n",
       "                        if (nbb_cells[i].get_text() == nbb_unformatted_code) {\n",
       "                             nbb_cells[i].set_text(nbb_formatted_code);\n",
       "                        }\n",
       "                        break;\n",
       "                    }\n",
       "                }\n",
       "            }, 500);\n",
       "            "
      ],
      "text/plain": [
       "<IPython.core.display.Javascript object>"
      ]
     },
     "metadata": {},
     "output_type": "display_data"
    }
   ],
   "source": [
    "# Boxplot of Gender, MonthlyIncome, and ProductPitched\n",
    "plt.figure(figsize=(15, 7))\n",
    "sns.boxplot(\n",
    "    data[\"Gender\"], data[\"MonthlyIncome\"], hue=data[\"ProdTaken\"], palette=\"viridis\"\n",
    ")\n",
    "plt.legend(bbox_to_anchor=(1.00, 1))\n",
    "plt.show()"
   ]
  },
  {
   "cell_type": "markdown",
   "metadata": {},
   "source": [
    "#### Observations\n",
    "It appears that Gender is not really an influential variable for the product conversion. They are quite even."
   ]
  },
  {
   "cell_type": "code",
   "execution_count": 41,
   "metadata": {},
   "outputs": [
    {
     "data": {
      "text/plain": [
       "<seaborn.axisgrid.FacetGrid at 0x1e602d518e0>"
      ]
     },
     "execution_count": 41,
     "metadata": {},
     "output_type": "execute_result"
    },
    {
     "data": {
      "image/png": "[encoded data removed]",
      "text/plain": [
       "<Figure size 463.125x360 with 1 Axes>"
      ]
     },
     "metadata": {
      "needs_background": "light"
     },
     "output_type": "display_data"
    },
    {
     "data": {
      "application/javascript": [
       "\n",
       "            setTimeout(function() {\n",
       "                var nbb_cell_id = 41;\n",
       "                var nbb_unformatted_code = \"# Boxplot of Designation, Income, and ProductPitched\\nsns.catplot(\\n    x=\\\"Designation\\\", y=\\\"MonthlyIncome\\\", hue=\\\"ProductPitched\\\", data=data, kind=\\\"strip\\\"\\n)\";\n",
       "                var nbb_formatted_code = \"# Boxplot of Designation, Income, and ProductPitched\\nsns.catplot(\\n    x=\\\"Designation\\\", y=\\\"MonthlyIncome\\\", hue=\\\"ProductPitched\\\", data=data, kind=\\\"strip\\\"\\n)\";\n",
       "                var nbb_cells = Jupyter.notebook.get_cells();\n",
       "                for (var i = 0; i < nbb_cells.length; ++i) {\n",
       "                    if (nbb_cells[i].input_prompt_number == nbb_cell_id) {\n",
       "                        if (nbb_cells[i].get_text() == nbb_unformatted_code) {\n",
       "                             nbb_cells[i].set_text(nbb_formatted_code);\n",
       "                        }\n",
       "                        break;\n",
       "                    }\n",
       "                }\n",
       "            }, 500);\n",
       "            "
      ],
      "text/plain": [
       "<IPython.core.display.Javascript object>"
      ]
     },
     "metadata": {},
     "output_type": "display_data"
    }
   ],
   "source": [
    "# Boxplot of Designation, Income, and ProductPitched\n",
    "sns.catplot(\n",
    "    x=\"Designation\", y=\"MonthlyIncome\", hue=\"ProductPitched\", data=data, kind=\"strip\"\n",
    ")"
   ]
  },
  {
   "cell_type": "markdown",
   "metadata": {},
   "source": [
    "#### Observations\n",
    "I see that King is purchased by the highest income individuals.  I also see that the product pitched is entirely based on designation.  This is a huge insight on our data.  I can determine so much from this visual."
   ]
  },
  {
   "cell_type": "code",
   "execution_count": 42,
   "metadata": {},
   "outputs": [
    {
     "data": {
      "image/png": "[encoded data removed]",
      "text/plain": [
       "<Figure size 1080x504 with 1 Axes>"
      ]
     },
     "metadata": {
      "needs_background": "light"
     },
     "output_type": "display_data"
    },
    {
     "data": {
      "application/javascript": [
       "\n",
       "            setTimeout(function() {\n",
       "                var nbb_cell_id = 42;\n",
       "                var nbb_unformatted_code = \"# Scatterplot of Age, Income, and ProductPitched\\nplt.figure(figsize=(15, 7))\\nsns.scatterplot(\\n    data[\\\"Age\\\"],\\n    data[\\\"MonthlyIncome\\\"],\\n    hue=data[\\\"ProductPitched\\\"],\\n    ci=0.0,\\n    palette=\\\"Dark2\\\",\\n)\\nplt.legend(bbox_to_anchor=(1.00, 1))\\nplt.show()\";\n",
       "                var nbb_formatted_code = \"# Scatterplot of Age, Income, and ProductPitched\\nplt.figure(figsize=(15, 7))\\nsns.scatterplot(\\n    data[\\\"Age\\\"],\\n    data[\\\"MonthlyIncome\\\"],\\n    hue=data[\\\"ProductPitched\\\"],\\n    ci=0.0,\\n    palette=\\\"Dark2\\\",\\n)\\nplt.legend(bbox_to_anchor=(1.00, 1))\\nplt.show()\";\n",
       "                var nbb_cells = Jupyter.notebook.get_cells();\n",
       "                for (var i = 0; i < nbb_cells.length; ++i) {\n",
       "                    if (nbb_cells[i].input_prompt_number == nbb_cell_id) {\n",
       "                        if (nbb_cells[i].get_text() == nbb_unformatted_code) {\n",
       "                             nbb_cells[i].set_text(nbb_formatted_code);\n",
       "                        }\n",
       "                        break;\n",
       "                    }\n",
       "                }\n",
       "            }, 500);\n",
       "            "
      ],
      "text/plain": [
       "<IPython.core.display.Javascript object>"
      ]
     },
     "metadata": {},
     "output_type": "display_data"
    }
   ],
   "source": [
    "# Scatterplot of Age, Income, and ProductPitched\n",
    "plt.figure(figsize=(15, 7))\n",
    "sns.scatterplot(\n",
    "    data[\"Age\"],\n",
    "    data[\"MonthlyIncome\"],\n",
    "    hue=data[\"ProductPitched\"],\n",
    "    ci=0.0,\n",
    "    palette=\"Dark2\",\n",
    ")\n",
    "plt.legend(bbox_to_anchor=(1.00, 1))\n",
    "plt.show()"
   ]
  },
  {
   "cell_type": "markdown",
   "metadata": {},
   "source": [
    "#### Observations\n",
    "Maried and single data points are more likely to get the basic and deluxe packages. Unmarried tend to not really get any of the King or Super Deluxe Packages."
   ]
  },
  {
   "cell_type": "code",
   "execution_count": 43,
   "metadata": {},
   "outputs": [
    {
     "data": {
      "text/plain": [
       "<AxesSubplot:xlabel='CityTier', ylabel='count'>"
      ]
     },
     "execution_count": 43,
     "metadata": {},
     "output_type": "execute_result"
    },
    {
     "data": {
      "image/png": "[encoded data removed]",
      "text/plain": [
       "<Figure size 1080x504 with 1 Axes>"
      ]
     },
     "metadata": {
      "needs_background": "light"
     },
     "output_type": "display_data"
    },
    {
     "data": {
      "application/javascript": [
       "\n",
       "            setTimeout(function() {\n",
       "                var nbb_cell_id = 43;\n",
       "                var nbb_unformatted_code = \"# Countplot of CityTier and ProductPitched\\nplt.figure(figsize=(15, 7))\\nsns.countplot(x=\\\"CityTier\\\", hue=\\\"ProductPitched\\\", data=data)\";\n",
       "                var nbb_formatted_code = \"# Countplot of CityTier and ProductPitched\\nplt.figure(figsize=(15, 7))\\nsns.countplot(x=\\\"CityTier\\\", hue=\\\"ProductPitched\\\", data=data)\";\n",
       "                var nbb_cells = Jupyter.notebook.get_cells();\n",
       "                for (var i = 0; i < nbb_cells.length; ++i) {\n",
       "                    if (nbb_cells[i].input_prompt_number == nbb_cell_id) {\n",
       "                        if (nbb_cells[i].get_text() == nbb_unformatted_code) {\n",
       "                             nbb_cells[i].set_text(nbb_formatted_code);\n",
       "                        }\n",
       "                        break;\n",
       "                    }\n",
       "                }\n",
       "            }, 500);\n",
       "            "
      ],
      "text/plain": [
       "<IPython.core.display.Javascript object>"
      ]
     },
     "metadata": {},
     "output_type": "display_data"
    }
   ],
   "source": [
    "# Countplot of CityTier and ProductPitched\n",
    "plt.figure(figsize=(15, 7))\n",
    "sns.countplot(x=\"CityTier\", hue=\"ProductPitched\", data=data)"
   ]
  },
  {
   "cell_type": "markdown",
   "metadata": {},
   "source": [
    "#### Observations\n",
    "I see that in the city tier 1, they are highly likely to purchase the basic package.  None of the 3 purchase the king package, and it appears that city tier 2, in general, does not get any package."
   ]
  },
  {
   "cell_type": "code",
   "execution_count": 44,
   "metadata": {},
   "outputs": [
    {
     "data": {
      "text/plain": [
       "<AxesSubplot:xlabel='NumberOfFollowups', ylabel='count'>"
      ]
     },
     "execution_count": 44,
     "metadata": {},
     "output_type": "execute_result"
    },
    {
     "data": {
      "image/png": "[encoded data removed]",
      "text/plain": [
       "<Figure size 1080x504 with 1 Axes>"
      ]
     },
     "metadata": {
      "needs_background": "light"
     },
     "output_type": "display_data"
    },
    {
     "data": {
      "application/javascript": [
       "\n",
       "            setTimeout(function() {\n",
       "                var nbb_cell_id = 44;\n",
       "                var nbb_unformatted_code = \"# Countplot of NumberOfFollowups and ProductPitched\\nplt.figure(figsize=(15, 7))\\nsns.countplot(x=\\\"NumberOfFollowups\\\", hue=\\\"ProductPitched\\\", data=data)\";\n",
       "                var nbb_formatted_code = \"# Countplot of NumberOfFollowups and ProductPitched\\nplt.figure(figsize=(15, 7))\\nsns.countplot(x=\\\"NumberOfFollowups\\\", hue=\\\"ProductPitched\\\", data=data)\";\n",
       "                var nbb_cells = Jupyter.notebook.get_cells();\n",
       "                for (var i = 0; i < nbb_cells.length; ++i) {\n",
       "                    if (nbb_cells[i].input_prompt_number == nbb_cell_id) {\n",
       "                        if (nbb_cells[i].get_text() == nbb_unformatted_code) {\n",
       "                             nbb_cells[i].set_text(nbb_formatted_code);\n",
       "                        }\n",
       "                        break;\n",
       "                    }\n",
       "                }\n",
       "            }, 500);\n",
       "            "
      ],
      "text/plain": [
       "<IPython.core.display.Javascript object>"
      ]
     },
     "metadata": {},
     "output_type": "display_data"
    }
   ],
   "source": [
    "# Countplot of NumberOfFollowups and ProductPitched\n",
    "plt.figure(figsize=(15, 7))\n",
    "sns.countplot(x=\"NumberOfFollowups\", hue=\"ProductPitched\", data=data)"
   ]
  },
  {
   "cell_type": "markdown",
   "metadata": {},
   "source": [
    "#### Observations\n",
    "I see here that the number of followups are rather high fro those who got the basic and deluxe.  They needed 3-4 to make the package purchase"
   ]
  },
  {
   "cell_type": "code",
   "execution_count": 45,
   "metadata": {},
   "outputs": [
    {
     "data": {
      "text/plain": [
       "<AxesSubplot:xlabel='ProdTaken', ylabel='count'>"
      ]
     },
     "execution_count": 45,
     "metadata": {},
     "output_type": "execute_result"
    },
    {
     "data": {
      "image/png": "[encoded data removed]",
      "text/plain": [
       "<Figure size 1080x504 with 1 Axes>"
      ]
     },
     "metadata": {
      "needs_background": "light"
     },
     "output_type": "display_data"
    },
    {
     "data": {
      "application/javascript": [
       "\n",
       "            setTimeout(function() {\n",
       "                var nbb_cell_id = 45;\n",
       "                var nbb_unformatted_code = \"# Countplot of ProdTaken and ProductPitched\\nplt.figure(figsize=(15, 7))\\nsns.countplot(x=\\\"ProdTaken\\\", hue=\\\"ProductPitched\\\", data=data)\";\n",
       "                var nbb_formatted_code = \"# Countplot of ProdTaken and ProductPitched\\nplt.figure(figsize=(15, 7))\\nsns.countplot(x=\\\"ProdTaken\\\", hue=\\\"ProductPitched\\\", data=data)\";\n",
       "                var nbb_cells = Jupyter.notebook.get_cells();\n",
       "                for (var i = 0; i < nbb_cells.length; ++i) {\n",
       "                    if (nbb_cells[i].input_prompt_number == nbb_cell_id) {\n",
       "                        if (nbb_cells[i].get_text() == nbb_unformatted_code) {\n",
       "                             nbb_cells[i].set_text(nbb_formatted_code);\n",
       "                        }\n",
       "                        break;\n",
       "                    }\n",
       "                }\n",
       "            }, 500);\n",
       "            "
      ],
      "text/plain": [
       "<IPython.core.display.Javascript object>"
      ]
     },
     "metadata": {},
     "output_type": "display_data"
    }
   ],
   "source": [
    "# Countplot of ProdTaken and ProductPitched\n",
    "plt.figure(figsize=(15, 7))\n",
    "sns.countplot(x=\"ProdTaken\", hue=\"ProductPitched\", data=data)"
   ]
  },
  {
   "cell_type": "code",
   "execution_count": 46,
   "metadata": {},
   "outputs": [
    {
     "data": {
      "image/png": "[encoded data removed]",
      "text/plain": [
       "<Figure size 1080x504 with 1 Axes>"
      ]
     },
     "metadata": {
      "needs_background": "light"
     },
     "output_type": "display_data"
    },
    {
     "data": {
      "application/javascript": [
       "\n",
       "            setTimeout(function() {\n",
       "                var nbb_cell_id = 46;\n",
       "                var nbb_unformatted_code = \"# Using a countplot to show us the proportions in percentage form of conversion for each group\\nplt.figure(figsize=(15, 7))\\nax = sns.countplot(data[\\\"ProductPitched\\\"], hue=data[\\\"ProdTaken\\\"], palette=\\\"winter\\\")\\npercent(ax, data[\\\"ProductPitched\\\"])\";\n",
       "                var nbb_formatted_code = \"# Using a countplot to show us the proportions in percentage form of conversion for each group\\nplt.figure(figsize=(15, 7))\\nax = sns.countplot(data[\\\"ProductPitched\\\"], hue=data[\\\"ProdTaken\\\"], palette=\\\"winter\\\")\\npercent(ax, data[\\\"ProductPitched\\\"])\";\n",
       "                var nbb_cells = Jupyter.notebook.get_cells();\n",
       "                for (var i = 0; i < nbb_cells.length; ++i) {\n",
       "                    if (nbb_cells[i].input_prompt_number == nbb_cell_id) {\n",
       "                        if (nbb_cells[i].get_text() == nbb_unformatted_code) {\n",
       "                             nbb_cells[i].set_text(nbb_formatted_code);\n",
       "                        }\n",
       "                        break;\n",
       "                    }\n",
       "                }\n",
       "            }, 500);\n",
       "            "
      ],
      "text/plain": [
       "<IPython.core.display.Javascript object>"
      ]
     },
     "metadata": {},
     "output_type": "display_data"
    }
   ],
   "source": [
    "# Using a countplot to show us the proportions in percentage form of conversion for each group\n",
    "plt.figure(figsize=(15, 7))\n",
    "ax = sns.countplot(data[\"ProductPitched\"], hue=data[\"ProdTaken\"], palette=\"winter\")\n",
    "percent(ax, data[\"ProductPitched\"])"
   ]
  },
  {
   "cell_type": "markdown",
   "metadata": {},
   "source": [
    "#### Observations\n",
    "Here I see the conversion rate amongst the packages.  See the end of the notebook for detailed explanation"
   ]
  },
  {
   "cell_type": "code",
   "execution_count": 47,
   "metadata": {},
   "outputs": [
    {
     "data": {
      "image/png": "[encoded data removed]",
      "text/plain": [
       "<Figure size 1080x504 with 1 Axes>"
      ]
     },
     "metadata": {
      "needs_background": "light"
     },
     "output_type": "display_data"
    },
    {
     "data": {
      "application/javascript": [
       "\n",
       "            setTimeout(function() {\n",
       "                var nbb_cell_id = 47;\n",
       "                var nbb_unformatted_code = \"# Using a countplot to show us the Marital Status in relation to ProductPitched\\nplt.figure(figsize=(15, 7))\\nax = sns.countplot(data[\\\"MaritalStatus\\\"], hue=data[\\\"ProductPitched\\\"])\";\n",
       "                var nbb_formatted_code = \"# Using a countplot to show us the Marital Status in relation to ProductPitched\\nplt.figure(figsize=(15, 7))\\nax = sns.countplot(data[\\\"MaritalStatus\\\"], hue=data[\\\"ProductPitched\\\"])\";\n",
       "                var nbb_cells = Jupyter.notebook.get_cells();\n",
       "                for (var i = 0; i < nbb_cells.length; ++i) {\n",
       "                    if (nbb_cells[i].input_prompt_number == nbb_cell_id) {\n",
       "                        if (nbb_cells[i].get_text() == nbb_unformatted_code) {\n",
       "                             nbb_cells[i].set_text(nbb_formatted_code);\n",
       "                        }\n",
       "                        break;\n",
       "                    }\n",
       "                }\n",
       "            }, 500);\n",
       "            "
      ],
      "text/plain": [
       "<IPython.core.display.Javascript object>"
      ]
     },
     "metadata": {},
     "output_type": "display_data"
    }
   ],
   "source": [
    "# Using a countplot to show us the Marital Status in relation to ProductPitched\n",
    "plt.figure(figsize=(15, 7))\n",
    "ax = sns.countplot(data[\"MaritalStatus\"], hue=data[\"ProductPitched\"])"
   ]
  },
  {
   "cell_type": "markdown",
   "metadata": {},
   "source": [
    "#### Observations\n",
    "Unmarried do not purchase the King package OR the Super Deluxe package"
   ]
  },
  {
   "cell_type": "code",
   "execution_count": 48,
   "metadata": {},
   "outputs": [
    {
     "data": {
      "text/plain": [
       "<seaborn.axisgrid.FacetGrid at 0x1e6036a89a0>"
      ]
     },
     "execution_count": 48,
     "metadata": {},
     "output_type": "execute_result"
    },
    {
     "data": {
      "text/plain": [
       "<Figure size 2160x1440 with 0 Axes>"
      ]
     },
     "metadata": {},
     "output_type": "display_data"
    },
    {
     "data": {
      "image/png": "[encoded data removed]",
      "text/plain": [
       "<Figure size 360x360 with 1 Axes>"
      ]
     },
     "metadata": {
      "needs_background": "light"
     },
     "output_type": "display_data"
    },
    {
     "data": {
      "application/javascript": [
       "\n",
       "            setTimeout(function() {\n",
       "                var nbb_cell_id = 48;\n",
       "                var nbb_unformatted_code = \"# Boxplot of Age and Income\\nplt.figure(figsize=(30, 20))\\nsns.catplot(\\n    x=\\\"Age\\\",\\n    y=\\\"MonthlyIncome\\\",\\n    data=data,\\n    kind=\\\"strip\\\",\\n)\";\n",
       "                var nbb_formatted_code = \"# Boxplot of Age and Income\\nplt.figure(figsize=(30, 20))\\nsns.catplot(\\n    x=\\\"Age\\\",\\n    y=\\\"MonthlyIncome\\\",\\n    data=data,\\n    kind=\\\"strip\\\",\\n)\";\n",
       "                var nbb_cells = Jupyter.notebook.get_cells();\n",
       "                for (var i = 0; i < nbb_cells.length; ++i) {\n",
       "                    if (nbb_cells[i].input_prompt_number == nbb_cell_id) {\n",
       "                        if (nbb_cells[i].get_text() == nbb_unformatted_code) {\n",
       "                             nbb_cells[i].set_text(nbb_formatted_code);\n",
       "                        }\n",
       "                        break;\n",
       "                    }\n",
       "                }\n",
       "            }, 500);\n",
       "            "
      ],
      "text/plain": [
       "<IPython.core.display.Javascript object>"
      ]
     },
     "metadata": {},
     "output_type": "display_data"
    }
   ],
   "source": [
    "# Boxplot of Age and Income\n",
    "plt.figure(figsize=(30, 20))\n",
    "sns.catplot(\n",
    "    x=\"Age\",\n",
    "    y=\"MonthlyIncome\",\n",
    "    data=data,\n",
    "    kind=\"strip\",\n",
    ")"
   ]
  },
  {
   "cell_type": "markdown",
   "metadata": {},
   "source": [
    "#### Observations\n",
    "I see here that as age goes up, so does income"
   ]
  },
  {
   "cell_type": "code",
   "execution_count": 49,
   "metadata": {},
   "outputs": [
    {
     "data": {
      "text/plain": [
       "<seaborn.axisgrid.FacetGrid at 0x1e6036a8370>"
      ]
     },
     "execution_count": 49,
     "metadata": {},
     "output_type": "execute_result"
    },
    {
     "data": {
      "image/png": "[encoded data removed]",
      "text/plain": [
       "<Figure size 471.625x360 with 1 Axes>"
      ]
     },
     "metadata": {
      "needs_background": "light"
     },
     "output_type": "display_data"
    },
    {
     "data": {
      "application/javascript": [
       "\n",
       "            setTimeout(function() {\n",
       "                var nbb_cell_id = 49;\n",
       "                var nbb_unformatted_code = \"# Boxplot of ProductPitched, Age, and Occupation\\nsns.catplot(\\n    x=\\\"ProductPitched\\\",\\n    y=\\\"Age\\\",\\n    hue=\\\"Occupation\\\",\\n    data=data,\\n    kind=\\\"box\\\",\\n    order=[\\\"Basic\\\", \\\"Deluxe\\\", \\\"Standard\\\", \\\"King\\\", \\\"Super Deluxe\\\"],\\n)\";\n",
       "                var nbb_formatted_code = \"# Boxplot of ProductPitched, Age, and Occupation\\nsns.catplot(\\n    x=\\\"ProductPitched\\\",\\n    y=\\\"Age\\\",\\n    hue=\\\"Occupation\\\",\\n    data=data,\\n    kind=\\\"box\\\",\\n    order=[\\\"Basic\\\", \\\"Deluxe\\\", \\\"Standard\\\", \\\"King\\\", \\\"Super Deluxe\\\"],\\n)\";\n",
       "                var nbb_cells = Jupyter.notebook.get_cells();\n",
       "                for (var i = 0; i < nbb_cells.length; ++i) {\n",
       "                    if (nbb_cells[i].input_prompt_number == nbb_cell_id) {\n",
       "                        if (nbb_cells[i].get_text() == nbb_unformatted_code) {\n",
       "                             nbb_cells[i].set_text(nbb_formatted_code);\n",
       "                        }\n",
       "                        break;\n",
       "                    }\n",
       "                }\n",
       "            }, 500);\n",
       "            "
      ],
      "text/plain": [
       "<IPython.core.display.Javascript object>"
      ]
     },
     "metadata": {},
     "output_type": "display_data"
    }
   ],
   "source": [
    "# Boxplot of ProductPitched, Age, and Occupation\n",
    "sns.catplot(\n",
    "    x=\"ProductPitched\",\n",
    "    y=\"Age\",\n",
    "    hue=\"Occupation\",\n",
    "    data=data,\n",
    "    kind=\"box\",\n",
    "    order=[\"Basic\", \"Deluxe\", \"Standard\", \"King\", \"Super Deluxe\"],\n",
    ")"
   ]
  },
  {
   "cell_type": "markdown",
   "metadata": {},
   "source": [
    "#### Observations\n",
    "I see a positive correlation with age and the type of package purchased. As the older you get, you will purchase a \"nicer\" package. Income most likely plays into this."
   ]
  },
  {
   "cell_type": "code",
   "execution_count": 50,
   "metadata": {},
   "outputs": [
    {
     "data": {
      "image/png": "[encoded data removed]",
      "text/plain": [
       "<Figure size 1080x504 with 1 Axes>"
      ]
     },
     "metadata": {
      "needs_background": "light"
     },
     "output_type": "display_data"
    },
    {
     "data": {
      "application/javascript": [
       "\n",
       "            setTimeout(function() {\n",
       "                var nbb_cell_id = 50;\n",
       "                var nbb_unformatted_code = \"# Using a countplot to show us the Marital Status in relation to ProductPitched\\nplt.figure(figsize=(15, 7))\\nax = sns.countplot(data[\\\"PitchSatisfactionScore\\\"], hue=data[\\\"ProdTaken\\\"])\";\n",
       "                var nbb_formatted_code = \"# Using a countplot to show us the Marital Status in relation to ProductPitched\\nplt.figure(figsize=(15, 7))\\nax = sns.countplot(data[\\\"PitchSatisfactionScore\\\"], hue=data[\\\"ProdTaken\\\"])\";\n",
       "                var nbb_cells = Jupyter.notebook.get_cells();\n",
       "                for (var i = 0; i < nbb_cells.length; ++i) {\n",
       "                    if (nbb_cells[i].input_prompt_number == nbb_cell_id) {\n",
       "                        if (nbb_cells[i].get_text() == nbb_unformatted_code) {\n",
       "                             nbb_cells[i].set_text(nbb_formatted_code);\n",
       "                        }\n",
       "                        break;\n",
       "                    }\n",
       "                }\n",
       "            }, 500);\n",
       "            "
      ],
      "text/plain": [
       "<IPython.core.display.Javascript object>"
      ]
     },
     "metadata": {},
     "output_type": "display_data"
    }
   ],
   "source": [
    "# Using a countplot to show us the Marital Status in relation to ProductPitched\n",
    "plt.figure(figsize=(15, 7))\n",
    "ax = sns.countplot(data[\"PitchSatisfactionScore\"], hue=data[\"ProdTaken\"])"
   ]
  },
  {
   "cell_type": "markdown",
   "metadata": {},
   "source": [
    "#### Observation\n",
    "This is odd.  One could infer that someone who purchases would rank the pitch higher.  This variable is misleading. Why would those who rank it 1 still purchase the product? I would imagine that the higher the rank, the higher amount of True for ProdTaken. I wonder if there is an issue with collection. I will drop this variable because this seems like a collection error."
   ]
  },
  {
   "cell_type": "code",
   "execution_count": 51,
   "metadata": {},
   "outputs": [
    {
     "data": {
      "application/javascript": [
       "\n",
       "            setTimeout(function() {\n",
       "                var nbb_cell_id = 51;\n",
       "                var nbb_unformatted_code = \"# Let's drop the PitchSatisfactionScore column\\ndata.drop([\\\"PitchSatisfactionScore\\\"], axis=1, inplace=True)\";\n",
       "                var nbb_formatted_code = \"# Let's drop the PitchSatisfactionScore column\\ndata.drop([\\\"PitchSatisfactionScore\\\"], axis=1, inplace=True)\";\n",
       "                var nbb_cells = Jupyter.notebook.get_cells();\n",
       "                for (var i = 0; i < nbb_cells.length; ++i) {\n",
       "                    if (nbb_cells[i].input_prompt_number == nbb_cell_id) {\n",
       "                        if (nbb_cells[i].get_text() == nbb_unformatted_code) {\n",
       "                             nbb_cells[i].set_text(nbb_formatted_code);\n",
       "                        }\n",
       "                        break;\n",
       "                    }\n",
       "                }\n",
       "            }, 500);\n",
       "            "
      ],
      "text/plain": [
       "<IPython.core.display.Javascript object>"
      ]
     },
     "metadata": {},
     "output_type": "display_data"
    }
   ],
   "source": [
    "# Let's drop the PitchSatisfactionScore column\n",
    "data.drop([\"PitchSatisfactionScore\"], axis=1, inplace=True)"
   ]
  },
  {
   "cell_type": "code",
   "execution_count": 52,
   "metadata": {
    "scrolled": false
   },
   "outputs": [
    {
     "data": {
      "image/png": "[encoded data removed]",
      "text/plain": [
       "<Figure size 1080x504 with 1 Axes>"
      ]
     },
     "metadata": {
      "needs_background": "light"
     },
     "output_type": "display_data"
    },
    {
     "data": {
      "application/javascript": [
       "\n",
       "            setTimeout(function() {\n",
       "                var nbb_cell_id = 52;\n",
       "                var nbb_unformatted_code = \"# Using a countplot to show us the Marital Status in relation to ProductPitched\\nplt.figure(figsize=(15, 7))\\nax = sns.countplot(data[\\\"NumberOfFollowups\\\"], hue=data[\\\"ProdTaken\\\"])\";\n",
       "                var nbb_formatted_code = \"# Using a countplot to show us the Marital Status in relation to ProductPitched\\nplt.figure(figsize=(15, 7))\\nax = sns.countplot(data[\\\"NumberOfFollowups\\\"], hue=data[\\\"ProdTaken\\\"])\";\n",
       "                var nbb_cells = Jupyter.notebook.get_cells();\n",
       "                for (var i = 0; i < nbb_cells.length; ++i) {\n",
       "                    if (nbb_cells[i].input_prompt_number == nbb_cell_id) {\n",
       "                        if (nbb_cells[i].get_text() == nbb_unformatted_code) {\n",
       "                             nbb_cells[i].set_text(nbb_formatted_code);\n",
       "                        }\n",
       "                        break;\n",
       "                    }\n",
       "                }\n",
       "            }, 500);\n",
       "            "
      ],
      "text/plain": [
       "<IPython.core.display.Javascript object>"
      ]
     },
     "metadata": {},
     "output_type": "display_data"
    }
   ],
   "source": [
    "# Using a countplot to show us the Marital Status in relation to ProductPitched\n",
    "plt.figure(figsize=(15, 7))\n",
    "ax = sns.countplot(data[\"NumberOfFollowups\"], hue=data[\"ProdTaken\"])"
   ]
  },
  {
   "cell_type": "markdown",
   "metadata": {},
   "source": [
    "#### Observation\n",
    "I do not really see an tremendous increase in success as followups increase past 3 and 4.  Unsure if the company would like to follow up more than 5 times."
   ]
  },
  {
   "cell_type": "markdown",
   "metadata": {},
   "source": [
    "## Outlier Treatment"
   ]
  },
  {
   "cell_type": "markdown",
   "metadata": {},
   "source": [
    "I want to treat outliers for some variables because they will skew the model I am building. I am going to use z transformation to catch and drop outliers for a few of the variables."
   ]
  },
  {
   "cell_type": "code",
   "execution_count": 53,
   "metadata": {},
   "outputs": [
    {
     "data": {
      "image/png": "[encoded data removed]",
      "text/plain": [
       "<Figure size 432x288 with 1 Axes>"
      ]
     },
     "metadata": {
      "needs_background": "light"
     },
     "output_type": "display_data"
    },
    {
     "data": {
      "image/png": "[encoded data removed]",
      "text/plain": [
       "<Figure size 432x288 with 1 Axes>"
      ]
     },
     "metadata": {
      "needs_background": "light"
     },
     "output_type": "display_data"
    },
    {
     "data": {
      "application/javascript": [
       "\n",
       "            setTimeout(function() {\n",
       "                var nbb_cell_id = 53;\n",
       "                var nbb_unformatted_code = \"# Using Z-Transformation to flag outliers in our variables\\ndef z_transform(x):\\n    return (x - np.mean(x)) / np.std(x)\\n\\n\\nnp.random.seed(1)\\nx1 = np.random.normal(size=1000)\\nx2 = np.random.lognormal(size=1000)\\n\\n\\nplt.hist(z_transform(x1))\\nplt.title(\\\"z-transformed normal data\\\")\\nplt.show()\\n\\n\\nplt.hist(z_transform(x2))\\nplt.title(\\\"z-transformed lognormal data\\\")\\nplt.show()\";\n",
       "                var nbb_formatted_code = \"# Using Z-Transformation to flag outliers in our variables\\ndef z_transform(x):\\n    return (x - np.mean(x)) / np.std(x)\\n\\n\\nnp.random.seed(1)\\nx1 = np.random.normal(size=1000)\\nx2 = np.random.lognormal(size=1000)\\n\\n\\nplt.hist(z_transform(x1))\\nplt.title(\\\"z-transformed normal data\\\")\\nplt.show()\\n\\n\\nplt.hist(z_transform(x2))\\nplt.title(\\\"z-transformed lognormal data\\\")\\nplt.show()\";\n",
       "                var nbb_cells = Jupyter.notebook.get_cells();\n",
       "                for (var i = 0; i < nbb_cells.length; ++i) {\n",
       "                    if (nbb_cells[i].input_prompt_number == nbb_cell_id) {\n",
       "                        if (nbb_cells[i].get_text() == nbb_unformatted_code) {\n",
       "                             nbb_cells[i].set_text(nbb_formatted_code);\n",
       "                        }\n",
       "                        break;\n",
       "                    }\n",
       "                }\n",
       "            }, 500);\n",
       "            "
      ],
      "text/plain": [
       "<IPython.core.display.Javascript object>"
      ]
     },
     "metadata": {},
     "output_type": "display_data"
    }
   ],
   "source": [
    "# Using Z-Transformation to flag outliers in our variables\n",
    "def z_transform(x):\n",
    "    return (x - np.mean(x)) / np.std(x)\n",
    "\n",
    "\n",
    "np.random.seed(1)\n",
    "x1 = np.random.normal(size=1000)\n",
    "x2 = np.random.lognormal(size=1000)\n",
    "\n",
    "\n",
    "plt.hist(z_transform(x1))\n",
    "plt.title(\"z-transformed normal data\")\n",
    "plt.show()\n",
    "\n",
    "\n",
    "plt.hist(z_transform(x2))\n",
    "plt.title(\"z-transformed lognormal data\")\n",
    "plt.show()"
   ]
  },
  {
   "cell_type": "code",
   "execution_count": 54,
   "metadata": {},
   "outputs": [
    {
     "name": "stdout",
     "output_type": "stream",
     "text": [
      "0.05\n",
      "0.132\n"
     ]
    },
    {
     "data": {
      "application/javascript": [
       "\n",
       "            setTimeout(function() {\n",
       "                var nbb_cell_id = 54;\n",
       "                var nbb_unformatted_code = \"# Let's flag outliers for each of the variables\\ndef frac_outside_1pt5_IQR(x):\\n    length = 1.5 * np.diff(np.quantile(x, [0.25, 0.75]))\\n    return np.mean(np.abs(x - np.median(x)) > length)\\n\\n\\nprint(frac_outside_1pt5_IQR(x1))\\nprint(frac_outside_1pt5_IQR(x2))\";\n",
       "                var nbb_formatted_code = \"# Let's flag outliers for each of the variables\\ndef frac_outside_1pt5_IQR(x):\\n    length = 1.5 * np.diff(np.quantile(x, [0.25, 0.75]))\\n    return np.mean(np.abs(x - np.median(x)) > length)\\n\\n\\nprint(frac_outside_1pt5_IQR(x1))\\nprint(frac_outside_1pt5_IQR(x2))\";\n",
       "                var nbb_cells = Jupyter.notebook.get_cells();\n",
       "                for (var i = 0; i < nbb_cells.length; ++i) {\n",
       "                    if (nbb_cells[i].input_prompt_number == nbb_cell_id) {\n",
       "                        if (nbb_cells[i].get_text() == nbb_unformatted_code) {\n",
       "                             nbb_cells[i].set_text(nbb_formatted_code);\n",
       "                        }\n",
       "                        break;\n",
       "                    }\n",
       "                }\n",
       "            }, 500);\n",
       "            "
      ],
      "text/plain": [
       "<IPython.core.display.Javascript object>"
      ]
     },
     "metadata": {},
     "output_type": "display_data"
    }
   ],
   "source": [
    "# Let's flag outliers for each of the variables\n",
    "def frac_outside_1pt5_IQR(x):\n",
    "    length = 1.5 * np.diff(np.quantile(x, [0.25, 0.75]))\n",
    "    return np.mean(np.abs(x - np.median(x)) > length)\n",
    "\n",
    "\n",
    "print(frac_outside_1pt5_IQR(x1))\n",
    "print(frac_outside_1pt5_IQR(x2))"
   ]
  },
  {
   "cell_type": "code",
   "execution_count": 55,
   "metadata": {},
   "outputs": [
    {
     "name": "stdout",
     "output_type": "stream",
     "text": [
      "Q1 = 9.0, Q3 = 20.0, 4*IQR = 44.0\n"
     ]
    },
    {
     "data": {
      "text/plain": [
       "3878    127.0\n",
       "Name: DurationOfPitch, dtype: float64"
      ]
     },
     "execution_count": 55,
     "metadata": {},
     "output_type": "execute_result"
    },
    {
     "data": {
      "application/javascript": [
       "\n",
       "            setTimeout(function() {\n",
       "                var nbb_cell_id = 55;\n",
       "                var nbb_unformatted_code = \"# Outliers of DurationOfPitch\\nquartiles = np.quantile(\\n    data[\\\"DurationOfPitch\\\"][data[\\\"DurationOfPitch\\\"].notnull()], [0.25, 0.75]\\n)\\npower_4iqr = 4 * (quartiles[1] - quartiles[0])\\nprint(f\\\"Q1 = {quartiles[0]}, Q3 = {quartiles[1]}, 4*IQR = {power_4iqr}\\\")\\noutlier_powers1 = data.loc[\\n    np.abs(data[\\\"DurationOfPitch\\\"] - data[\\\"DurationOfPitch\\\"].median()) > power_4iqr,\\n    \\\"DurationOfPitch\\\",\\n]\\noutlier_powers1\";\n",
       "                var nbb_formatted_code = \"# Outliers of DurationOfPitch\\nquartiles = np.quantile(\\n    data[\\\"DurationOfPitch\\\"][data[\\\"DurationOfPitch\\\"].notnull()], [0.25, 0.75]\\n)\\npower_4iqr = 4 * (quartiles[1] - quartiles[0])\\nprint(f\\\"Q1 = {quartiles[0]}, Q3 = {quartiles[1]}, 4*IQR = {power_4iqr}\\\")\\noutlier_powers1 = data.loc[\\n    np.abs(data[\\\"DurationOfPitch\\\"] - data[\\\"DurationOfPitch\\\"].median()) > power_4iqr,\\n    \\\"DurationOfPitch\\\",\\n]\\noutlier_powers1\";\n",
       "                var nbb_cells = Jupyter.notebook.get_cells();\n",
       "                for (var i = 0; i < nbb_cells.length; ++i) {\n",
       "                    if (nbb_cells[i].input_prompt_number == nbb_cell_id) {\n",
       "                        if (nbb_cells[i].get_text() == nbb_unformatted_code) {\n",
       "                             nbb_cells[i].set_text(nbb_formatted_code);\n",
       "                        }\n",
       "                        break;\n",
       "                    }\n",
       "                }\n",
       "            }, 500);\n",
       "            "
      ],
      "text/plain": [
       "<IPython.core.display.Javascript object>"
      ]
     },
     "metadata": {},
     "output_type": "display_data"
    }
   ],
   "source": [
    "# Outliers of DurationOfPitch\n",
    "quartiles = np.quantile(\n",
    "    data[\"DurationOfPitch\"][data[\"DurationOfPitch\"].notnull()], [0.25, 0.75]\n",
    ")\n",
    "power_4iqr = 4 * (quartiles[1] - quartiles[0])\n",
    "print(f\"Q1 = {quartiles[0]}, Q3 = {quartiles[1]}, 4*IQR = {power_4iqr}\")\n",
    "outlier_powers1 = data.loc[\n",
    "    np.abs(data[\"DurationOfPitch\"] - data[\"DurationOfPitch\"].median()) > power_4iqr,\n",
    "    \"DurationOfPitch\",\n",
    "]\n",
    "outlier_powers1"
   ]
  },
  {
   "cell_type": "code",
   "execution_count": 56,
   "metadata": {},
   "outputs": [
    {
     "data": {
      "application/javascript": [
       "\n",
       "            setTimeout(function() {\n",
       "                var nbb_cell_id = 56;\n",
       "                var nbb_unformatted_code = \"# Dropping outliers of DurationOfPitch\\ndata.drop(outlier_powers1.index, axis=0, inplace=True)\";\n",
       "                var nbb_formatted_code = \"# Dropping outliers of DurationOfPitch\\ndata.drop(outlier_powers1.index, axis=0, inplace=True)\";\n",
       "                var nbb_cells = Jupyter.notebook.get_cells();\n",
       "                for (var i = 0; i < nbb_cells.length; ++i) {\n",
       "                    if (nbb_cells[i].input_prompt_number == nbb_cell_id) {\n",
       "                        if (nbb_cells[i].get_text() == nbb_unformatted_code) {\n",
       "                             nbb_cells[i].set_text(nbb_formatted_code);\n",
       "                        }\n",
       "                        break;\n",
       "                    }\n",
       "                }\n",
       "            }, 500);\n",
       "            "
      ],
      "text/plain": [
       "<IPython.core.display.Javascript object>"
      ]
     },
     "metadata": {},
     "output_type": "display_data"
    }
   ],
   "source": [
    "# Dropping outliers of DurationOfPitch\n",
    "data.drop(outlier_powers1.index, axis=0, inplace=True)"
   ]
  },
  {
   "cell_type": "code",
   "execution_count": 57,
   "metadata": {},
   "outputs": [
    {
     "name": "stdout",
     "output_type": "stream",
     "text": [
      "Q1 = 2.0, Q3 = 4.0, 4*IQR = 8.0\n"
     ]
    },
    {
     "data": {
      "text/plain": [
       "385     19.0\n",
       "816     21.0\n",
       "2829    20.0\n",
       "3260    22.0\n",
       "Name: NumberOfTrips, dtype: float64"
      ]
     },
     "execution_count": 57,
     "metadata": {},
     "output_type": "execute_result"
    },
    {
     "data": {
      "application/javascript": [
       "\n",
       "            setTimeout(function() {\n",
       "                var nbb_cell_id = 57;\n",
       "                var nbb_unformatted_code = \"# Outliers of NumberOfTrips\\nquartiles = np.quantile(\\n    data[\\\"NumberOfTrips\\\"][data[\\\"NumberOfTrips\\\"].notnull()], [0.25, 0.75]\\n)\\npower_4iqr = 4 * (quartiles[1] - quartiles[0])\\nprint(f\\\"Q1 = {quartiles[0]}, Q3 = {quartiles[1]}, 4*IQR = {power_4iqr}\\\")\\noutlier_powers2 = data.loc[\\n    np.abs(data[\\\"NumberOfTrips\\\"] - data[\\\"NumberOfTrips\\\"].median()) > power_4iqr,\\n    \\\"NumberOfTrips\\\",\\n]\\noutlier_powers2\";\n",
       "                var nbb_formatted_code = \"# Outliers of NumberOfTrips\\nquartiles = np.quantile(\\n    data[\\\"NumberOfTrips\\\"][data[\\\"NumberOfTrips\\\"].notnull()], [0.25, 0.75]\\n)\\npower_4iqr = 4 * (quartiles[1] - quartiles[0])\\nprint(f\\\"Q1 = {quartiles[0]}, Q3 = {quartiles[1]}, 4*IQR = {power_4iqr}\\\")\\noutlier_powers2 = data.loc[\\n    np.abs(data[\\\"NumberOfTrips\\\"] - data[\\\"NumberOfTrips\\\"].median()) > power_4iqr,\\n    \\\"NumberOfTrips\\\",\\n]\\noutlier_powers2\";\n",
       "                var nbb_cells = Jupyter.notebook.get_cells();\n",
       "                for (var i = 0; i < nbb_cells.length; ++i) {\n",
       "                    if (nbb_cells[i].input_prompt_number == nbb_cell_id) {\n",
       "                        if (nbb_cells[i].get_text() == nbb_unformatted_code) {\n",
       "                             nbb_cells[i].set_text(nbb_formatted_code);\n",
       "                        }\n",
       "                        break;\n",
       "                    }\n",
       "                }\n",
       "            }, 500);\n",
       "            "
      ],
      "text/plain": [
       "<IPython.core.display.Javascript object>"
      ]
     },
     "metadata": {},
     "output_type": "display_data"
    }
   ],
   "source": [
    "# Outliers of NumberOfTrips\n",
    "quartiles = np.quantile(\n",
    "    data[\"NumberOfTrips\"][data[\"NumberOfTrips\"].notnull()], [0.25, 0.75]\n",
    ")\n",
    "power_4iqr = 4 * (quartiles[1] - quartiles[0])\n",
    "print(f\"Q1 = {quartiles[0]}, Q3 = {quartiles[1]}, 4*IQR = {power_4iqr}\")\n",
    "outlier_powers2 = data.loc[\n",
    "    np.abs(data[\"NumberOfTrips\"] - data[\"NumberOfTrips\"].median()) > power_4iqr,\n",
    "    \"NumberOfTrips\",\n",
    "]\n",
    "outlier_powers2"
   ]
  },
  {
   "cell_type": "code",
   "execution_count": 58,
   "metadata": {},
   "outputs": [
    {
     "data": {
      "application/javascript": [
       "\n",
       "            setTimeout(function() {\n",
       "                var nbb_cell_id = 58;\n",
       "                var nbb_unformatted_code = \"# Dropping outliers of NumberOfTrips\\ndata.drop(outlier_powers2.index, axis=0, inplace=True)\";\n",
       "                var nbb_formatted_code = \"# Dropping outliers of NumberOfTrips\\ndata.drop(outlier_powers2.index, axis=0, inplace=True)\";\n",
       "                var nbb_cells = Jupyter.notebook.get_cells();\n",
       "                for (var i = 0; i < nbb_cells.length; ++i) {\n",
       "                    if (nbb_cells[i].input_prompt_number == nbb_cell_id) {\n",
       "                        if (nbb_cells[i].get_text() == nbb_unformatted_code) {\n",
       "                             nbb_cells[i].set_text(nbb_formatted_code);\n",
       "                        }\n",
       "                        break;\n",
       "                    }\n",
       "                }\n",
       "            }, 500);\n",
       "            "
      ],
      "text/plain": [
       "<IPython.core.display.Javascript object>"
      ]
     },
     "metadata": {},
     "output_type": "display_data"
    }
   ],
   "source": [
    "# Dropping outliers of NumberOfTrips\n",
    "data.drop(outlier_powers2.index, axis=0, inplace=True)"
   ]
  },
  {
   "cell_type": "code",
   "execution_count": 59,
   "metadata": {},
   "outputs": [
    {
     "name": "stdout",
     "output_type": "stream",
     "text": [
      "Q1 = 20751.0, Q3 = 25301.0, 4*IQR = 18200.0\n"
     ]
    },
    {
     "data": {
      "text/plain": [
       "142      1000.0\n",
       "2482    98678.0\n",
       "Name: MonthlyIncome, dtype: float64"
      ]
     },
     "execution_count": 59,
     "metadata": {},
     "output_type": "execute_result"
    },
    {
     "data": {
      "application/javascript": [
       "\n",
       "            setTimeout(function() {\n",
       "                var nbb_cell_id = 59;\n",
       "                var nbb_unformatted_code = \"# Outliers of MonthlyIncome\\nquartiles = np.quantile(\\n    data[\\\"MonthlyIncome\\\"][data[\\\"MonthlyIncome\\\"].notnull()], [0.25, 0.75]\\n)\\npower_4iqr = 4 * (quartiles[1] - quartiles[0])\\nprint(f\\\"Q1 = {quartiles[0]}, Q3 = {quartiles[1]}, 4*IQR = {power_4iqr}\\\")\\noutlier_powers3 = data.loc[\\n    np.abs(data[\\\"MonthlyIncome\\\"] - data[\\\"MonthlyIncome\\\"].median()) > power_4iqr,\\n    \\\"MonthlyIncome\\\",\\n]\\noutlier_powers3\";\n",
       "                var nbb_formatted_code = \"# Outliers of MonthlyIncome\\nquartiles = np.quantile(\\n    data[\\\"MonthlyIncome\\\"][data[\\\"MonthlyIncome\\\"].notnull()], [0.25, 0.75]\\n)\\npower_4iqr = 4 * (quartiles[1] - quartiles[0])\\nprint(f\\\"Q1 = {quartiles[0]}, Q3 = {quartiles[1]}, 4*IQR = {power_4iqr}\\\")\\noutlier_powers3 = data.loc[\\n    np.abs(data[\\\"MonthlyIncome\\\"] - data[\\\"MonthlyIncome\\\"].median()) > power_4iqr,\\n    \\\"MonthlyIncome\\\",\\n]\\noutlier_powers3\";\n",
       "                var nbb_cells = Jupyter.notebook.get_cells();\n",
       "                for (var i = 0; i < nbb_cells.length; ++i) {\n",
       "                    if (nbb_cells[i].input_prompt_number == nbb_cell_id) {\n",
       "                        if (nbb_cells[i].get_text() == nbb_unformatted_code) {\n",
       "                             nbb_cells[i].set_text(nbb_formatted_code);\n",
       "                        }\n",
       "                        break;\n",
       "                    }\n",
       "                }\n",
       "            }, 500);\n",
       "            "
      ],
      "text/plain": [
       "<IPython.core.display.Javascript object>"
      ]
     },
     "metadata": {},
     "output_type": "display_data"
    }
   ],
   "source": [
    "# Outliers of MonthlyIncome\n",
    "quartiles = np.quantile(\n",
    "    data[\"MonthlyIncome\"][data[\"MonthlyIncome\"].notnull()], [0.25, 0.75]\n",
    ")\n",
    "power_4iqr = 4 * (quartiles[1] - quartiles[0])\n",
    "print(f\"Q1 = {quartiles[0]}, Q3 = {quartiles[1]}, 4*IQR = {power_4iqr}\")\n",
    "outlier_powers3 = data.loc[\n",
    "    np.abs(data[\"MonthlyIncome\"] - data[\"MonthlyIncome\"].median()) > power_4iqr,\n",
    "    \"MonthlyIncome\",\n",
    "]\n",
    "outlier_powers3"
   ]
  },
  {
   "cell_type": "code",
   "execution_count": 60,
   "metadata": {},
   "outputs": [
    {
     "data": {
      "application/javascript": [
       "\n",
       "            setTimeout(function() {\n",
       "                var nbb_cell_id = 60;\n",
       "                var nbb_unformatted_code = \"# Dropping outliers of MonthlyIncome\\ndata.drop(outlier_powers3.index, axis=0, inplace=True)\";\n",
       "                var nbb_formatted_code = \"# Dropping outliers of MonthlyIncome\\ndata.drop(outlier_powers3.index, axis=0, inplace=True)\";\n",
       "                var nbb_cells = Jupyter.notebook.get_cells();\n",
       "                for (var i = 0; i < nbb_cells.length; ++i) {\n",
       "                    if (nbb_cells[i].input_prompt_number == nbb_cell_id) {\n",
       "                        if (nbb_cells[i].get_text() == nbb_unformatted_code) {\n",
       "                             nbb_cells[i].set_text(nbb_formatted_code);\n",
       "                        }\n",
       "                        break;\n",
       "                    }\n",
       "                }\n",
       "            }, 500);\n",
       "            "
      ],
      "text/plain": [
       "<IPython.core.display.Javascript object>"
      ]
     },
     "metadata": {},
     "output_type": "display_data"
    }
   ],
   "source": [
    "# Dropping outliers of MonthlyIncome\n",
    "data.drop(outlier_powers3.index, axis=0, inplace=True)"
   ]
  },
  {
   "cell_type": "code",
   "execution_count": 61,
   "metadata": {},
   "outputs": [
    {
     "data": {
      "text/plain": [
       "(4121, 18)"
      ]
     },
     "execution_count": 61,
     "metadata": {},
     "output_type": "execute_result"
    },
    {
     "data": {
      "application/javascript": [
       "\n",
       "            setTimeout(function() {\n",
       "                var nbb_cell_id = 61;\n",
       "                var nbb_unformatted_code = \"data.shape\";\n",
       "                var nbb_formatted_code = \"data.shape\";\n",
       "                var nbb_cells = Jupyter.notebook.get_cells();\n",
       "                for (var i = 0; i < nbb_cells.length; ++i) {\n",
       "                    if (nbb_cells[i].input_prompt_number == nbb_cell_id) {\n",
       "                        if (nbb_cells[i].get_text() == nbb_unformatted_code) {\n",
       "                             nbb_cells[i].set_text(nbb_formatted_code);\n",
       "                        }\n",
       "                        break;\n",
       "                    }\n",
       "                }\n",
       "            }, 500);\n",
       "            "
      ],
      "text/plain": [
       "<IPython.core.display.Javascript object>"
      ]
     },
     "metadata": {},
     "output_type": "display_data"
    }
   ],
   "source": [
    "data.shape"
   ]
  },
  {
   "cell_type": "markdown",
   "metadata": {},
   "source": [
    "#### Observations\n",
    "I have now removed outlier from the variables I saw had them when doing EDA."
   ]
  },
  {
   "cell_type": "code",
   "execution_count": 62,
   "metadata": {},
   "outputs": [
    {
     "name": "stdout",
     "output_type": "stream",
     "text": [
      "<class 'pandas.core.frame.DataFrame'>\n",
      "Int64Index: 4121 entries, 0 to 4887\n",
      "Data columns (total 18 columns):\n",
      " #   Column                    Non-Null Count  Dtype   \n",
      "---  ------                    --------------  -----   \n",
      " 0   ProdTaken                 4121 non-null   bool    \n",
      " 1   Age                       4121 non-null   int64   \n",
      " 2   TypeofContact             4121 non-null   category\n",
      " 3   CityTier                  4121 non-null   category\n",
      " 4   DurationOfPitch           4121 non-null   float64 \n",
      " 5   Occupation                4121 non-null   category\n",
      " 6   Gender                    4121 non-null   category\n",
      " 7   NumberOfPersonVisiting    4121 non-null   int64   \n",
      " 8   NumberOfFollowups         4121 non-null   float64 \n",
      " 9   ProductPitched            4121 non-null   category\n",
      " 10  PreferredPropertyStar     4121 non-null   category\n",
      " 11  MaritalStatus             4121 non-null   category\n",
      " 12  NumberOfTrips             4121 non-null   float64 \n",
      " 13  Passport                  4121 non-null   bool    \n",
      " 14  OwnCar                    4121 non-null   bool    \n",
      " 15  NumberOfChildrenVisiting  4121 non-null   float64 \n",
      " 16  Designation               4121 non-null   category\n",
      " 17  MonthlyIncome             4121 non-null   float64 \n",
      "dtypes: bool(3), category(8), float64(5), int64(2)\n",
      "memory usage: 303.0 KB\n"
     ]
    },
    {
     "data": {
      "application/javascript": [
       "\n",
       "            setTimeout(function() {\n",
       "                var nbb_cell_id = 62;\n",
       "                var nbb_unformatted_code = \"data.info()\";\n",
       "                var nbb_formatted_code = \"data.info()\";\n",
       "                var nbb_cells = Jupyter.notebook.get_cells();\n",
       "                for (var i = 0; i < nbb_cells.length; ++i) {\n",
       "                    if (nbb_cells[i].input_prompt_number == nbb_cell_id) {\n",
       "                        if (nbb_cells[i].get_text() == nbb_unformatted_code) {\n",
       "                             nbb_cells[i].set_text(nbb_formatted_code);\n",
       "                        }\n",
       "                        break;\n",
       "                    }\n",
       "                }\n",
       "            }, 500);\n",
       "            "
      ],
      "text/plain": [
       "<IPython.core.display.Javascript object>"
      ]
     },
     "metadata": {},
     "output_type": "display_data"
    }
   ],
   "source": [
    "data.info()"
   ]
  },
  {
   "cell_type": "markdown",
   "metadata": {},
   "source": [
    "## Model Building"
   ]
  },
  {
   "cell_type": "code",
   "execution_count": 63,
   "metadata": {},
   "outputs": [
    {
     "data": {
      "application/javascript": [
       "\n",
       "            setTimeout(function() {\n",
       "                var nbb_cell_id = 63;\n",
       "                var nbb_unformatted_code = \"# First, I always drop our target variable. In this instance, it is ProdTaken\\nX = data.drop([\\\"ProdTaken\\\"], axis=1)\\nY = data[\\\"ProdTaken\\\"]\\n\\n# Building our dummies for categorical varaibles\\nX = pd.get_dummies(\\n    X,\\n    columns=[\\n        \\\"TypeofContact\\\",\\n        \\\"CityTier\\\",\\n        \\\"Occupation\\\",\\n        \\\"Gender\\\",\\n        \\\"ProductPitched\\\",\\n        \\\"PreferredPropertyStar\\\",\\n        \\\"MaritalStatus\\\",\\n        \\\"Designation\\\",\\n    ],\\n    drop_first=True,\\n)\\n\\nX_train, X_test, y_train, y_test = train_test_split(\\n    X, Y, test_size=0.30, random_state=1\\n)\";\n",
       "                var nbb_formatted_code = \"# First, I always drop our target variable. In this instance, it is ProdTaken\\nX = data.drop([\\\"ProdTaken\\\"], axis=1)\\nY = data[\\\"ProdTaken\\\"]\\n\\n# Building our dummies for categorical varaibles\\nX = pd.get_dummies(\\n    X,\\n    columns=[\\n        \\\"TypeofContact\\\",\\n        \\\"CityTier\\\",\\n        \\\"Occupation\\\",\\n        \\\"Gender\\\",\\n        \\\"ProductPitched\\\",\\n        \\\"PreferredPropertyStar\\\",\\n        \\\"MaritalStatus\\\",\\n        \\\"Designation\\\",\\n    ],\\n    drop_first=True,\\n)\\n\\nX_train, X_test, y_train, y_test = train_test_split(\\n    X, Y, test_size=0.30, random_state=1\\n)\";\n",
       "                var nbb_cells = Jupyter.notebook.get_cells();\n",
       "                for (var i = 0; i < nbb_cells.length; ++i) {\n",
       "                    if (nbb_cells[i].input_prompt_number == nbb_cell_id) {\n",
       "                        if (nbb_cells[i].get_text() == nbb_unformatted_code) {\n",
       "                             nbb_cells[i].set_text(nbb_formatted_code);\n",
       "                        }\n",
       "                        break;\n",
       "                    }\n",
       "                }\n",
       "            }, 500);\n",
       "            "
      ],
      "text/plain": [
       "<IPython.core.display.Javascript object>"
      ]
     },
     "metadata": {},
     "output_type": "display_data"
    }
   ],
   "source": [
    "# First, I always drop our target variable. In this instance, it is ProdTaken\n",
    "X = data.drop([\"ProdTaken\"], axis=1)\n",
    "Y = data[\"ProdTaken\"]\n",
    "\n",
    "# Building our dummies for categorical varaibles\n",
    "X = pd.get_dummies(\n",
    "    X,\n",
    "    columns=[\n",
    "        \"TypeofContact\",\n",
    "        \"CityTier\",\n",
    "        \"Occupation\",\n",
    "        \"Gender\",\n",
    "        \"ProductPitched\",\n",
    "        \"PreferredPropertyStar\",\n",
    "        \"MaritalStatus\",\n",
    "        \"Designation\",\n",
    "    ],\n",
    "    drop_first=True,\n",
    ")\n",
    "\n",
    "X_train, X_test, y_train, y_test = train_test_split(\n",
    "    X, Y, test_size=0.30, random_state=1\n",
    ")"
   ]
  },
  {
   "cell_type": "code",
   "execution_count": 64,
   "metadata": {},
   "outputs": [
    {
     "data": {
      "application/javascript": [
       "\n",
       "            setTimeout(function() {\n",
       "                var nbb_cell_id = 64;\n",
       "                var nbb_unformatted_code = \"# Defining function to get metrics Accuracy, Recall and Precision\\ndef get_metrics_score(model, flag=True):\\n    score_list = []\\n\\n    pred_train = model.predict(X_train)\\n    pred_test = model.predict(X_test)\\n\\n    train_acc = model.score(X_train, y_train)\\n    test_acc = model.score(X_test, y_test)\\n\\n    train_recall = metrics.recall_score(y_train, pred_train)\\n    test_recall = metrics.recall_score(y_test, pred_test)\\n\\n    train_precision = metrics.precision_score(y_train, pred_train)\\n    test_precision = metrics.precision_score(y_test, pred_test)\\n\\n    score_list.extend(\\n        (\\n            train_acc,\\n            test_acc,\\n            train_recall,\\n            test_recall,\\n            train_precision,\\n            test_precision,\\n        )\\n    )\\n\\n    if flag == True:\\n        print(\\\"Accuracy For Training Set: \\\", model.score(X_train, y_train))\\n        print(\\\"Accuracy For Test Set: \\\", model.score(X_test, y_test))\\n        print(\\\"Recall For Training Set: \\\", metrics.recall_score(y_train, pred_train))\\n        print(\\\"Recall on test set: \\\", metrics.recall_score(y_test, pred_test))\\n        print(\\n            \\\"Precision For Training Set: \\\", metrics.precision_score(y_train, pred_train)\\n        )\\n        print(\\\"Precision For Test Set: \\\", metrics.precision_score(y_test, pred_test))\\n\\n    return score_list\";\n",
       "                var nbb_formatted_code = \"# Defining function to get metrics Accuracy, Recall and Precision\\ndef get_metrics_score(model, flag=True):\\n    score_list = []\\n\\n    pred_train = model.predict(X_train)\\n    pred_test = model.predict(X_test)\\n\\n    train_acc = model.score(X_train, y_train)\\n    test_acc = model.score(X_test, y_test)\\n\\n    train_recall = metrics.recall_score(y_train, pred_train)\\n    test_recall = metrics.recall_score(y_test, pred_test)\\n\\n    train_precision = metrics.precision_score(y_train, pred_train)\\n    test_precision = metrics.precision_score(y_test, pred_test)\\n\\n    score_list.extend(\\n        (\\n            train_acc,\\n            test_acc,\\n            train_recall,\\n            test_recall,\\n            train_precision,\\n            test_precision,\\n        )\\n    )\\n\\n    if flag == True:\\n        print(\\\"Accuracy For Training Set: \\\", model.score(X_train, y_train))\\n        print(\\\"Accuracy For Test Set: \\\", model.score(X_test, y_test))\\n        print(\\\"Recall For Training Set: \\\", metrics.recall_score(y_train, pred_train))\\n        print(\\\"Recall on test set: \\\", metrics.recall_score(y_test, pred_test))\\n        print(\\n            \\\"Precision For Training Set: \\\", metrics.precision_score(y_train, pred_train)\\n        )\\n        print(\\\"Precision For Test Set: \\\", metrics.precision_score(y_test, pred_test))\\n\\n    return score_list\";\n",
       "                var nbb_cells = Jupyter.notebook.get_cells();\n",
       "                for (var i = 0; i < nbb_cells.length; ++i) {\n",
       "                    if (nbb_cells[i].input_prompt_number == nbb_cell_id) {\n",
       "                        if (nbb_cells[i].get_text() == nbb_unformatted_code) {\n",
       "                             nbb_cells[i].set_text(nbb_formatted_code);\n",
       "                        }\n",
       "                        break;\n",
       "                    }\n",
       "                }\n",
       "            }, 500);\n",
       "            "
      ],
      "text/plain": [
       "<IPython.core.display.Javascript object>"
      ]
     },
     "metadata": {},
     "output_type": "display_data"
    }
   ],
   "source": [
    "# Defining function to get metrics Accuracy, Recall and Precision\n",
    "def get_metrics_score(model, flag=True):\n",
    "    score_list = []\n",
    "\n",
    "    pred_train = model.predict(X_train)\n",
    "    pred_test = model.predict(X_test)\n",
    "\n",
    "    train_acc = model.score(X_train, y_train)\n",
    "    test_acc = model.score(X_test, y_test)\n",
    "\n",
    "    train_recall = metrics.recall_score(y_train, pred_train)\n",
    "    test_recall = metrics.recall_score(y_test, pred_test)\n",
    "\n",
    "    train_precision = metrics.precision_score(y_train, pred_train)\n",
    "    test_precision = metrics.precision_score(y_test, pred_test)\n",
    "\n",
    "    score_list.extend(\n",
    "        (\n",
    "            train_acc,\n",
    "            test_acc,\n",
    "            train_recall,\n",
    "            test_recall,\n",
    "            train_precision,\n",
    "            test_precision,\n",
    "        )\n",
    "    )\n",
    "\n",
    "    if flag == True:\n",
    "        print(\"Accuracy For Training Set: \", model.score(X_train, y_train))\n",
    "        print(\"Accuracy For Test Set: \", model.score(X_test, y_test))\n",
    "        print(\"Recall For Training Set: \", metrics.recall_score(y_train, pred_train))\n",
    "        print(\"Recall on test set: \", metrics.recall_score(y_test, pred_test))\n",
    "        print(\n",
    "            \"Precision For Training Set: \", metrics.precision_score(y_train, pred_train)\n",
    "        )\n",
    "        print(\"Precision For Test Set: \", metrics.precision_score(y_test, pred_test))\n",
    "\n",
    "    return score_list"
   ]
  },
  {
   "cell_type": "code",
   "execution_count": 65,
   "metadata": {},
   "outputs": [
    {
     "data": {
      "application/javascript": [
       "\n",
       "            setTimeout(function() {\n",
       "                var nbb_cell_id = 65;\n",
       "                var nbb_unformatted_code = \"# Confusion Matrix function\\ndef make_confusion_matrix(model, y_actual, labels=[1, 0]):\\n    y_predict = model.predict(X_test)\\n    cm = metrics.confusion_matrix(y_actual, y_predict, labels=[0, 1])\\n    df_cm = pd.DataFrame(\\n        cm,\\n        index=[i for i in [\\\"Actual - No\\\", \\\"Actual - Yes\\\"]],\\n        columns=[i for i in [\\\"Predicted - No\\\", \\\"Predicted - Yes\\\"]],\\n    )\\n    group_counts = [\\\"{0:0.0f}\\\".format(value) for value in cm.flatten()]\\n    group_percentages = [\\\"{0:.2%}\\\".format(value) for value in cm.flatten() / np.sum(cm)]\\n    labels = [f\\\"{v1}\\\\n{v2}\\\" for v1, v2 in zip(group_counts, group_percentages)]\\n    labels = np.asarray(labels).reshape(2, 2)\\n    plt.figure(figsize=(10, 7))\\n    sns.heatmap(df_cm, annot=labels, fmt=\\\"\\\")\\n    plt.ylabel(\\\"True label\\\")\\n    plt.xlabel(\\\"Predicted label\\\")\";\n",
       "                var nbb_formatted_code = \"# Confusion Matrix function\\ndef make_confusion_matrix(model, y_actual, labels=[1, 0]):\\n    y_predict = model.predict(X_test)\\n    cm = metrics.confusion_matrix(y_actual, y_predict, labels=[0, 1])\\n    df_cm = pd.DataFrame(\\n        cm,\\n        index=[i for i in [\\\"Actual - No\\\", \\\"Actual - Yes\\\"]],\\n        columns=[i for i in [\\\"Predicted - No\\\", \\\"Predicted - Yes\\\"]],\\n    )\\n    group_counts = [\\\"{0:0.0f}\\\".format(value) for value in cm.flatten()]\\n    group_percentages = [\\\"{0:.2%}\\\".format(value) for value in cm.flatten() / np.sum(cm)]\\n    labels = [f\\\"{v1}\\\\n{v2}\\\" for v1, v2 in zip(group_counts, group_percentages)]\\n    labels = np.asarray(labels).reshape(2, 2)\\n    plt.figure(figsize=(10, 7))\\n    sns.heatmap(df_cm, annot=labels, fmt=\\\"\\\")\\n    plt.ylabel(\\\"True label\\\")\\n    plt.xlabel(\\\"Predicted label\\\")\";\n",
       "                var nbb_cells = Jupyter.notebook.get_cells();\n",
       "                for (var i = 0; i < nbb_cells.length; ++i) {\n",
       "                    if (nbb_cells[i].input_prompt_number == nbb_cell_id) {\n",
       "                        if (nbb_cells[i].get_text() == nbb_unformatted_code) {\n",
       "                             nbb_cells[i].set_text(nbb_formatted_code);\n",
       "                        }\n",
       "                        break;\n",
       "                    }\n",
       "                }\n",
       "            }, 500);\n",
       "            "
      ],
      "text/plain": [
       "<IPython.core.display.Javascript object>"
      ]
     },
     "metadata": {},
     "output_type": "display_data"
    }
   ],
   "source": [
    "# Confusion Matrix function\n",
    "def make_confusion_matrix(model, y_actual, labels=[1, 0]):\n",
    "    y_predict = model.predict(X_test)\n",
    "    cm = metrics.confusion_matrix(y_actual, y_predict, labels=[0, 1])\n",
    "    df_cm = pd.DataFrame(\n",
    "        cm,\n",
    "        index=[i for i in [\"Actual - No\", \"Actual - Yes\"]],\n",
    "        columns=[i for i in [\"Predicted - No\", \"Predicted - Yes\"]],\n",
    "    )\n",
    "    group_counts = [\"{0:0.0f}\".format(value) for value in cm.flatten()]\n",
    "    group_percentages = [\"{0:.2%}\".format(value) for value in cm.flatten() / np.sum(cm)]\n",
    "    labels = [f\"{v1}\\n{v2}\" for v1, v2 in zip(group_counts, group_percentages)]\n",
    "    labels = np.asarray(labels).reshape(2, 2)\n",
    "    plt.figure(figsize=(10, 7))\n",
    "    sns.heatmap(df_cm, annot=labels, fmt=\"\")\n",
    "    plt.ylabel(\"True label\")\n",
    "    plt.xlabel(\"Predicted label\")"
   ]
  },
  {
   "cell_type": "code",
   "execution_count": 66,
   "metadata": {
    "scrolled": true
   },
   "outputs": [
    {
     "name": "stdout",
     "output_type": "stream",
     "text": [
      "['Age', 'DurationOfPitch', 'NumberOfPersonVisiting', 'NumberOfFollowups', 'NumberOfTrips', 'Passport', 'OwnCar', 'NumberOfChildrenVisiting', 'MonthlyIncome', 'TypeofContact_Self Enquiry', 'CityTier_2', 'CityTier_3', 'Occupation_Large Business', 'Occupation_Salaried', 'Occupation_Small Business', 'Gender_Male', 'ProductPitched_Deluxe', 'ProductPitched_King', 'ProductPitched_Standard', 'ProductPitched_Super Deluxe', 'PreferredPropertyStar_4.0', 'PreferredPropertyStar_5.0', 'MaritalStatus_Married', 'MaritalStatus_Single', 'MaritalStatus_Unmarried', 'Designation_Executive', 'Designation_Manager', 'Designation_Senior Manager', 'Designation_VP']\n"
     ]
    },
    {
     "data": {
      "application/javascript": [
       "\n",
       "            setTimeout(function() {\n",
       "                var nbb_cell_id = 66;\n",
       "                var nbb_unformatted_code = \"# Listing X columns, or features\\nfeature_names = list(X.columns)\\nprint(feature_names)\";\n",
       "                var nbb_formatted_code = \"# Listing X columns, or features\\nfeature_names = list(X.columns)\\nprint(feature_names)\";\n",
       "                var nbb_cells = Jupyter.notebook.get_cells();\n",
       "                for (var i = 0; i < nbb_cells.length; ++i) {\n",
       "                    if (nbb_cells[i].input_prompt_number == nbb_cell_id) {\n",
       "                        if (nbb_cells[i].get_text() == nbb_unformatted_code) {\n",
       "                             nbb_cells[i].set_text(nbb_formatted_code);\n",
       "                        }\n",
       "                        break;\n",
       "                    }\n",
       "                }\n",
       "            }, 500);\n",
       "            "
      ],
      "text/plain": [
       "<IPython.core.display.Javascript object>"
      ]
     },
     "metadata": {},
     "output_type": "display_data"
    }
   ],
   "source": [
    "# Listing X columns, or features\n",
    "feature_names = list(X.columns)\n",
    "print(feature_names)"
   ]
  },
  {
   "cell_type": "code",
   "execution_count": 67,
   "metadata": {},
   "outputs": [
    {
     "data": {
      "text/plain": [
       "DecisionTreeClassifier(random_state=1)"
      ]
     },
     "execution_count": 67,
     "metadata": {},
     "output_type": "execute_result"
    },
    {
     "data": {
      "application/javascript": [
       "\n",
       "            setTimeout(function() {\n",
       "                var nbb_cell_id = 67;\n",
       "                var nbb_unformatted_code = \"# Fitting our decision tree\\ndTree = DecisionTreeClassifier(criterion=\\\"gini\\\", random_state=1)\\ndTree.fit(X_train, y_train)\";\n",
       "                var nbb_formatted_code = \"# Fitting our decision tree\\ndTree = DecisionTreeClassifier(criterion=\\\"gini\\\", random_state=1)\\ndTree.fit(X_train, y_train)\";\n",
       "                var nbb_cells = Jupyter.notebook.get_cells();\n",
       "                for (var i = 0; i < nbb_cells.length; ++i) {\n",
       "                    if (nbb_cells[i].input_prompt_number == nbb_cell_id) {\n",
       "                        if (nbb_cells[i].get_text() == nbb_unformatted_code) {\n",
       "                             nbb_cells[i].set_text(nbb_formatted_code);\n",
       "                        }\n",
       "                        break;\n",
       "                    }\n",
       "                }\n",
       "            }, 500);\n",
       "            "
      ],
      "text/plain": [
       "<IPython.core.display.Javascript object>"
      ]
     },
     "metadata": {},
     "output_type": "display_data"
    }
   ],
   "source": [
    "# Fitting our decision tree\n",
    "dTree = DecisionTreeClassifier(criterion=\"gini\", random_state=1)\n",
    "dTree.fit(X_train, y_train)"
   ]
  },
  {
   "cell_type": "code",
   "execution_count": 68,
   "metadata": {},
   "outputs": [
    {
     "data": {
      "image/png": "[encoded data removed]",
      "text/plain": [
       "<Figure size 720x504 with 2 Axes>"
      ]
     },
     "metadata": {
      "needs_background": "light"
     },
     "output_type": "display_data"
    },
    {
     "data": {
      "application/javascript": [
       "\n",
       "            setTimeout(function() {\n",
       "                var nbb_cell_id = 68;\n",
       "                var nbb_unformatted_code = \"# Decision tree confusion matrix\\nmake_confusion_matrix(dTree, y_test)\";\n",
       "                var nbb_formatted_code = \"# Decision tree confusion matrix\\nmake_confusion_matrix(dTree, y_test)\";\n",
       "                var nbb_cells = Jupyter.notebook.get_cells();\n",
       "                for (var i = 0; i < nbb_cells.length; ++i) {\n",
       "                    if (nbb_cells[i].input_prompt_number == nbb_cell_id) {\n",
       "                        if (nbb_cells[i].get_text() == nbb_unformatted_code) {\n",
       "                             nbb_cells[i].set_text(nbb_formatted_code);\n",
       "                        }\n",
       "                        break;\n",
       "                    }\n",
       "                }\n",
       "            }, 500);\n",
       "            "
      ],
      "text/plain": [
       "<IPython.core.display.Javascript object>"
      ]
     },
     "metadata": {},
     "output_type": "display_data"
    }
   ],
   "source": [
    "# Decision tree confusion matrix\n",
    "make_confusion_matrix(dTree, y_test)"
   ]
  },
  {
   "cell_type": "code",
   "execution_count": 69,
   "metadata": {},
   "outputs": [
    {
     "data": {
      "application/javascript": [
       "\n",
       "            setTimeout(function() {\n",
       "                var nbb_cell_id = 69;\n",
       "                var nbb_unformatted_code = \"# Calculating recall score\\ndef get_recall_score(model):\\n    pred_train = model.predict(X_train)\\n    pred_test = model.predict(X_test)\\n    print(\\\"Recall on training set : \\\", metrics.recall_score(y_train, pred_train))\\n    print(\\\"Recall on test set : \\\", metrics.recall_score(y_test, pred_test))\";\n",
       "                var nbb_formatted_code = \"# Calculating recall score\\ndef get_recall_score(model):\\n    pred_train = model.predict(X_train)\\n    pred_test = model.predict(X_test)\\n    print(\\\"Recall on training set : \\\", metrics.recall_score(y_train, pred_train))\\n    print(\\\"Recall on test set : \\\", metrics.recall_score(y_test, pred_test))\";\n",
       "                var nbb_cells = Jupyter.notebook.get_cells();\n",
       "                for (var i = 0; i < nbb_cells.length; ++i) {\n",
       "                    if (nbb_cells[i].input_prompt_number == nbb_cell_id) {\n",
       "                        if (nbb_cells[i].get_text() == nbb_unformatted_code) {\n",
       "                             nbb_cells[i].set_text(nbb_formatted_code);\n",
       "                        }\n",
       "                        break;\n",
       "                    }\n",
       "                }\n",
       "            }, 500);\n",
       "            "
      ],
      "text/plain": [
       "<IPython.core.display.Javascript object>"
      ]
     },
     "metadata": {},
     "output_type": "display_data"
    }
   ],
   "source": [
    "# Calculating recall score\n",
    "def get_recall_score(model):\n",
    "    pred_train = model.predict(X_train)\n",
    "    pred_test = model.predict(X_test)\n",
    "    print(\"Recall on training set : \", metrics.recall_score(y_train, pred_train))\n",
    "    print(\"Recall on test set : \", metrics.recall_score(y_test, pred_test))"
   ]
  },
  {
   "cell_type": "code",
   "execution_count": 70,
   "metadata": {
    "scrolled": true
   },
   "outputs": [
    {
     "name": "stdout",
     "output_type": "stream",
     "text": [
      "Recall on training set :  1.0\n",
      "Recall on test set :  0.8078602620087336\n"
     ]
    },
    {
     "data": {
      "application/javascript": [
       "\n",
       "            setTimeout(function() {\n",
       "                var nbb_cell_id = 70;\n",
       "                var nbb_unformatted_code = \"# Recall score for our decision tree\\nget_recall_score(dTree)\";\n",
       "                var nbb_formatted_code = \"# Recall score for our decision tree\\nget_recall_score(dTree)\";\n",
       "                var nbb_cells = Jupyter.notebook.get_cells();\n",
       "                for (var i = 0; i < nbb_cells.length; ++i) {\n",
       "                    if (nbb_cells[i].input_prompt_number == nbb_cell_id) {\n",
       "                        if (nbb_cells[i].get_text() == nbb_unformatted_code) {\n",
       "                             nbb_cells[i].set_text(nbb_formatted_code);\n",
       "                        }\n",
       "                        break;\n",
       "                    }\n",
       "                }\n",
       "            }, 500);\n",
       "            "
      ],
      "text/plain": [
       "<IPython.core.display.Javascript object>"
      ]
     },
     "metadata": {},
     "output_type": "display_data"
    }
   ],
   "source": [
    "# Recall score for our decision tree\n",
    "get_recall_score(dTree)"
   ]
  },
  {
   "cell_type": "markdown",
   "metadata": {},
   "source": [
    "#### Observations\n",
    "I see a recall of 81% on our test set, not horrible, but it could hopefully improve!"
   ]
  },
  {
   "cell_type": "code",
   "execution_count": 71,
   "metadata": {},
   "outputs": [
    {
     "name": "stdout",
     "output_type": "stream",
     "text": [
      "Accuracy on training set :  1.0\n",
      "Accuracy on test set :  0.9005658852061439\n"
     ]
    },
    {
     "data": {
      "application/javascript": [
       "\n",
       "            setTimeout(function() {\n",
       "                var nbb_cell_id = 71;\n",
       "                var nbb_unformatted_code = \"# Accuracy for our decision tree\\nprint(\\\"Accuracy on training set : \\\", dTree.score(X_train, y_train))\\nprint(\\\"Accuracy on test set : \\\", dTree.score(X_test, y_test))\";\n",
       "                var nbb_formatted_code = \"# Accuracy for our decision tree\\nprint(\\\"Accuracy on training set : \\\", dTree.score(X_train, y_train))\\nprint(\\\"Accuracy on test set : \\\", dTree.score(X_test, y_test))\";\n",
       "                var nbb_cells = Jupyter.notebook.get_cells();\n",
       "                for (var i = 0; i < nbb_cells.length; ++i) {\n",
       "                    if (nbb_cells[i].input_prompt_number == nbb_cell_id) {\n",
       "                        if (nbb_cells[i].get_text() == nbb_unformatted_code) {\n",
       "                             nbb_cells[i].set_text(nbb_formatted_code);\n",
       "                        }\n",
       "                        break;\n",
       "                    }\n",
       "                }\n",
       "            }, 500);\n",
       "            "
      ],
      "text/plain": [
       "<IPython.core.display.Javascript object>"
      ]
     },
     "metadata": {},
     "output_type": "display_data"
    }
   ],
   "source": [
    "# Accuracy for our decision tree\n",
    "print(\"Accuracy on training set : \", dTree.score(X_train, y_train))\n",
    "print(\"Accuracy on test set : \", dTree.score(X_test, y_test))"
   ]
  },
  {
   "cell_type": "markdown",
   "metadata": {},
   "source": [
    "#### Observations\n",
    "This is actually quite good for our test set. 90%!"
   ]
  },
  {
   "cell_type": "code",
   "execution_count": 72,
   "metadata": {
    "scrolled": true
   },
   "outputs": [
    {
     "ename": "KeyboardInterrupt",
     "evalue": "",
     "output_type": "error",
     "traceback": [
      "\u001b[1;31m---------------------------------------------------------------------------\u001b[0m",
      "\u001b[1;31mKeyboardInterrupt\u001b[0m                         Traceback (most recent call last)",
      "\u001b[1;32m<ipython-input-72-672766fe0db9>\u001b[0m in \u001b[0;36m<module>\u001b[1;34m\u001b[0m\n\u001b[0;32m      9\u001b[0m     \u001b[0mclass_names\u001b[0m\u001b[1;33m=\u001b[0m\u001b[1;32mTrue\u001b[0m\u001b[1;33m,\u001b[0m\u001b[1;33m\u001b[0m\u001b[1;33m\u001b[0m\u001b[0m\n\u001b[0;32m     10\u001b[0m )\n\u001b[1;32m---> 11\u001b[1;33m \u001b[0mplt\u001b[0m\u001b[1;33m.\u001b[0m\u001b[0mshow\u001b[0m\u001b[1;33m(\u001b[0m\u001b[1;33m)\u001b[0m\u001b[1;33m\u001b[0m\u001b[1;33m\u001b[0m\u001b[0m\n\u001b[0m",
      "\u001b[1;32m~\\Anaconda\\lib\\site-packages\\matplotlib\\pyplot.py\u001b[0m in \u001b[0;36mshow\u001b[1;34m(*args, **kwargs)\u001b[0m\n\u001b[0;32m    351\u001b[0m     \"\"\"\n\u001b[0;32m    352\u001b[0m     \u001b[0m_warn_if_gui_out_of_main_thread\u001b[0m\u001b[1;33m(\u001b[0m\u001b[1;33m)\u001b[0m\u001b[1;33m\u001b[0m\u001b[1;33m\u001b[0m\u001b[0m\n\u001b[1;32m--> 353\u001b[1;33m     \u001b[1;32mreturn\u001b[0m \u001b[0m_backend_mod\u001b[0m\u001b[1;33m.\u001b[0m\u001b[0mshow\u001b[0m\u001b[1;33m(\u001b[0m\u001b[1;33m*\u001b[0m\u001b[0margs\u001b[0m\u001b[1;33m,\u001b[0m \u001b[1;33m**\u001b[0m\u001b[0mkwargs\u001b[0m\u001b[1;33m)\u001b[0m\u001b[1;33m\u001b[0m\u001b[1;33m\u001b[0m\u001b[0m\n\u001b[0m\u001b[0;32m    354\u001b[0m \u001b[1;33m\u001b[0m\u001b[0m\n\u001b[0;32m    355\u001b[0m \u001b[1;33m\u001b[0m\u001b[0m\n",
      "\u001b[1;32m~\\Anaconda\\lib\\site-packages\\ipykernel\\pylab\\backend_inline.py\u001b[0m in \u001b[0;36mshow\u001b[1;34m(close, block)\u001b[0m\n\u001b[0;32m     39\u001b[0m     \u001b[1;32mtry\u001b[0m\u001b[1;33m:\u001b[0m\u001b[1;33m\u001b[0m\u001b[1;33m\u001b[0m\u001b[0m\n\u001b[0;32m     40\u001b[0m         \u001b[1;32mfor\u001b[0m \u001b[0mfigure_manager\u001b[0m \u001b[1;32min\u001b[0m \u001b[0mGcf\u001b[0m\u001b[1;33m.\u001b[0m\u001b[0mget_all_fig_managers\u001b[0m\u001b[1;33m(\u001b[0m\u001b[1;33m)\u001b[0m\u001b[1;33m:\u001b[0m\u001b[1;33m\u001b[0m\u001b[1;33m\u001b[0m\u001b[0m\n\u001b[1;32m---> 41\u001b[1;33m             display(\n\u001b[0m\u001b[0;32m     42\u001b[0m                 \u001b[0mfigure_manager\u001b[0m\u001b[1;33m.\u001b[0m\u001b[0mcanvas\u001b[0m\u001b[1;33m.\u001b[0m\u001b[0mfigure\u001b[0m\u001b[1;33m,\u001b[0m\u001b[1;33m\u001b[0m\u001b[1;33m\u001b[0m\u001b[0m\n\u001b[0;32m     43\u001b[0m                 \u001b[0mmetadata\u001b[0m\u001b[1;33m=\u001b[0m\u001b[0m_fetch_figure_metadata\u001b[0m\u001b[1;33m(\u001b[0m\u001b[0mfigure_manager\u001b[0m\u001b[1;33m.\u001b[0m\u001b[0mcanvas\u001b[0m\u001b[1;33m.\u001b[0m\u001b[0mfigure\u001b[0m\u001b[1;33m)\u001b[0m\u001b[1;33m\u001b[0m\u001b[1;33m\u001b[0m\u001b[0m\n",
      "\u001b[1;32m~\\Anaconda\\lib\\site-packages\\IPython\\core\\display.py\u001b[0m in \u001b[0;36mdisplay\u001b[1;34m(include, exclude, metadata, transient, display_id, *objs, **kwargs)\u001b[0m\n\u001b[0;32m    311\u001b[0m             \u001b[0mpublish_display_data\u001b[0m\u001b[1;33m(\u001b[0m\u001b[0mdata\u001b[0m\u001b[1;33m=\u001b[0m\u001b[0mobj\u001b[0m\u001b[1;33m,\u001b[0m \u001b[0mmetadata\u001b[0m\u001b[1;33m=\u001b[0m\u001b[0mmetadata\u001b[0m\u001b[1;33m,\u001b[0m \u001b[1;33m**\u001b[0m\u001b[0mkwargs\u001b[0m\u001b[1;33m)\u001b[0m\u001b[1;33m\u001b[0m\u001b[1;33m\u001b[0m\u001b[0m\n\u001b[0;32m    312\u001b[0m         \u001b[1;32melse\u001b[0m\u001b[1;33m:\u001b[0m\u001b[1;33m\u001b[0m\u001b[1;33m\u001b[0m\u001b[0m\n\u001b[1;32m--> 313\u001b[1;33m             \u001b[0mformat_dict\u001b[0m\u001b[1;33m,\u001b[0m \u001b[0mmd_dict\u001b[0m \u001b[1;33m=\u001b[0m \u001b[0mformat\u001b[0m\u001b[1;33m(\u001b[0m\u001b[0mobj\u001b[0m\u001b[1;33m,\u001b[0m \u001b[0minclude\u001b[0m\u001b[1;33m=\u001b[0m\u001b[0minclude\u001b[0m\u001b[1;33m,\u001b[0m \u001b[0mexclude\u001b[0m\u001b[1;33m=\u001b[0m\u001b[0mexclude\u001b[0m\u001b[1;33m)\u001b[0m\u001b[1;33m\u001b[0m\u001b[1;33m\u001b[0m\u001b[0m\n\u001b[0m\u001b[0;32m    314\u001b[0m             \u001b[1;32mif\u001b[0m \u001b[1;32mnot\u001b[0m \u001b[0mformat_dict\u001b[0m\u001b[1;33m:\u001b[0m\u001b[1;33m\u001b[0m\u001b[1;33m\u001b[0m\u001b[0m\n\u001b[0;32m    315\u001b[0m                 \u001b[1;31m# nothing to display (e.g. _ipython_display_ took over)\u001b[0m\u001b[1;33m\u001b[0m\u001b[1;33m\u001b[0m\u001b[1;33m\u001b[0m\u001b[0m\n",
      "\u001b[1;32m~\\Anaconda\\lib\\site-packages\\IPython\\core\\formatters.py\u001b[0m in \u001b[0;36mformat\u001b[1;34m(self, obj, include, exclude)\u001b[0m\n\u001b[0;32m    178\u001b[0m             \u001b[0mmd\u001b[0m \u001b[1;33m=\u001b[0m \u001b[1;32mNone\u001b[0m\u001b[1;33m\u001b[0m\u001b[1;33m\u001b[0m\u001b[0m\n\u001b[0;32m    179\u001b[0m             \u001b[1;32mtry\u001b[0m\u001b[1;33m:\u001b[0m\u001b[1;33m\u001b[0m\u001b[1;33m\u001b[0m\u001b[0m\n\u001b[1;32m--> 180\u001b[1;33m                 \u001b[0mdata\u001b[0m \u001b[1;33m=\u001b[0m \u001b[0mformatter\u001b[0m\u001b[1;33m(\u001b[0m\u001b[0mobj\u001b[0m\u001b[1;33m)\u001b[0m\u001b[1;33m\u001b[0m\u001b[1;33m\u001b[0m\u001b[0m\n\u001b[0m\u001b[0;32m    181\u001b[0m             \u001b[1;32mexcept\u001b[0m\u001b[1;33m:\u001b[0m\u001b[1;33m\u001b[0m\u001b[1;33m\u001b[0m\u001b[0m\n\u001b[0;32m    182\u001b[0m                 \u001b[1;31m# FIXME: log the exception\u001b[0m\u001b[1;33m\u001b[0m\u001b[1;33m\u001b[0m\u001b[1;33m\u001b[0m\u001b[0m\n",
      "\u001b[1;32m<decorator-gen-2>\u001b[0m in \u001b[0;36m__call__\u001b[1;34m(self, obj)\u001b[0m\n",
      "\u001b[1;32m~\\Anaconda\\lib\\site-packages\\IPython\\core\\formatters.py\u001b[0m in \u001b[0;36mcatch_format_error\u001b[1;34m(method, self, *args, **kwargs)\u001b[0m\n\u001b[0;32m    222\u001b[0m     \u001b[1;34m\"\"\"show traceback on failed format call\"\"\"\u001b[0m\u001b[1;33m\u001b[0m\u001b[1;33m\u001b[0m\u001b[0m\n\u001b[0;32m    223\u001b[0m     \u001b[1;32mtry\u001b[0m\u001b[1;33m:\u001b[0m\u001b[1;33m\u001b[0m\u001b[1;33m\u001b[0m\u001b[0m\n\u001b[1;32m--> 224\u001b[1;33m         \u001b[0mr\u001b[0m \u001b[1;33m=\u001b[0m \u001b[0mmethod\u001b[0m\u001b[1;33m(\u001b[0m\u001b[0mself\u001b[0m\u001b[1;33m,\u001b[0m \u001b[1;33m*\u001b[0m\u001b[0margs\u001b[0m\u001b[1;33m,\u001b[0m \u001b[1;33m**\u001b[0m\u001b[0mkwargs\u001b[0m\u001b[1;33m)\u001b[0m\u001b[1;33m\u001b[0m\u001b[1;33m\u001b[0m\u001b[0m\n\u001b[0m\u001b[0;32m    225\u001b[0m     \u001b[1;32mexcept\u001b[0m \u001b[0mNotImplementedError\u001b[0m\u001b[1;33m:\u001b[0m\u001b[1;33m\u001b[0m\u001b[1;33m\u001b[0m\u001b[0m\n\u001b[0;32m    226\u001b[0m         \u001b[1;31m# don't warn on NotImplementedErrors\u001b[0m\u001b[1;33m\u001b[0m\u001b[1;33m\u001b[0m\u001b[1;33m\u001b[0m\u001b[0m\n",
      "\u001b[1;32m~\\Anaconda\\lib\\site-packages\\IPython\\core\\formatters.py\u001b[0m in \u001b[0;36m__call__\u001b[1;34m(self, obj)\u001b[0m\n\u001b[0;32m    339\u001b[0m                 \u001b[1;32mpass\u001b[0m\u001b[1;33m\u001b[0m\u001b[1;33m\u001b[0m\u001b[0m\n\u001b[0;32m    340\u001b[0m             \u001b[1;32melse\u001b[0m\u001b[1;33m:\u001b[0m\u001b[1;33m\u001b[0m\u001b[1;33m\u001b[0m\u001b[0m\n\u001b[1;32m--> 341\u001b[1;33m                 \u001b[1;32mreturn\u001b[0m \u001b[0mprinter\u001b[0m\u001b[1;33m(\u001b[0m\u001b[0mobj\u001b[0m\u001b[1;33m)\u001b[0m\u001b[1;33m\u001b[0m\u001b[1;33m\u001b[0m\u001b[0m\n\u001b[0m\u001b[0;32m    342\u001b[0m             \u001b[1;31m# Finally look for special method names\u001b[0m\u001b[1;33m\u001b[0m\u001b[1;33m\u001b[0m\u001b[1;33m\u001b[0m\u001b[0m\n\u001b[0;32m    343\u001b[0m             \u001b[0mmethod\u001b[0m \u001b[1;33m=\u001b[0m \u001b[0mget_real_method\u001b[0m\u001b[1;33m(\u001b[0m\u001b[0mobj\u001b[0m\u001b[1;33m,\u001b[0m \u001b[0mself\u001b[0m\u001b[1;33m.\u001b[0m\u001b[0mprint_method\u001b[0m\u001b[1;33m)\u001b[0m\u001b[1;33m\u001b[0m\u001b[1;33m\u001b[0m\u001b[0m\n",
      "\u001b[1;32m~\\Anaconda\\lib\\site-packages\\IPython\\core\\pylabtools.py\u001b[0m in \u001b[0;36m<lambda>\u001b[1;34m(fig)\u001b[0m\n\u001b[0;32m    246\u001b[0m \u001b[1;33m\u001b[0m\u001b[0m\n\u001b[0;32m    247\u001b[0m     \u001b[1;32mif\u001b[0m \u001b[1;34m'png'\u001b[0m \u001b[1;32min\u001b[0m \u001b[0mformats\u001b[0m\u001b[1;33m:\u001b[0m\u001b[1;33m\u001b[0m\u001b[1;33m\u001b[0m\u001b[0m\n\u001b[1;32m--> 248\u001b[1;33m         \u001b[0mpng_formatter\u001b[0m\u001b[1;33m.\u001b[0m\u001b[0mfor_type\u001b[0m\u001b[1;33m(\u001b[0m\u001b[0mFigure\u001b[0m\u001b[1;33m,\u001b[0m \u001b[1;32mlambda\u001b[0m \u001b[0mfig\u001b[0m\u001b[1;33m:\u001b[0m \u001b[0mprint_figure\u001b[0m\u001b[1;33m(\u001b[0m\u001b[0mfig\u001b[0m\u001b[1;33m,\u001b[0m \u001b[1;34m'png'\u001b[0m\u001b[1;33m,\u001b[0m \u001b[1;33m**\u001b[0m\u001b[0mkwargs\u001b[0m\u001b[1;33m)\u001b[0m\u001b[1;33m)\u001b[0m\u001b[1;33m\u001b[0m\u001b[1;33m\u001b[0m\u001b[0m\n\u001b[0m\u001b[0;32m    249\u001b[0m     \u001b[1;32mif\u001b[0m \u001b[1;34m'retina'\u001b[0m \u001b[1;32min\u001b[0m \u001b[0mformats\u001b[0m \u001b[1;32mor\u001b[0m \u001b[1;34m'png2x'\u001b[0m \u001b[1;32min\u001b[0m \u001b[0mformats\u001b[0m\u001b[1;33m:\u001b[0m\u001b[1;33m\u001b[0m\u001b[1;33m\u001b[0m\u001b[0m\n\u001b[0;32m    250\u001b[0m         \u001b[0mpng_formatter\u001b[0m\u001b[1;33m.\u001b[0m\u001b[0mfor_type\u001b[0m\u001b[1;33m(\u001b[0m\u001b[0mFigure\u001b[0m\u001b[1;33m,\u001b[0m \u001b[1;32mlambda\u001b[0m \u001b[0mfig\u001b[0m\u001b[1;33m:\u001b[0m \u001b[0mretina_figure\u001b[0m\u001b[1;33m(\u001b[0m\u001b[0mfig\u001b[0m\u001b[1;33m,\u001b[0m \u001b[1;33m**\u001b[0m\u001b[0mkwargs\u001b[0m\u001b[1;33m)\u001b[0m\u001b[1;33m)\u001b[0m\u001b[1;33m\u001b[0m\u001b[1;33m\u001b[0m\u001b[0m\n",
      "\u001b[1;32m~\\Anaconda\\lib\\site-packages\\IPython\\core\\pylabtools.py\u001b[0m in \u001b[0;36mprint_figure\u001b[1;34m(fig, fmt, bbox_inches, **kwargs)\u001b[0m\n\u001b[0;32m    130\u001b[0m         \u001b[0mFigureCanvasBase\u001b[0m\u001b[1;33m(\u001b[0m\u001b[0mfig\u001b[0m\u001b[1;33m)\u001b[0m\u001b[1;33m\u001b[0m\u001b[1;33m\u001b[0m\u001b[0m\n\u001b[0;32m    131\u001b[0m \u001b[1;33m\u001b[0m\u001b[0m\n\u001b[1;32m--> 132\u001b[1;33m     \u001b[0mfig\u001b[0m\u001b[1;33m.\u001b[0m\u001b[0mcanvas\u001b[0m\u001b[1;33m.\u001b[0m\u001b[0mprint_figure\u001b[0m\u001b[1;33m(\u001b[0m\u001b[0mbytes_io\u001b[0m\u001b[1;33m,\u001b[0m \u001b[1;33m**\u001b[0m\u001b[0mkw\u001b[0m\u001b[1;33m)\u001b[0m\u001b[1;33m\u001b[0m\u001b[1;33m\u001b[0m\u001b[0m\n\u001b[0m\u001b[0;32m    133\u001b[0m     \u001b[0mdata\u001b[0m \u001b[1;33m=\u001b[0m \u001b[0mbytes_io\u001b[0m\u001b[1;33m.\u001b[0m\u001b[0mgetvalue\u001b[0m\u001b[1;33m(\u001b[0m\u001b[1;33m)\u001b[0m\u001b[1;33m\u001b[0m\u001b[1;33m\u001b[0m\u001b[0m\n\u001b[0;32m    134\u001b[0m     \u001b[1;32mif\u001b[0m \u001b[0mfmt\u001b[0m \u001b[1;33m==\u001b[0m \u001b[1;34m'svg'\u001b[0m\u001b[1;33m:\u001b[0m\u001b[1;33m\u001b[0m\u001b[1;33m\u001b[0m\u001b[0m\n",
      "\u001b[1;32m~\\Anaconda\\lib\\site-packages\\matplotlib\\backend_bases.py\u001b[0m in \u001b[0;36mprint_figure\u001b[1;34m(self, filename, dpi, facecolor, edgecolor, orientation, format, bbox_inches, pad_inches, bbox_extra_artists, backend, **kwargs)\u001b[0m\n\u001b[0;32m   2193\u001b[0m                         \u001b[0mself\u001b[0m\u001b[1;33m.\u001b[0m\u001b[0mfigure\u001b[0m\u001b[1;33m.\u001b[0m\u001b[0mdraw\u001b[0m\u001b[1;33m(\u001b[0m\u001b[0mrenderer\u001b[0m\u001b[1;33m)\u001b[0m\u001b[1;33m\u001b[0m\u001b[1;33m\u001b[0m\u001b[0m\n\u001b[0;32m   2194\u001b[0m \u001b[1;33m\u001b[0m\u001b[0m\n\u001b[1;32m-> 2195\u001b[1;33m                     bbox_inches = self.figure.get_tightbbox(\n\u001b[0m\u001b[0;32m   2196\u001b[0m                         renderer, bbox_extra_artists=bbox_extra_artists)\n\u001b[0;32m   2197\u001b[0m                     \u001b[1;32mif\u001b[0m \u001b[0mpad_inches\u001b[0m \u001b[1;32mis\u001b[0m \u001b[1;32mNone\u001b[0m\u001b[1;33m:\u001b[0m\u001b[1;33m\u001b[0m\u001b[1;33m\u001b[0m\u001b[0m\n",
      "\u001b[1;32m~\\Anaconda\\lib\\site-packages\\matplotlib\\figure.py\u001b[0m in \u001b[0;36mget_tightbbox\u001b[1;34m(self, renderer, bbox_extra_artists)\u001b[0m\n\u001b[0;32m   2504\u001b[0m \u001b[1;33m\u001b[0m\u001b[0m\n\u001b[0;32m   2505\u001b[0m         \u001b[1;32mfor\u001b[0m \u001b[0ma\u001b[0m \u001b[1;32min\u001b[0m \u001b[0martists\u001b[0m\u001b[1;33m:\u001b[0m\u001b[1;33m\u001b[0m\u001b[1;33m\u001b[0m\u001b[0m\n\u001b[1;32m-> 2506\u001b[1;33m             \u001b[0mbbox\u001b[0m \u001b[1;33m=\u001b[0m \u001b[0ma\u001b[0m\u001b[1;33m.\u001b[0m\u001b[0mget_tightbbox\u001b[0m\u001b[1;33m(\u001b[0m\u001b[0mrenderer\u001b[0m\u001b[1;33m)\u001b[0m\u001b[1;33m\u001b[0m\u001b[1;33m\u001b[0m\u001b[0m\n\u001b[0m\u001b[0;32m   2507\u001b[0m             \u001b[1;32mif\u001b[0m \u001b[0mbbox\u001b[0m \u001b[1;32mis\u001b[0m \u001b[1;32mnot\u001b[0m \u001b[1;32mNone\u001b[0m \u001b[1;32mand\u001b[0m \u001b[1;33m(\u001b[0m\u001b[0mbbox\u001b[0m\u001b[1;33m.\u001b[0m\u001b[0mwidth\u001b[0m \u001b[1;33m!=\u001b[0m \u001b[1;36m0\u001b[0m \u001b[1;32mor\u001b[0m \u001b[0mbbox\u001b[0m\u001b[1;33m.\u001b[0m\u001b[0mheight\u001b[0m \u001b[1;33m!=\u001b[0m \u001b[1;36m0\u001b[0m\u001b[1;33m)\u001b[0m\u001b[1;33m:\u001b[0m\u001b[1;33m\u001b[0m\u001b[1;33m\u001b[0m\u001b[0m\n\u001b[0;32m   2508\u001b[0m                 \u001b[0mbb\u001b[0m\u001b[1;33m.\u001b[0m\u001b[0mappend\u001b[0m\u001b[1;33m(\u001b[0m\u001b[0mbbox\u001b[0m\u001b[1;33m)\u001b[0m\u001b[1;33m\u001b[0m\u001b[1;33m\u001b[0m\u001b[0m\n",
      "\u001b[1;32m~\\Anaconda\\lib\\site-packages\\matplotlib\\artist.py\u001b[0m in \u001b[0;36mget_tightbbox\u001b[1;34m(self, renderer)\u001b[0m\n\u001b[0;32m    276\u001b[0m             \u001b[0mThe\u001b[0m \u001b[0menclosing\u001b[0m \u001b[0mbounding\u001b[0m \u001b[0mbox\u001b[0m \u001b[1;33m(\u001b[0m\u001b[1;32min\u001b[0m \u001b[0mfigure\u001b[0m \u001b[0mpixel\u001b[0m \u001b[0mcoordinates\u001b[0m\u001b[1;33m)\u001b[0m\u001b[1;33m.\u001b[0m\u001b[1;33m\u001b[0m\u001b[1;33m\u001b[0m\u001b[0m\n\u001b[0;32m    277\u001b[0m         \"\"\"\n\u001b[1;32m--> 278\u001b[1;33m         \u001b[0mbbox\u001b[0m \u001b[1;33m=\u001b[0m \u001b[0mself\u001b[0m\u001b[1;33m.\u001b[0m\u001b[0mget_window_extent\u001b[0m\u001b[1;33m(\u001b[0m\u001b[0mrenderer\u001b[0m\u001b[1;33m)\u001b[0m\u001b[1;33m\u001b[0m\u001b[1;33m\u001b[0m\u001b[0m\n\u001b[0m\u001b[0;32m    279\u001b[0m         \u001b[1;32mif\u001b[0m \u001b[0mself\u001b[0m\u001b[1;33m.\u001b[0m\u001b[0mget_clip_on\u001b[0m\u001b[1;33m(\u001b[0m\u001b[1;33m)\u001b[0m\u001b[1;33m:\u001b[0m\u001b[1;33m\u001b[0m\u001b[1;33m\u001b[0m\u001b[0m\n\u001b[0;32m    280\u001b[0m             \u001b[0mclip_box\u001b[0m \u001b[1;33m=\u001b[0m \u001b[0mself\u001b[0m\u001b[1;33m.\u001b[0m\u001b[0mget_clip_box\u001b[0m\u001b[1;33m(\u001b[0m\u001b[1;33m)\u001b[0m\u001b[1;33m\u001b[0m\u001b[1;33m\u001b[0m\u001b[0m\n",
      "\u001b[1;32m~\\Anaconda\\lib\\site-packages\\matplotlib\\text.py\u001b[0m in \u001b[0;36mget_window_extent\u001b[1;34m(self, renderer)\u001b[0m\n\u001b[0;32m   1922\u001b[0m             \u001b[1;32mraise\u001b[0m \u001b[0mRuntimeError\u001b[0m\u001b[1;33m(\u001b[0m\u001b[1;34m'Cannot get window extent w/o renderer'\u001b[0m\u001b[1;33m)\u001b[0m\u001b[1;33m\u001b[0m\u001b[1;33m\u001b[0m\u001b[0m\n\u001b[0;32m   1923\u001b[0m \u001b[1;33m\u001b[0m\u001b[0m\n\u001b[1;32m-> 1924\u001b[1;33m         \u001b[0mself\u001b[0m\u001b[1;33m.\u001b[0m\u001b[0mupdate_positions\u001b[0m\u001b[1;33m(\u001b[0m\u001b[0mself\u001b[0m\u001b[1;33m.\u001b[0m\u001b[0m_renderer\u001b[0m\u001b[1;33m)\u001b[0m\u001b[1;33m\u001b[0m\u001b[1;33m\u001b[0m\u001b[0m\n\u001b[0m\u001b[0;32m   1925\u001b[0m \u001b[1;33m\u001b[0m\u001b[0m\n\u001b[0;32m   1926\u001b[0m         \u001b[0mtext_bbox\u001b[0m \u001b[1;33m=\u001b[0m \u001b[0mText\u001b[0m\u001b[1;33m.\u001b[0m\u001b[0mget_window_extent\u001b[0m\u001b[1;33m(\u001b[0m\u001b[0mself\u001b[0m\u001b[1;33m)\u001b[0m\u001b[1;33m\u001b[0m\u001b[1;33m\u001b[0m\u001b[0m\n",
      "\u001b[1;32m~\\Anaconda\\lib\\site-packages\\matplotlib\\text.py\u001b[0m in \u001b[0;36mupdate_positions\u001b[1;34m(self, renderer)\u001b[0m\n\u001b[0;32m   1817\u001b[0m             \u001b[1;32mreturn\u001b[0m\u001b[1;33m\u001b[0m\u001b[1;33m\u001b[0m\u001b[0m\n\u001b[0;32m   1818\u001b[0m \u001b[1;33m\u001b[0m\u001b[0m\n\u001b[1;32m-> 1819\u001b[1;33m         \u001b[0mbbox\u001b[0m \u001b[1;33m=\u001b[0m \u001b[0mText\u001b[0m\u001b[1;33m.\u001b[0m\u001b[0mget_window_extent\u001b[0m\u001b[1;33m(\u001b[0m\u001b[0mself\u001b[0m\u001b[1;33m,\u001b[0m \u001b[0mrenderer\u001b[0m\u001b[1;33m)\u001b[0m\u001b[1;33m\u001b[0m\u001b[1;33m\u001b[0m\u001b[0m\n\u001b[0m\u001b[0;32m   1820\u001b[0m \u001b[1;33m\u001b[0m\u001b[0m\n\u001b[0;32m   1821\u001b[0m         \u001b[0md\u001b[0m \u001b[1;33m=\u001b[0m \u001b[0mself\u001b[0m\u001b[1;33m.\u001b[0m\u001b[0marrowprops\u001b[0m\u001b[1;33m.\u001b[0m\u001b[0mcopy\u001b[0m\u001b[1;33m(\u001b[0m\u001b[1;33m)\u001b[0m\u001b[1;33m\u001b[0m\u001b[1;33m\u001b[0m\u001b[0m\n",
      "\u001b[1;32m~\\Anaconda\\lib\\site-packages\\matplotlib\\text.py\u001b[0m in \u001b[0;36mget_window_extent\u001b[1;34m(self, renderer, dpi)\u001b[0m\n\u001b[0;32m    898\u001b[0m \u001b[1;33m\u001b[0m\u001b[0m\n\u001b[0;32m    899\u001b[0m         \u001b[1;32mwith\u001b[0m \u001b[0mcbook\u001b[0m\u001b[1;33m.\u001b[0m\u001b[0m_setattr_cm\u001b[0m\u001b[1;33m(\u001b[0m\u001b[0mself\u001b[0m\u001b[1;33m.\u001b[0m\u001b[0mfigure\u001b[0m\u001b[1;33m,\u001b[0m \u001b[0mdpi\u001b[0m\u001b[1;33m=\u001b[0m\u001b[0mdpi\u001b[0m\u001b[1;33m)\u001b[0m\u001b[1;33m:\u001b[0m\u001b[1;33m\u001b[0m\u001b[1;33m\u001b[0m\u001b[0m\n\u001b[1;32m--> 900\u001b[1;33m             \u001b[0mbbox\u001b[0m\u001b[1;33m,\u001b[0m \u001b[0minfo\u001b[0m\u001b[1;33m,\u001b[0m \u001b[0mdescent\u001b[0m \u001b[1;33m=\u001b[0m \u001b[0mself\u001b[0m\u001b[1;33m.\u001b[0m\u001b[0m_get_layout\u001b[0m\u001b[1;33m(\u001b[0m\u001b[0mself\u001b[0m\u001b[1;33m.\u001b[0m\u001b[0m_renderer\u001b[0m\u001b[1;33m)\u001b[0m\u001b[1;33m\u001b[0m\u001b[1;33m\u001b[0m\u001b[0m\n\u001b[0m\u001b[0;32m    901\u001b[0m             \u001b[0mx\u001b[0m\u001b[1;33m,\u001b[0m \u001b[0my\u001b[0m \u001b[1;33m=\u001b[0m \u001b[0mself\u001b[0m\u001b[1;33m.\u001b[0m\u001b[0mget_unitless_position\u001b[0m\u001b[1;33m(\u001b[0m\u001b[1;33m)\u001b[0m\u001b[1;33m\u001b[0m\u001b[1;33m\u001b[0m\u001b[0m\n\u001b[0;32m    902\u001b[0m             \u001b[0mx\u001b[0m\u001b[1;33m,\u001b[0m \u001b[0my\u001b[0m \u001b[1;33m=\u001b[0m \u001b[0mself\u001b[0m\u001b[1;33m.\u001b[0m\u001b[0mget_transform\u001b[0m\u001b[1;33m(\u001b[0m\u001b[1;33m)\u001b[0m\u001b[1;33m.\u001b[0m\u001b[0mtransform\u001b[0m\u001b[1;33m(\u001b[0m\u001b[1;33m(\u001b[0m\u001b[0mx\u001b[0m\u001b[1;33m,\u001b[0m \u001b[0my\u001b[0m\u001b[1;33m)\u001b[0m\u001b[1;33m)\u001b[0m\u001b[1;33m\u001b[0m\u001b[1;33m\u001b[0m\u001b[0m\n",
      "\u001b[1;32m~\\Anaconda\\lib\\site-packages\\matplotlib\\text.py\u001b[0m in \u001b[0;36m_get_layout\u001b[1;34m(self, renderer)\u001b[0m\n\u001b[0;32m    291\u001b[0m             \u001b[0mclean_line\u001b[0m\u001b[1;33m,\u001b[0m \u001b[0mismath\u001b[0m \u001b[1;33m=\u001b[0m \u001b[0mself\u001b[0m\u001b[1;33m.\u001b[0m\u001b[0m_preprocess_math\u001b[0m\u001b[1;33m(\u001b[0m\u001b[0mline\u001b[0m\u001b[1;33m)\u001b[0m\u001b[1;33m\u001b[0m\u001b[1;33m\u001b[0m\u001b[0m\n\u001b[0;32m    292\u001b[0m             \u001b[1;32mif\u001b[0m \u001b[0mclean_line\u001b[0m\u001b[1;33m:\u001b[0m\u001b[1;33m\u001b[0m\u001b[1;33m\u001b[0m\u001b[0m\n\u001b[1;32m--> 293\u001b[1;33m                 w, h, d = renderer.get_text_width_height_descent(\n\u001b[0m\u001b[0;32m    294\u001b[0m                     clean_line, self._fontproperties, ismath=ismath)\n\u001b[0;32m    295\u001b[0m             \u001b[1;32melse\u001b[0m\u001b[1;33m:\u001b[0m\u001b[1;33m\u001b[0m\u001b[1;33m\u001b[0m\u001b[0m\n",
      "\u001b[1;32m~\\Anaconda\\lib\\site-packages\\matplotlib\\backends\\backend_agg.py\u001b[0m in \u001b[0;36mget_text_width_height_descent\u001b[1;34m(self, s, prop, ismath)\u001b[0m\n\u001b[0;32m    235\u001b[0m \u001b[1;33m\u001b[0m\u001b[0m\n\u001b[0;32m    236\u001b[0m         \u001b[0mflags\u001b[0m \u001b[1;33m=\u001b[0m \u001b[0mget_hinting_flag\u001b[0m\u001b[1;33m(\u001b[0m\u001b[1;33m)\u001b[0m\u001b[1;33m\u001b[0m\u001b[1;33m\u001b[0m\u001b[0m\n\u001b[1;32m--> 237\u001b[1;33m         \u001b[0mfont\u001b[0m \u001b[1;33m=\u001b[0m \u001b[0mself\u001b[0m\u001b[1;33m.\u001b[0m\u001b[0m_get_agg_font\u001b[0m\u001b[1;33m(\u001b[0m\u001b[0mprop\u001b[0m\u001b[1;33m)\u001b[0m\u001b[1;33m\u001b[0m\u001b[1;33m\u001b[0m\u001b[0m\n\u001b[0m\u001b[0;32m    238\u001b[0m         \u001b[0mfont\u001b[0m\u001b[1;33m.\u001b[0m\u001b[0mset_text\u001b[0m\u001b[1;33m(\u001b[0m\u001b[0ms\u001b[0m\u001b[1;33m,\u001b[0m \u001b[1;36m0.0\u001b[0m\u001b[1;33m,\u001b[0m \u001b[0mflags\u001b[0m\u001b[1;33m=\u001b[0m\u001b[0mflags\u001b[0m\u001b[1;33m)\u001b[0m\u001b[1;33m\u001b[0m\u001b[1;33m\u001b[0m\u001b[0m\n\u001b[0;32m    239\u001b[0m         \u001b[0mw\u001b[0m\u001b[1;33m,\u001b[0m \u001b[0mh\u001b[0m \u001b[1;33m=\u001b[0m \u001b[0mfont\u001b[0m\u001b[1;33m.\u001b[0m\u001b[0mget_width_height\u001b[0m\u001b[1;33m(\u001b[0m\u001b[1;33m)\u001b[0m  \u001b[1;31m# width and height of unrotated string\u001b[0m\u001b[1;33m\u001b[0m\u001b[1;33m\u001b[0m\u001b[0m\n",
      "\u001b[1;32m~\\Anaconda\\lib\\site-packages\\matplotlib\\backends\\backend_agg.py\u001b[0m in \u001b[0;36m_get_agg_font\u001b[1;34m(self, prop)\u001b[0m\n\u001b[0;32m    270\u001b[0m         \u001b[0mGet\u001b[0m \u001b[0mthe\u001b[0m \u001b[0mfont\u001b[0m \u001b[1;32mfor\u001b[0m \u001b[0mtext\u001b[0m \u001b[0minstance\u001b[0m \u001b[0mt\u001b[0m\u001b[1;33m,\u001b[0m \u001b[0mcaching\u001b[0m \u001b[1;32mfor\u001b[0m \u001b[0mefficiency\u001b[0m\u001b[1;33m\u001b[0m\u001b[1;33m\u001b[0m\u001b[0m\n\u001b[0;32m    271\u001b[0m         \"\"\"\n\u001b[1;32m--> 272\u001b[1;33m         \u001b[0mfname\u001b[0m \u001b[1;33m=\u001b[0m \u001b[0mfindfont\u001b[0m\u001b[1;33m(\u001b[0m\u001b[0mprop\u001b[0m\u001b[1;33m)\u001b[0m\u001b[1;33m\u001b[0m\u001b[1;33m\u001b[0m\u001b[0m\n\u001b[0m\u001b[0;32m    273\u001b[0m         \u001b[0mfont\u001b[0m \u001b[1;33m=\u001b[0m \u001b[0mget_font\u001b[0m\u001b[1;33m(\u001b[0m\u001b[0mfname\u001b[0m\u001b[1;33m)\u001b[0m\u001b[1;33m\u001b[0m\u001b[1;33m\u001b[0m\u001b[0m\n\u001b[0;32m    274\u001b[0m \u001b[1;33m\u001b[0m\u001b[0m\n",
      "\u001b[1;32m~\\Anaconda\\lib\\site-packages\\matplotlib\\font_manager.py\u001b[0m in \u001b[0;36mfindfont\u001b[1;34m(self, prop, fontext, directory, fallback_to_default, rebuild_if_missing)\u001b[0m\n\u001b[0;32m   1312\u001b[0m             \u001b[0mprop\u001b[0m\u001b[1;33m,\u001b[0m \u001b[0mfontext\u001b[0m\u001b[1;33m,\u001b[0m \u001b[0mdirectory\u001b[0m\u001b[1;33m,\u001b[0m \u001b[0mfallback_to_default\u001b[0m\u001b[1;33m,\u001b[0m \u001b[0mrebuild_if_missing\u001b[0m\u001b[1;33m,\u001b[0m\u001b[1;33m\u001b[0m\u001b[1;33m\u001b[0m\u001b[0m\n\u001b[0;32m   1313\u001b[0m             rc_params)\n\u001b[1;32m-> 1314\u001b[1;33m         \u001b[1;32mreturn\u001b[0m \u001b[0mos\u001b[0m\u001b[1;33m.\u001b[0m\u001b[0mpath\u001b[0m\u001b[1;33m.\u001b[0m\u001b[0mrealpath\u001b[0m\u001b[1;33m(\u001b[0m\u001b[0mfilename\u001b[0m\u001b[1;33m)\u001b[0m\u001b[1;33m\u001b[0m\u001b[1;33m\u001b[0m\u001b[0m\n\u001b[0m\u001b[0;32m   1315\u001b[0m \u001b[1;33m\u001b[0m\u001b[0m\n\u001b[0;32m   1316\u001b[0m     \u001b[1;33m@\u001b[0m\u001b[0mlru_cache\u001b[0m\u001b[1;33m(\u001b[0m\u001b[1;33m)\u001b[0m\u001b[1;33m\u001b[0m\u001b[1;33m\u001b[0m\u001b[0m\n",
      "\u001b[1;32m~\\Anaconda\\lib\\ntpath.py\u001b[0m in \u001b[0;36mrealpath\u001b[1;34m(path)\u001b[0m\n\u001b[0;32m    645\u001b[0m             \u001b[0mpath\u001b[0m \u001b[1;33m=\u001b[0m \u001b[0mjoin\u001b[0m\u001b[1;33m(\u001b[0m\u001b[0mcwd\u001b[0m\u001b[1;33m,\u001b[0m \u001b[0mpath\u001b[0m\u001b[1;33m)\u001b[0m\u001b[1;33m\u001b[0m\u001b[1;33m\u001b[0m\u001b[0m\n\u001b[0;32m    646\u001b[0m         \u001b[1;32mtry\u001b[0m\u001b[1;33m:\u001b[0m\u001b[1;33m\u001b[0m\u001b[1;33m\u001b[0m\u001b[0m\n\u001b[1;32m--> 647\u001b[1;33m             \u001b[0mpath\u001b[0m \u001b[1;33m=\u001b[0m \u001b[0m_getfinalpathname\u001b[0m\u001b[1;33m(\u001b[0m\u001b[0mpath\u001b[0m\u001b[1;33m)\u001b[0m\u001b[1;33m\u001b[0m\u001b[1;33m\u001b[0m\u001b[0m\n\u001b[0m\u001b[0;32m    648\u001b[0m             \u001b[0minitial_winerror\u001b[0m \u001b[1;33m=\u001b[0m \u001b[1;36m0\u001b[0m\u001b[1;33m\u001b[0m\u001b[1;33m\u001b[0m\u001b[0m\n\u001b[0;32m    649\u001b[0m         \u001b[1;32mexcept\u001b[0m \u001b[0mOSError\u001b[0m \u001b[1;32mas\u001b[0m \u001b[0mex\u001b[0m\u001b[1;33m:\u001b[0m\u001b[1;33m\u001b[0m\u001b[1;33m\u001b[0m\u001b[0m\n",
      "\u001b[1;31mKeyboardInterrupt\u001b[0m: "
     ]
    },
    {
     "data": {
      "application/javascript": [
       "\n",
       "            setTimeout(function() {\n",
       "                var nbb_cell_id = 72;\n",
       "                var nbb_unformatted_code = \"# Plotting our decision tree\\nplt.figure(figsize=(20, 30))\\ntree.plot_tree(\\n    dTree,\\n    feature_names=feature_names,\\n    filled=True,\\n    fontsize=9,\\n    node_ids=True,\\n    class_names=True,\\n)\\nplt.show()\";\n",
       "                var nbb_formatted_code = \"# Plotting our decision tree\\nplt.figure(figsize=(20, 30))\\ntree.plot_tree(\\n    dTree,\\n    feature_names=feature_names,\\n    filled=True,\\n    fontsize=9,\\n    node_ids=True,\\n    class_names=True,\\n)\\nplt.show()\";\n",
       "                var nbb_cells = Jupyter.notebook.get_cells();\n",
       "                for (var i = 0; i < nbb_cells.length; ++i) {\n",
       "                    if (nbb_cells[i].input_prompt_number == nbb_cell_id) {\n",
       "                        if (nbb_cells[i].get_text() == nbb_unformatted_code) {\n",
       "                             nbb_cells[i].set_text(nbb_formatted_code);\n",
       "                        }\n",
       "                        break;\n",
       "                    }\n",
       "                }\n",
       "            }, 500);\n",
       "            "
      ],
      "text/plain": [
       "<IPython.core.display.Javascript object>"
      ]
     },
     "metadata": {},
     "output_type": "display_data"
    }
   ],
   "source": [
    "# Plotting our decision tree\n",
    "plt.figure(figsize=(20, 30))\n",
    "tree.plot_tree(\n",
    "    dTree,\n",
    "    feature_names=feature_names,\n",
    "    filled=True,\n",
    "    fontsize=9,\n",
    "    node_ids=True,\n",
    "    class_names=True,\n",
    ")\n",
    "plt.show()"
   ]
  },
  {
   "cell_type": "code",
   "execution_count": null,
   "metadata": {
    "scrolled": false
   },
   "outputs": [],
   "source": [
    "# Text of decision tree\n",
    "print(tree.export_text(dTree, feature_names=feature_names, show_weights=True))"
   ]
  },
  {
   "cell_type": "code",
   "execution_count": null,
   "metadata": {},
   "outputs": [],
   "source": [
    "# Variables of importance\n",
    "print(\n",
    "    pd.DataFrame(\n",
    "        dTree.feature_importances_, columns=[\"Imp\"], index=X_train.columns\n",
    "    ).sort_values(by=\"Imp\", ascending=False)\n",
    ")"
   ]
  },
  {
   "cell_type": "code",
   "execution_count": null,
   "metadata": {},
   "outputs": [],
   "source": [
    "importances = dTree.feature_importances_\n",
    "indices = np.argsort(importances)\n",
    "\n",
    "plt.figure(figsize=(12, 12))\n",
    "plt.title(\"Feature Importances\")\n",
    "plt.barh(range(len(indices)), importances[indices], color=\"violet\", align=\"center\")\n",
    "plt.yticks(range(len(indices)), [feature_names[i] for i in indices])\n",
    "plt.xlabel(\"Relative Importance\")\n",
    "plt.show()"
   ]
  },
  {
   "cell_type": "markdown",
   "metadata": {},
   "source": [
    "#### Observations\n",
    "I see that Age is by far the most important variable.  Then followed by DurationOfPitch and Income"
   ]
  },
  {
   "cell_type": "markdown",
   "metadata": {},
   "source": [
    "## Bagging And Random Forest\n",
    "\n",
    "I are going to do both and compare"
   ]
  },
  {
   "cell_type": "markdown",
   "metadata": {},
   "source": [
    "### Bagging "
   ]
  },
  {
   "cell_type": "code",
   "execution_count": null,
   "metadata": {},
   "outputs": [],
   "source": [
    "# Bagging classifier base estimator\n",
    "bagging_estimator = BaggingClassifier(random_state=1)\n",
    "bagging_estimator.fit(X_train, y_train)"
   ]
  },
  {
   "cell_type": "code",
   "execution_count": null,
   "metadata": {},
   "outputs": [],
   "source": [
    "# Showing Accuracy, Recall and Precision from our bagging estimator variable\n",
    "bagging_estimator_score = get_metrics_score(bagging_estimator)"
   ]
  },
  {
   "cell_type": "code",
   "execution_count": null,
   "metadata": {},
   "outputs": [],
   "source": [
    "# Confusion matrix of bagging estimator\n",
    "make_confusion_matrix(bagging_estimator, y_test)"
   ]
  },
  {
   "cell_type": "markdown",
   "metadata": {},
   "source": [
    "#### Observations\n",
    "I have great accuracy in this model.  Decision trees overfit, so this is normal.  On our test, it is 91%.  All things considered, this isn't a bad model"
   ]
  },
  {
   "cell_type": "markdown",
   "metadata": {},
   "source": [
    "### Random Forest "
   ]
  },
  {
   "cell_type": "code",
   "execution_count": null,
   "metadata": {},
   "outputs": [],
   "source": [
    "# Train the random forest classifier\n",
    "rf_estimator = RandomForestClassifier(random_state=1)\n",
    "rf_estimator.fit(X_train, y_train)"
   ]
  },
  {
   "cell_type": "code",
   "execution_count": null,
   "metadata": {},
   "outputs": [],
   "source": [
    "# Random Forest statistics: Accuracy, Recall, and Precision\n",
    "rf_estimator_score = get_metrics_score(rf_estimator)"
   ]
  },
  {
   "cell_type": "code",
   "execution_count": null,
   "metadata": {},
   "outputs": [],
   "source": [
    "# Random Forest confusion matrix\n",
    "make_confusion_matrix(rf_estimator, y_test)"
   ]
  },
  {
   "cell_type": "markdown",
   "metadata": {},
   "source": [
    "#### Observations\n",
    "In Random forest, it is not too much different than bagging.  I see less Type I errors, and about the same Type II variables.  It overfits the data a ton.  Recall is slightly lower in test test set, however. Overall, these are pretty even."
   ]
  },
  {
   "cell_type": "markdown",
   "metadata": {},
   "source": [
    "### Hyperparameters\n",
    "\n",
    "#### Bagging"
   ]
  },
  {
   "cell_type": "code",
   "execution_count": null,
   "metadata": {},
   "outputs": [],
   "source": [
    "# Tuning our BaggingClassifier\n",
    "bagging_estimator_tuned = BaggingClassifier(random_state=1)\n",
    "\n",
    "parameters = {\n",
    "    \"max_samples\": [0.7, 0.8, 0.9, 1],\n",
    "    \"max_features\": [0.7, 0.8, 0.9, 1],\n",
    "    \"n_estimators\": [10, 20, 30, 40, 50],\n",
    "}\n",
    "\n",
    "acc_scorer = metrics.make_scorer(metrics.recall_score)\n",
    "\n",
    "# GridSearch\n",
    "grid_obj = GridSearchCV(bagging_estimator_tuned, parameters, scoring=acc_scorer, cv=5)\n",
    "grid_obj = grid_obj.fit(X_train, y_train)\n",
    "\n",
    "bagging_estimator_tuned = grid_obj.best_estimator_\n",
    "\n",
    "bagging_estimator_tuned.fit(X_train, y_train)"
   ]
  },
  {
   "cell_type": "code",
   "execution_count": null,
   "metadata": {},
   "outputs": [],
   "source": [
    "# Tuned Bagging metrics\n",
    "bagging_estimator_tuned_score = get_metrics_score(bagging_estimator_tuned)"
   ]
  },
  {
   "cell_type": "code",
   "execution_count": null,
   "metadata": {},
   "outputs": [],
   "source": [
    "# Confusion matrix of tuned model\n",
    "make_confusion_matrix(bagging_estimator_tuned, y_test)"
   ]
  },
  {
   "cell_type": "markdown",
   "metadata": {},
   "source": [
    "#### Observations\n",
    "After tuning, I see some improvements.  First of all, I got the best estimator\n",
    "\n",
    "Max Features = 0.9\n",
    "\n",
    "Max Smaples = 0.9\n",
    "\n",
    "N Estimators = 50\n",
    "\n",
    "Our recall on test set is similar to random forest, but I see that there is still overfitting"
   ]
  },
  {
   "cell_type": "code",
   "execution_count": null,
   "metadata": {},
   "outputs": [],
   "source": [
    "bagging_lr = BaggingClassifier(\n",
    "    base_estimator=LogisticRegression(solver=\"liblinear\", random_state=1),\n",
    "    random_state=1,\n",
    ")\n",
    "bagging_lr.fit(X_train, y_train)"
   ]
  },
  {
   "cell_type": "code",
   "execution_count": null,
   "metadata": {},
   "outputs": [],
   "source": [
    "# Using our new function to get our metrics\n",
    "bagging_lr_score = get_metrics_score(bagging_lr)"
   ]
  },
  {
   "cell_type": "markdown",
   "metadata": {},
   "source": [
    "#### Observations\n",
    "\n",
    "I see that this improved accuracy, less overfitting. This is good!. Our test set has improved."
   ]
  },
  {
   "cell_type": "markdown",
   "metadata": {},
   "source": [
    "#### Random Forest Tuning"
   ]
  },
  {
   "cell_type": "code",
   "execution_count": null,
   "metadata": {},
   "outputs": [],
   "source": [
    "# Random Forest Tuning\n",
    "rf_estimator_tuned = RandomForestClassifier(random_state=1)\n",
    "\n",
    "parameters = {\n",
    "    \"n_estimators\": [150, 200, 250],\n",
    "    \"min_samples_leaf\": np.arange(5, 10),\n",
    "    \"max_features\": np.arange(0.2, 0.7, 0.1),\n",
    "    \"max_samples\": np.arange(0.3, 0.7, 0.1),\n",
    "}\n",
    "\n",
    "acc_scorer = metrics.make_scorer(metrics.recall_score)\n",
    "\n",
    "# GridSearch\n",
    "grid_obj = GridSearchCV(rf_estimator_tuned, parameters, scoring=acc_scorer, cv=5)\n",
    "grid_obj = grid_obj.fit(X_train, y_train)\n",
    "\n",
    "rf_estimator_tuned = grid_obj.best_estimator_\n",
    "\n",
    "rf_estimator_tuned.fit(X_train, y_train)"
   ]
  },
  {
   "cell_type": "code",
   "execution_count": null,
   "metadata": {},
   "outputs": [],
   "source": [
    "# Using our function to get metrics for tuned random forest\n",
    "rf_estimator_tuned_score = get_metrics_score(rf_estimator_tuned)"
   ]
  },
  {
   "cell_type": "code",
   "execution_count": null,
   "metadata": {},
   "outputs": [],
   "source": [
    "# Confusion matrix of RandomForest tuned\n",
    "make_confusion_matrix(rf_estimator_tuned, y_test)"
   ]
  },
  {
   "cell_type": "code",
   "execution_count": null,
   "metadata": {},
   "outputs": [],
   "source": [
    "# Weighting Random Forest\n",
    "rf_estimator_weighted = RandomForestClassifier(random_state=1)\n",
    "\n",
    "parameters = {\n",
    "    \"class_weight\": [{0: 0.3, 1: 0.7}],\n",
    "    \"n_estimators\": [100, 150, 200, 250],\n",
    "    \"min_samples_leaf\": np.arange(5, 10),\n",
    "    \"max_features\": np.arange(0.2, 0.7, 0.1),\n",
    "    \"max_samples\": np.arange(0.3, 0.7, 0.1),\n",
    "}\n",
    "\n",
    "acc_scorer = metrics.make_scorer(metrics.recall_score)\n",
    "\n",
    "# Run the grid search\n",
    "grid_obj = GridSearchCV(rf_estimator_weighted, parameters, scoring=acc_scorer, cv=5)\n",
    "grid_obj = grid_obj.fit(X_train, y_train)\n",
    "\n",
    "rf_estimator_weighted = grid_obj.best_estimator_\n",
    "\n",
    "rf_estimator_weighted.fit(X_train, y_train)"
   ]
  },
  {
   "cell_type": "code",
   "execution_count": null,
   "metadata": {},
   "outputs": [],
   "source": [
    "# Showing Accuracy, Recall and Precision from our Random Forest weighted model\n",
    "rf_estimator_weighted_score = get_metrics_score(rf_estimator_weighted)"
   ]
  },
  {
   "cell_type": "code",
   "execution_count": null,
   "metadata": {},
   "outputs": [],
   "source": [
    "# Confusion Matrix of weight random forest\n",
    "make_confusion_matrix(rf_estimator_weighted, y_test)"
   ]
  },
  {
   "cell_type": "code",
   "execution_count": null,
   "metadata": {},
   "outputs": [],
   "source": [
    "importances = rf_estimator_weighted.feature_importances_\n",
    "indices = np.argsort(importances)\n",
    "feature_names = list(X.columns)\n",
    "\n",
    "plt.figure(figsize=(12, 12))\n",
    "plt.title(\"Feature Importances\")\n",
    "plt.barh(range(len(indices)), importances[indices], color=\"violet\", align=\"center\")\n",
    "plt.yticks(range(len(indices)), [feature_names[i] for i in indices])\n",
    "plt.xlabel(\"Relative Importance\")\n",
    "plt.show()"
   ]
  },
  {
   "cell_type": "markdown",
   "metadata": {},
   "source": [
    "#### Observations\n",
    "I see the list of important features.  Passport, then Age, then duration of pitch lead to the success of purchase.  These are different variables than our previous Feature Importances I have calculated."
   ]
  },
  {
   "cell_type": "markdown",
   "metadata": {},
   "source": [
    "## Boosting"
   ]
  },
  {
   "cell_type": "markdown",
   "metadata": {},
   "source": [
    "### Adaboost"
   ]
  },
  {
   "cell_type": "code",
   "execution_count": null,
   "metadata": {},
   "outputs": [],
   "source": [
    "abc = AdaBoostClassifier(random_state=1)\n",
    "abc.fit(X_train, y_train)"
   ]
  },
  {
   "cell_type": "code",
   "execution_count": null,
   "metadata": {},
   "outputs": [],
   "source": [
    "# Using our function to get metrics for the set\n",
    "abc_score = get_metrics_score(abc)"
   ]
  },
  {
   "cell_type": "code",
   "execution_count": null,
   "metadata": {},
   "outputs": [],
   "source": [
    "make_confusion_matrix(abc, y_test)"
   ]
  },
  {
   "cell_type": "markdown",
   "metadata": {},
   "source": [
    "### Gradient Boost"
   ]
  },
  {
   "cell_type": "code",
   "execution_count": null,
   "metadata": {},
   "outputs": [],
   "source": [
    "gbc = GradientBoostingClassifier(random_state=1)\n",
    "gbc.fit(X_train, y_train)"
   ]
  },
  {
   "cell_type": "code",
   "execution_count": null,
   "metadata": {},
   "outputs": [],
   "source": [
    "# Using our function to get metrics for the set\n",
    "gbc_score = get_metrics_score(gbc)"
   ]
  },
  {
   "cell_type": "code",
   "execution_count": null,
   "metadata": {},
   "outputs": [],
   "source": [
    "make_confusion_matrix(gbc, y_test)"
   ]
  },
  {
   "cell_type": "code",
   "execution_count": null,
   "metadata": {},
   "outputs": [],
   "source": [
    "# Listing the feature importances in orderr for this model\n",
    "importances = gbc.feature_importances_\n",
    "indices = np.argsort(importances)\n",
    "feature_names = list(X.columns)\n",
    "\n",
    "plt.figure(figsize=(12, 12))\n",
    "plt.title(\"Feature Importances\")\n",
    "plt.barh(range(len(indices)), importances[indices], color=\"violet\", align=\"center\")\n",
    "plt.yticks(range(len(indices)), [feature_names[i] for i in indices])\n",
    "plt.xlabel(\"Relative Importance\")\n",
    "plt.show()"
   ]
  },
  {
   "cell_type": "markdown",
   "metadata": {},
   "source": [
    "### XGBoost "
   ]
  },
  {
   "cell_type": "code",
   "execution_count": null,
   "metadata": {},
   "outputs": [],
   "source": [
    "xgb = XGBClassifier(random_state=1, eval_metric=\"logloss\")\n",
    "xgb.fit(X_train, y_train)"
   ]
  },
  {
   "cell_type": "code",
   "execution_count": null,
   "metadata": {},
   "outputs": [],
   "source": [
    "# Using our function to get metrics for the set\n",
    "xgb_score = get_metrics_score(xgb)"
   ]
  },
  {
   "cell_type": "code",
   "execution_count": null,
   "metadata": {},
   "outputs": [],
   "source": [
    "make_confusion_matrix(xgb, y_test)"
   ]
  },
  {
   "cell_type": "code",
   "execution_count": null,
   "metadata": {},
   "outputs": [],
   "source": [
    "# Listing the feature importances in orderr for this model\n",
    "importances = xgb.feature_importances_\n",
    "indices = np.argsort(importances)\n",
    "feature_names = list(X.columns)\n",
    "\n",
    "plt.figure(figsize=(12, 12))\n",
    "plt.title(\"Feature Importances\")\n",
    "plt.barh(range(len(indices)), importances[indices], color=\"violet\", align=\"center\")\n",
    "plt.yticks(range(len(indices)), [feature_names[i] for i in indices])\n",
    "plt.xlabel(\"Relative Importance\")\n",
    "plt.show()"
   ]
  },
  {
   "cell_type": "markdown",
   "metadata": {},
   "source": [
    "### Tuning Our Boosted Models\n",
    "#### I am going to tune these before making a recommendation"
   ]
  },
  {
   "cell_type": "markdown",
   "metadata": {},
   "source": [
    "#### Adaboost"
   ]
  },
  {
   "cell_type": "code",
   "execution_count": null,
   "metadata": {},
   "outputs": [],
   "source": [
    "# Tuned AdaBoost\n",
    "abc_tuned = AdaBoostClassifier(random_state=1)\n",
    "\n",
    "\n",
    "parameters = {\n",
    "    \"base_estimator\": [\n",
    "        DecisionTreeClassifier(max_depth=1, random_state=1),\n",
    "        DecisionTreeClassifier(max_depth=2, random_state=1),\n",
    "        DecisionTreeClassifier(max_depth=3, random_state=1),\n",
    "    ],\n",
    "    \"n_estimators\": np.arange(10, 110, 10),\n",
    "    \"learning_rate\": np.arange(0.1, 2, 0.1),\n",
    "}\n",
    "\n",
    "\n",
    "acc_scorer = metrics.make_scorer(metrics.recall_score)\n",
    "\n",
    "\n",
    "grid_obj = GridSearchCV(abc_tuned, parameters, scoring=acc_scorer, cv=5)\n",
    "grid_obj = grid_obj.fit(X_train, y_train)\n",
    "\n",
    "\n",
    "abc_tuned = grid_obj.best_estimator_\n",
    "\n",
    "abc_tuned.fit(X_train, y_train)"
   ]
  },
  {
   "cell_type": "code",
   "execution_count": null,
   "metadata": {},
   "outputs": [],
   "source": [
    "# Using our function to get metrics for the set\n",
    "abc_tuned_score = get_metrics_score(abc_tuned)"
   ]
  },
  {
   "cell_type": "code",
   "execution_count": null,
   "metadata": {},
   "outputs": [],
   "source": [
    "# AdaBoost Confusion Matrix\n",
    "make_confusion_matrix(abc_tuned, y_test)"
   ]
  },
  {
   "cell_type": "markdown",
   "metadata": {},
   "source": [
    "#### Observations\n",
    "Tune Adaboost still has some Type I and Type II errors."
   ]
  },
  {
   "cell_type": "code",
   "execution_count": null,
   "metadata": {},
   "outputs": [],
   "source": [
    "# Listing the feature importances in order for this model\n",
    "importances = abc_tuned.feature_importances_\n",
    "indices = np.argsort(importances)\n",
    "feature_names = list(X.columns)\n",
    "\n",
    "plt.figure(figsize=(12, 12))\n",
    "plt.title(\"Feature Importances\")\n",
    "plt.barh(range(len(indices)), importances[indices], color=\"violet\", align=\"center\")\n",
    "plt.yticks(range(len(indices)), [feature_names[i] for i in indices])\n",
    "plt.xlabel(\"Relative Importance\")\n",
    "plt.show()"
   ]
  },
  {
   "cell_type": "markdown",
   "metadata": {},
   "source": [
    "#### Observations\n",
    "I see that Income, Age, and DurationOfPitch are most important features for this tuned model."
   ]
  },
  {
   "cell_type": "markdown",
   "metadata": {},
   "source": [
    "#### Gradient"
   ]
  },
  {
   "cell_type": "code",
   "execution_count": null,
   "metadata": {},
   "outputs": [],
   "source": [
    "gbc_init = GradientBoostingClassifier(\n",
    "    init=AdaBoostClassifier(random_state=1), random_state=1\n",
    ")\n",
    "gbc_init.fit(X_train, y_train)"
   ]
  },
  {
   "cell_type": "code",
   "execution_count": null,
   "metadata": {},
   "outputs": [],
   "source": [
    "# Using our function to get metrics for the set\n",
    "gbc_init_score = get_metrics_score(gbc_init)"
   ]
  },
  {
   "cell_type": "markdown",
   "metadata": {},
   "source": [
    "#### Observations\n",
    "This model does not have very good metrics. Recall is quite bad on this model."
   ]
  },
  {
   "cell_type": "code",
   "execution_count": null,
   "metadata": {},
   "outputs": [],
   "source": [
    "# Gradient Boosting\n",
    "gbc_tuned = GradientBoostingClassifier(\n",
    "    init=AdaBoostClassifier(random_state=1), random_state=1\n",
    ")\n",
    "\n",
    "\n",
    "parameters = {\n",
    "    \"n_estimators\": [100, 150, 200, 250],\n",
    "    \"subsample\": [0.8, 0.9, 1],\n",
    "    \"max_features\": [0.7, 0.8, 0.9, 1],\n",
    "}\n",
    "\n",
    "\n",
    "acc_scorer = metrics.make_scorer(metrics.recall_score)\n",
    "\n",
    "\n",
    "grid_obj = GridSearchCV(gbc_tuned, parameters, scoring=acc_scorer, cv=5)\n",
    "grid_obj = grid_obj.fit(X_train, y_train)\n",
    "\n",
    "\n",
    "gbc_tuned = grid_obj.best_estimator_\n",
    "\n",
    "\n",
    "gbc_tuned.fit(X_train, y_train)"
   ]
  },
  {
   "cell_type": "code",
   "execution_count": null,
   "metadata": {},
   "outputs": [],
   "source": [
    "# Using our function to get metrics for the set\n",
    "gbc_tuned_score = get_metrics_score(gbc_tuned)"
   ]
  },
  {
   "cell_type": "code",
   "execution_count": null,
   "metadata": {},
   "outputs": [],
   "source": [
    "# Gradient Boost Confusion Matrix\n",
    "make_confusion_matrix(gbc_tuned, y_test)"
   ]
  },
  {
   "cell_type": "code",
   "execution_count": null,
   "metadata": {
    "scrolled": false
   },
   "outputs": [],
   "source": [
    "# Listing the feature importances in order for this model\n",
    "importances = gbc_tuned.feature_importances_\n",
    "indices = np.argsort(importances)\n",
    "feature_names = list(X.columns)\n",
    "\n",
    "plt.figure(figsize=(12, 12))\n",
    "plt.title(\"Feature Importances\")\n",
    "plt.barh(range(len(indices)), importances[indices], color=\"violet\", align=\"center\")\n",
    "plt.yticks(range(len(indices)), [feature_names[i] for i in indices])\n",
    "plt.xlabel(\"Relative Importance\")\n",
    "plt.show()"
   ]
  },
  {
   "cell_type": "markdown",
   "metadata": {},
   "source": [
    "#### XGBoost Tuned is not being completed due to signficant run time."
   ]
  },
  {
   "cell_type": "markdown",
   "metadata": {},
   "source": [
    "#### Tuning our Decision Tree"
   ]
  },
  {
   "cell_type": "code",
   "execution_count": null,
   "metadata": {},
   "outputs": [],
   "source": [
    "# Decision Tree\n",
    "dtree_tuned = DecisionTreeRegressor(random_state=1)\n",
    "\n",
    "parameters = {\n",
    "    \"max_depth\": list(np.arange(2, 20)) + [None],\n",
    "    \"min_samples_leaf\": [1, 3, 5, 7, 10],\n",
    "    \"max_leaf_nodes\": [2, 3, 5, 10, 15] + [None],\n",
    "    \"min_impurity_decrease\": [0.001, 0.01, 0.1, 0.0],\n",
    "}\n",
    "\n",
    "\n",
    "scorer = metrics.make_scorer(metrics.r2_score)\n",
    "\n",
    "grid_obj = GridSearchCV(dtree_tuned, parameters, scoring=scorer, cv=5)\n",
    "grid_obj = grid_obj.fit(X_train, y_train)\n",
    "\n",
    "\n",
    "dtree_tuned = grid_obj.best_estimator_\n",
    "\n",
    "\n",
    "dtree_tuned.fit(X_train, y_train)"
   ]
  },
  {
   "cell_type": "code",
   "execution_count": null,
   "metadata": {},
   "outputs": [],
   "source": [
    "# Listing the feature importances in order for this model\n",
    "print(\n",
    "    pd.DataFrame(\n",
    "        dtree_tuned.feature_importances_, columns=[\"Imp\"], index=X_train.columns\n",
    "    ).sort_values(by=\"Imp\", ascending=False)\n",
    ")"
   ]
  },
  {
   "cell_type": "code",
   "execution_count": null,
   "metadata": {},
   "outputs": [],
   "source": [
    "feature_names = X_train.columns\n",
    "importances = dtree_tuned.feature_importances_\n",
    "indices = np.argsort(importances)\n",
    "\n",
    "plt.figure(figsize=(12, 12))\n",
    "plt.title(\"Feature Importances\")\n",
    "plt.barh(range(len(indices)), importances[indices], color=\"violet\", align=\"center\")\n",
    "plt.yticks(range(len(indices)), [feature_names[i] for i in indices])\n",
    "plt.xlabel(\"Relative Importance\")\n",
    "plt.show()"
   ]
  },
  {
   "cell_type": "markdown",
   "metadata": {},
   "source": [
    "### A Comparison of Our Models"
   ]
  },
  {
   "cell_type": "code",
   "execution_count": null,
   "metadata": {},
   "outputs": [],
   "source": [
    "# defining list of models\n",
    "models = [\n",
    "    bagging_estimator,\n",
    "    bagging_estimator_tuned,\n",
    "    bagging_lr,\n",
    "    rf_estimator,\n",
    "    rf_estimator_tuned,\n",
    "    rf_estimator_weighted,\n",
    "    abc,\n",
    "    abc_tuned,\n",
    "    gbc,\n",
    "    gbc_init,\n",
    "    gbc_tuned,\n",
    "    xgb,\n",
    "]\n",
    "\n",
    "# defining empty lists to add train and test results\n",
    "acc_train = []\n",
    "acc_test = []\n",
    "recall_train = []\n",
    "recall_test = []\n",
    "precision_train = []\n",
    "precision_test = []\n",
    "\n",
    "for model in models:\n",
    "    j = get_metrics_score(model, False)\n",
    "    acc_train.append(np.round(j[0], 2))\n",
    "    acc_test.append(np.round(j[1], 2))\n",
    "    recall_train.append(np.round(j[2], 2))\n",
    "    recall_test.append(np.round(j[3], 2))\n",
    "    precision_train.append(np.round(j[4], 2))\n",
    "    precision_test.append(np.round(j[5], 2))"
   ]
  },
  {
   "cell_type": "code",
   "execution_count": null,
   "metadata": {},
   "outputs": [],
   "source": [
    "comparison_frame = pd.DataFrame(\n",
    "    {\n",
    "        \"Model\": [\n",
    "            \"Bagging classifier with default parameters\",\n",
    "            \"Tuned Bagging Classifier\",\n",
    "            \"Bagging classifier with base_estimator=LR\",\n",
    "            \"Random Forest with default parameters\",\n",
    "            \"Tuned Random Forest Classifier\",\n",
    "            \"Random Forest with class_weights\",\n",
    "            \"AdaBoost with default parameters\",\n",
    "            \"AdaBoost Tuned\",\n",
    "            \"Gradient Boosting with default parameters\",\n",
    "            \"Gradient Boosting with init=AdaBoost\",\n",
    "            \"Gradient Boosting Tuned\",\n",
    "            \"XGBoost with default parameters\",\n",
    "        ],\n",
    "        \"Train_Accuracy\": acc_train,\n",
    "        \"Test_Accuracy\": acc_test,\n",
    "        \"Train_Recall\": recall_train,\n",
    "        \"Test_Recall\": recall_test,\n",
    "        \"Train_Precision\": precision_train,\n",
    "        \"Test_Precision\": precision_test,\n",
    "    }\n",
    ")\n",
    "comparison_frame"
   ]
  },
  {
   "cell_type": "markdown",
   "metadata": {},
   "source": [
    "#### An Analysis of these Models\n",
    "\n",
    "I am strictly looking at the Test columns.  All of them do well in regards to Accuracy.\n",
    "\n",
    "Tuning the decision tree saw some minor improvements on the metrics.\n",
    "\n",
    "after tuning the random forest model, I see a DECREASE in model performance across ALL metrics.\n",
    "\n",
    "I see that Tuned Bagging classifier gives us the best Test recall and precision.  I like that boosted model the most, as those are important metrics for our problem statement.  We are looking for high detection of accurate \"Trues\". We also value precision because we do not want false positives.  Considering that accuracy on our test sets are quite close for all our models, it is also safe to examine recall and precision for this reason as well.\n",
    "\n",
    "Overall, tuning our models I saw significant improvement. Adaboost tuned tremendously improved. Gradient boosting improved as well."
   ]
  },
  {
   "cell_type": "markdown",
   "metadata": {},
   "source": [
    "### Recommendation and Conclusion"
   ]
  },
  {
   "cell_type": "markdown",
   "metadata": {},
   "source": [
    "Based on EDA and modeling, I can see the following regarding each package:\n",
    "\n",
    "*Basic*:\n",
    "This is, generally speaking, for someone in their 20's and 30's who does not make very much money. The executive designation is most likely to get this package.  The Executive Designation purchases this package.\n",
    "\n",
    "*Deluxe*:\n",
    "This is for someone who is mainly in their 30's who makes more than the Basic's demographic, and is willing to splurge on a nicer package.  The Manager purchases this package.\n",
    "\n",
    "*King*:\n",
    "This package markets to the highest spenders, who are generally middle aged. The VP purchases this package.\n",
    "\n",
    "*Standard*:\n",
    "There is a decent amount of Overlap between standard and deluxe.  Both cater to the same age, and income level.  However, you are going to see someone in the Senior Manager position get standard.  This leads me to think that it is slightly more expensive. \n",
    "\n",
    "*Super Deluxe*:\n",
    "These are the AVPs.  These buyers tender to be older. Very high income, but not as high as the VP's who purchase King.\n",
    "\n",
    "\n",
    "\n",
    "*Other Observations*:\n",
    "\n",
    "Occupation: Free lancers are very rare. It is tough to determine based on the small sample size.\n",
    "\n",
    "Gender: I do not see any correlation with Gender and a specific product/package.\n",
    "\n",
    "NumberOfFollowups: Across the dataset, I see that 3 or 4 followups are best, and they should not go past 5.\n",
    "\n",
    "MaritalStatus: Unmarried people do not purchase the King or Super Deluxe models. \n",
    "\n",
    "\n",
    "*Product Conversion Percentages*:\n",
    "\n",
    "Basic: 43%\n",
    "\n",
    "Deluxe: 13%\n",
    "\n",
    "King: 9%\n",
    "\n",
    "Standard: 20%\n",
    "\n",
    "Super Deluxe: 9%\n",
    "\n",
    "\n",
    "\n",
    "I like the Tuned Bagging Classifier model, that I obtained in our test set: 93% Accuracy, 72% Recall, and 90% Precision.  This would maybe be improved if time is alotted to complete a fully tuned XGBoost model, as the XGBoost model gave us the 2nd best metrics.\n",
    "\n",
    "I recommmend that the company takes into account the aformentioned observations regarding each package, and market accordingly.  The demographic provided will save time, money, and increase conversion if marketed properly."
   ]
  }
 ],
 "metadata": {
  "kernelspec": {
   "display_name": "Python 3",
   "language": "python",
   "name": "python3"
  },
  "language_info": {
   "codemirror_mode": {
    "name": "ipython",
    "version": 3
   },
   "file_extension": ".py",
   "mimetype": "text/x-python",
   "name": "python",
   "nbconvert_exporter": "python",
   "pygments_lexer": "ipython3",
   "version": "3.8.5"
  }
 },
 "nbformat": 4,
 "nbformat_minor": 4
}
