{
 "cells": [
  {
   "cell_type": "markdown",
   "metadata": {},
   "source": [
    "# E-News Express\n",
    "\n",
    "## Background\n",
    "\n",
    "Every company looks for new ways to acquire new viewers, clients, and customers.  There are different ways to reach these goals.  In the case of E-News Express, they are looking to get new subscribers by making changes to their online website. I, a Data Scientist hired by E-News Express, am figuring out which landing page is more effective for E-News Express.  An experiment, known as an A/B test, is conducted on website viewers.  Data collected about the viewers is what is going to be examaned in this project.\n",
    "\n",
    "## Key Question to Answer\n",
    "\n",
    "Is the new landing page more appealing to website viewers than the old landing page? In other words, Is the new website more effective in gathering new subscribers?\n",
    "\n",
    "## Dataset\n",
    "\n",
    "#### The lines below give a brief definition of each variable in the dataset:\n",
    "\n",
    "User ID: The identifier assigned to the person visiting the website.\n",
    "\n",
    "Group: Which group the user is in, whether the first group (control group) or the second group (treatment group).\n",
    "\n",
    "Landing Page: Which landing page the user received, whether it was the new or old page.\n",
    "\n",
    "Time Spent on Page: This is the amount of time the user spent on the page, expressed in minutes.\n",
    "\n",
    "Converted: This represents whether the user was converted to a subscriber or not.\n",
    "\n",
    "Language Preferred: This tells us which language the user selected when viewing the landing page, whether English, Spanish, or French.\n"
   ]
  },
  {
   "cell_type": "code",
   "execution_count": 1,
   "metadata": {},
   "outputs": [],
   "source": [
    "#To help make our code look less cluttered, this removes the warnings that pop up.\n",
    "import warnings\n",
    "warnings.filterwarnings('ignore')"
   ]
  },
  {
   "cell_type": "code",
   "execution_count": 2,
   "metadata": {},
   "outputs": [],
   "source": [
    "# Importing the packages for this project\n",
    "import numpy as np \n",
    "import pandas as pd\n",
    "import matplotlib.pyplot as plt\n",
    "import seaborn as sns\n",
    "import scipy.stats as stats\n",
    "%matplotlib inline"
   ]
  },
  {
   "cell_type": "code",
   "execution_count": 3,
   "metadata": {},
   "outputs": [],
   "source": [
    "# Reading our dataset titled \"abtest.csv\".\n",
    "file=pd.read_csv(\"abtest.csv\")\n",
    "\n",
    "# Making a copy of the dataset, so we are not making any changes to the original file.\n",
    "data=file.copy()"
   ]
  },
  {
   "cell_type": "code",
   "execution_count": 4,
   "metadata": {
    "scrolled": false
   },
   "outputs": [
    {
     "data": {
      "text/html": [
       "<div>\n",
       "<style scoped>\n",
       "    .dataframe tbody tr th:only-of-type {\n",
       "        vertical-align: middle;\n",
       "    }\n",
       "\n",
       "    .dataframe tbody tr th {\n",
       "        vertical-align: top;\n",
       "    }\n",
       "\n",
       "    .dataframe thead th {\n",
       "        text-align: right;\n",
       "    }\n",
       "</style>\n",
       "<table border=\"1\" class=\"dataframe\">\n",
       "  <thead>\n",
       "    <tr style=\"text-align: right;\">\n",
       "      <th></th>\n",
       "      <th>user_id</th>\n",
       "      <th>group</th>\n",
       "      <th>landing_page</th>\n",
       "      <th>time_spent_on_the_page</th>\n",
       "      <th>converted</th>\n",
       "      <th>language_preferred</th>\n",
       "    </tr>\n",
       "  </thead>\n",
       "  <tbody>\n",
       "    <tr>\n",
       "      <th>0</th>\n",
       "      <td>546592</td>\n",
       "      <td>control</td>\n",
       "      <td>old</td>\n",
       "      <td>3.48</td>\n",
       "      <td>no</td>\n",
       "      <td>Spanish</td>\n",
       "    </tr>\n",
       "    <tr>\n",
       "      <th>1</th>\n",
       "      <td>546468</td>\n",
       "      <td>treatment</td>\n",
       "      <td>new</td>\n",
       "      <td>7.13</td>\n",
       "      <td>yes</td>\n",
       "      <td>English</td>\n",
       "    </tr>\n",
       "    <tr>\n",
       "      <th>2</th>\n",
       "      <td>546462</td>\n",
       "      <td>treatment</td>\n",
       "      <td>new</td>\n",
       "      <td>4.40</td>\n",
       "      <td>no</td>\n",
       "      <td>Spanish</td>\n",
       "    </tr>\n",
       "    <tr>\n",
       "      <th>3</th>\n",
       "      <td>546567</td>\n",
       "      <td>control</td>\n",
       "      <td>old</td>\n",
       "      <td>3.02</td>\n",
       "      <td>no</td>\n",
       "      <td>French</td>\n",
       "    </tr>\n",
       "    <tr>\n",
       "      <th>4</th>\n",
       "      <td>546459</td>\n",
       "      <td>treatment</td>\n",
       "      <td>new</td>\n",
       "      <td>4.75</td>\n",
       "      <td>yes</td>\n",
       "      <td>Spanish</td>\n",
       "    </tr>\n",
       "  </tbody>\n",
       "</table>\n",
       "</div>"
      ],
      "text/plain": [
       "   user_id      group landing_page  time_spent_on_the_page converted  \\\n",
       "0   546592    control          old                    3.48        no   \n",
       "1   546468  treatment          new                    7.13       yes   \n",
       "2   546462  treatment          new                    4.40        no   \n",
       "3   546567    control          old                    3.02        no   \n",
       "4   546459  treatment          new                    4.75       yes   \n",
       "\n",
       "  language_preferred  \n",
       "0            Spanish  \n",
       "1            English  \n",
       "2            Spanish  \n",
       "3             French  \n",
       "4            Spanish  "
      ]
     },
     "execution_count": 4,
     "metadata": {},
     "output_type": "execute_result"
    }
   ],
   "source": [
    "# Viewing the first 5 rows of the dataset\n",
    "data.head()"
   ]
  },
  {
   "cell_type": "code",
   "execution_count": 5,
   "metadata": {},
   "outputs": [
    {
     "data": {
      "text/html": [
       "<div>\n",
       "<style scoped>\n",
       "    .dataframe tbody tr th:only-of-type {\n",
       "        vertical-align: middle;\n",
       "    }\n",
       "\n",
       "    .dataframe tbody tr th {\n",
       "        vertical-align: top;\n",
       "    }\n",
       "\n",
       "    .dataframe thead th {\n",
       "        text-align: right;\n",
       "    }\n",
       "</style>\n",
       "<table border=\"1\" class=\"dataframe\">\n",
       "  <thead>\n",
       "    <tr style=\"text-align: right;\">\n",
       "      <th></th>\n",
       "      <th>user_id</th>\n",
       "      <th>group</th>\n",
       "      <th>landing_page</th>\n",
       "      <th>time_spent_on_the_page</th>\n",
       "      <th>converted</th>\n",
       "      <th>language_preferred</th>\n",
       "    </tr>\n",
       "  </thead>\n",
       "  <tbody>\n",
       "    <tr>\n",
       "      <th>95</th>\n",
       "      <td>546446</td>\n",
       "      <td>treatment</td>\n",
       "      <td>new</td>\n",
       "      <td>5.15</td>\n",
       "      <td>no</td>\n",
       "      <td>Spanish</td>\n",
       "    </tr>\n",
       "    <tr>\n",
       "      <th>96</th>\n",
       "      <td>546544</td>\n",
       "      <td>control</td>\n",
       "      <td>old</td>\n",
       "      <td>6.52</td>\n",
       "      <td>yes</td>\n",
       "      <td>English</td>\n",
       "    </tr>\n",
       "    <tr>\n",
       "      <th>97</th>\n",
       "      <td>546472</td>\n",
       "      <td>treatment</td>\n",
       "      <td>new</td>\n",
       "      <td>7.07</td>\n",
       "      <td>yes</td>\n",
       "      <td>Spanish</td>\n",
       "    </tr>\n",
       "    <tr>\n",
       "      <th>98</th>\n",
       "      <td>546481</td>\n",
       "      <td>treatment</td>\n",
       "      <td>new</td>\n",
       "      <td>6.20</td>\n",
       "      <td>yes</td>\n",
       "      <td>Spanish</td>\n",
       "    </tr>\n",
       "    <tr>\n",
       "      <th>99</th>\n",
       "      <td>546483</td>\n",
       "      <td>treatment</td>\n",
       "      <td>new</td>\n",
       "      <td>5.86</td>\n",
       "      <td>yes</td>\n",
       "      <td>English</td>\n",
       "    </tr>\n",
       "  </tbody>\n",
       "</table>\n",
       "</div>"
      ],
      "text/plain": [
       "    user_id      group landing_page  time_spent_on_the_page converted  \\\n",
       "95   546446  treatment          new                    5.15        no   \n",
       "96   546544    control          old                    6.52       yes   \n",
       "97   546472  treatment          new                    7.07       yes   \n",
       "98   546481  treatment          new                    6.20       yes   \n",
       "99   546483  treatment          new                    5.86       yes   \n",
       "\n",
       "   language_preferred  \n",
       "95            Spanish  \n",
       "96            English  \n",
       "97            Spanish  \n",
       "98            Spanish  \n",
       "99            English  "
      ]
     },
     "execution_count": 5,
     "metadata": {},
     "output_type": "execute_result"
    }
   ],
   "source": [
    "# Viewing the last 5 rows of the dataset\n",
    "data.tail()"
   ]
  },
  {
   "cell_type": "code",
   "execution_count": 6,
   "metadata": {},
   "outputs": [
    {
     "data": {
      "text/plain": [
       "(100, 6)"
      ]
     },
     "execution_count": 6,
     "metadata": {},
     "output_type": "execute_result"
    }
   ],
   "source": [
    "# Looking at the shape of the dataset\n",
    "data.shape"
   ]
  },
  {
   "cell_type": "markdown",
   "metadata": {},
   "source": [
    "#### Observation\n",
    "Dataset has 100 rows and 6 columns"
   ]
  },
  {
   "cell_type": "code",
   "execution_count": 7,
   "metadata": {},
   "outputs": [],
   "source": [
    "# Cleaning the data. Looking for any blank entries in the dataset\n",
    "data=data.dropna()"
   ]
  },
  {
   "cell_type": "code",
   "execution_count": 8,
   "metadata": {
    "scrolled": true
   },
   "outputs": [
    {
     "data": {
      "text/plain": [
       "(100, 6)"
      ]
     },
     "execution_count": 8,
     "metadata": {},
     "output_type": "execute_result"
    }
   ],
   "source": [
    "data.shape"
   ]
  },
  {
   "cell_type": "markdown",
   "metadata": {},
   "source": [
    "#### Observation\n",
    "The command did not remove any entries of the datset.  "
   ]
  },
  {
   "cell_type": "code",
   "execution_count": 9,
   "metadata": {
    "scrolled": true
   },
   "outputs": [
    {
     "name": "stdout",
     "output_type": "stream",
     "text": [
      "<class 'pandas.core.frame.DataFrame'>\n",
      "Int64Index: 100 entries, 0 to 99\n",
      "Data columns (total 6 columns):\n",
      " #   Column                  Non-Null Count  Dtype  \n",
      "---  ------                  --------------  -----  \n",
      " 0   user_id                 100 non-null    int64  \n",
      " 1   group                   100 non-null    object \n",
      " 2   landing_page            100 non-null    object \n",
      " 3   time_spent_on_the_page  100 non-null    float64\n",
      " 4   converted               100 non-null    object \n",
      " 5   language_preferred      100 non-null    object \n",
      "dtypes: float64(1), int64(1), object(4)\n",
      "memory usage: 5.5+ KB\n"
     ]
    }
   ],
   "source": [
    "# Showing the data types of our variables in the data set\n",
    "data.info()"
   ]
  },
  {
   "cell_type": "code",
   "execution_count": 10,
   "metadata": {},
   "outputs": [],
   "source": [
    "# We want to change the data type of a few variables.  \n",
    "data[\"group\"]=data[\"group\"].astype(\"category\")\n",
    "data[\"converted\"]=data[\"converted\"].astype(\"category\")\n",
    "data[\"landing_page\"]=data[\"landing_page\"].astype(\"category\")"
   ]
  },
  {
   "cell_type": "markdown",
   "metadata": {},
   "source": [
    "#### Observations\n",
    "I changed group, converted, and landing_page to be categories.  Not only does this help with memory usage, but there are limited outcomes for these datatypes, and we want them to be categories.  For example:\n",
    "\n",
    "Group: can only yield a response of \"control\" or treatment\".\n",
    "\n",
    "Converted: can only yield a response of \"yes\" or \"no\".\n",
    "\n",
    "Landing_page: can only yield a response of \"old\" or \"new\"."
   ]
  },
  {
   "cell_type": "code",
   "execution_count": 11,
   "metadata": {},
   "outputs": [
    {
     "name": "stdout",
     "output_type": "stream",
     "text": [
      "<class 'pandas.core.frame.DataFrame'>\n",
      "Int64Index: 100 entries, 0 to 99\n",
      "Data columns (total 6 columns):\n",
      " #   Column                  Non-Null Count  Dtype   \n",
      "---  ------                  --------------  -----   \n",
      " 0   user_id                 100 non-null    int64   \n",
      " 1   group                   100 non-null    category\n",
      " 2   landing_page            100 non-null    category\n",
      " 3   time_spent_on_the_page  100 non-null    float64 \n",
      " 4   converted               100 non-null    category\n",
      " 5   language_preferred      100 non-null    object  \n",
      "dtypes: category(3), float64(1), int64(1), object(1)\n",
      "memory usage: 3.7+ KB\n"
     ]
    }
   ],
   "source": [
    "# Checking the data types after the change\n",
    "data.info()"
   ]
  },
  {
   "cell_type": "markdown",
   "metadata": {},
   "source": [
    "#### Observation\n",
    "We can see that the aformentioned variables are now category datatypes.  The rest will remain as integers."
   ]
  },
  {
   "cell_type": "code",
   "execution_count": 12,
   "metadata": {
    "scrolled": true
   },
   "outputs": [
    {
     "data": {
      "text/html": [
       "<div>\n",
       "<style scoped>\n",
       "    .dataframe tbody tr th:only-of-type {\n",
       "        vertical-align: middle;\n",
       "    }\n",
       "\n",
       "    .dataframe tbody tr th {\n",
       "        vertical-align: top;\n",
       "    }\n",
       "\n",
       "    .dataframe thead th {\n",
       "        text-align: right;\n",
       "    }\n",
       "</style>\n",
       "<table border=\"1\" class=\"dataframe\">\n",
       "  <thead>\n",
       "    <tr style=\"text-align: right;\">\n",
       "      <th></th>\n",
       "      <th>user_id</th>\n",
       "      <th>time_spent_on_the_page</th>\n",
       "    </tr>\n",
       "  </thead>\n",
       "  <tbody>\n",
       "    <tr>\n",
       "      <th>count</th>\n",
       "      <td>100.000000</td>\n",
       "      <td>100.000000</td>\n",
       "    </tr>\n",
       "    <tr>\n",
       "      <th>mean</th>\n",
       "      <td>546517.000000</td>\n",
       "      <td>5.377800</td>\n",
       "    </tr>\n",
       "    <tr>\n",
       "      <th>std</th>\n",
       "      <td>52.295779</td>\n",
       "      <td>2.378166</td>\n",
       "    </tr>\n",
       "    <tr>\n",
       "      <th>min</th>\n",
       "      <td>546443.000000</td>\n",
       "      <td>0.190000</td>\n",
       "    </tr>\n",
       "    <tr>\n",
       "      <th>25%</th>\n",
       "      <td>546467.750000</td>\n",
       "      <td>3.880000</td>\n",
       "    </tr>\n",
       "    <tr>\n",
       "      <th>50%</th>\n",
       "      <td>546492.500000</td>\n",
       "      <td>5.415000</td>\n",
       "    </tr>\n",
       "    <tr>\n",
       "      <th>75%</th>\n",
       "      <td>546567.250000</td>\n",
       "      <td>7.022500</td>\n",
       "    </tr>\n",
       "    <tr>\n",
       "      <th>max</th>\n",
       "      <td>546592.000000</td>\n",
       "      <td>10.710000</td>\n",
       "    </tr>\n",
       "  </tbody>\n",
       "</table>\n",
       "</div>"
      ],
      "text/plain": [
       "             user_id  time_spent_on_the_page\n",
       "count     100.000000              100.000000\n",
       "mean   546517.000000                5.377800\n",
       "std        52.295779                2.378166\n",
       "min    546443.000000                0.190000\n",
       "25%    546467.750000                3.880000\n",
       "50%    546492.500000                5.415000\n",
       "75%    546567.250000                7.022500\n",
       "max    546592.000000               10.710000"
      ]
     },
     "execution_count": 12,
     "metadata": {},
     "output_type": "execute_result"
    }
   ],
   "source": [
    "# Getting some useful figures in regards to time spent on the page\n",
    "data.describe()"
   ]
  },
  {
   "cell_type": "markdown",
   "metadata": {},
   "source": [
    "#### Observation\n",
    "\n",
    "The mean time spent on the page is less than the median, indicating a left skew.\n",
    "\n",
    "The biggest takeaway from this that I will test involves the mean time spent on the page (5.37 seconds)"
   ]
  },
  {
   "cell_type": "code",
   "execution_count": 13,
   "metadata": {},
   "outputs": [],
   "source": [
    "# For the sake of simplifying our tests and EDA, I defined variables for each group\n",
    "treatment = data[data['group']=='treatment']\n",
    "control = data[data['group']=='control']\n",
    "\n",
    "# I did the same for languages\n",
    "english = data[data['language_preferred']=='English']\n",
    "spanish = data[data['language_preferred']=='Spanish']\n",
    "french = data[data['language_preferred']=='French']\n",
    "\n",
    "# I am assigning the separate groups' languages to their own variables for better visuals (such as subplots) later on\n",
    "oldenglish = control[control['language_preferred']=='English']\n",
    "oldspanish = control[control['language_preferred']=='Spanish']\n",
    "oldfrench = control[control['language_preferred']=='French']\n",
    "newenglish = treatment[treatment['language_preferred']=='English']\n",
    "newspanish = treatment[treatment['language_preferred']=='Spanish']\n",
    "newfrench = treatment[treatment['language_preferred']=='French']"
   ]
  },
  {
   "cell_type": "markdown",
   "metadata": {},
   "source": [
    "## EDA"
   ]
  },
  {
   "cell_type": "code",
   "execution_count": 14,
   "metadata": {},
   "outputs": [],
   "source": [
    "# Defining a function to give us the percentage of each language preferred in the sample\n",
    "def percent(plot, feature):\n",
    "    total = len(feature)\n",
    "    for p in ax.patches:\n",
    "        percentage = '{:.1f}%'.format(100 * p.get_height()/total)\n",
    "        x = p.get_x() + p.get_width() / 2 - 0.05 \n",
    "        y = p.get_y() + p.get_height()          \n",
    "        ax.annotate(percentage, (x, y), size = 12)  \n",
    "    plt.show()"
   ]
  },
  {
   "cell_type": "markdown",
   "metadata": {},
   "source": [
    "### Percentages of Language Preferred for the Sample"
   ]
  },
  {
   "cell_type": "code",
   "execution_count": 15,
   "metadata": {
    "scrolled": false
   },
   "outputs": [
    {
     "data": {
      "image/png": "[encoded data removed]",
      "text/plain": [
       "<Figure size 1080x360 with 1 Axes>"
      ]
     },
     "metadata": {
      "needs_background": "light"
     },
     "output_type": "display_data"
    }
   ],
   "source": [
    "# Using a countplot to determine the frequency of each language preferred\n",
    "plt.figure(figsize=(15,5))\n",
    "ax = sns.countplot(data[\"language_preferred\"], palette=\"gnuplot2_r\")\n",
    "percent(ax,data[\"language_preferred\"])"
   ]
  },
  {
   "cell_type": "markdown",
   "metadata": {},
   "source": [
    "#### Observation\n",
    "\n",
    "There appears to be an pretty even dispersion on language preferred by the users going on the site.  This is good."
   ]
  },
  {
   "cell_type": "markdown",
   "metadata": {},
   "source": [
    "### Percentages of Converted for the Two Groups"
   ]
  },
  {
   "cell_type": "code",
   "execution_count": 16,
   "metadata": {
    "scrolled": false
   },
   "outputs": [
    {
     "data": {
      "image/png": "[encoded data removed]",
      "text/plain": [
       "<Figure size 1080x504 with 1 Axes>"
      ]
     },
     "metadata": {
      "needs_background": "light"
     },
     "output_type": "display_data"
    }
   ],
   "source": [
    "# Using a countplot to show us the proportions in percentage form of conversion for each group\n",
    "plt.figure(figsize=(15,7))\n",
    "ax = sns.countplot(data[\"group\"], hue=data[\"converted\"], palette=\"winter\")\n",
    "percent(ax,control[\"group\"])"
   ]
  },
  {
   "cell_type": "markdown",
   "metadata": {},
   "source": [
    "#### Observation\n",
    "\n",
    "By looking at this visual alone, we see a nice improvement in conversion with the treatment group from the control group.\n",
    "\n",
    "\n",
    "#### Control group:\n",
    "\n",
    "58% did not convert\n",
    "\n",
    "42% converted\n",
    "\n",
    "#### Treatment group:\n",
    "\n",
    "34% did not convert\n",
    "\n",
    "66% converted"
   ]
  },
  {
   "cell_type": "markdown",
   "metadata": {},
   "source": [
    "### Multivariate Analysis"
   ]
  },
  {
   "cell_type": "code",
   "execution_count": 17,
   "metadata": {
    "scrolled": true
   },
   "outputs": [
    {
     "data": {
      "text/plain": [
       "<seaborn.axisgrid.FacetGrid at 0x1daf7dc4ca0>"
      ]
     },
     "execution_count": 17,
     "metadata": {},
     "output_type": "execute_result"
    },
    {
     "data": {
      "text/plain": [
       "<Figure size 1080x504 with 0 Axes>"
      ]
     },
     "metadata": {},
     "output_type": "display_data"
    },
    {
     "data": {
      "image/png": "[encoded data removed]",
      "text/plain": [
       "<Figure size 720x360 with 2 Axes>"
      ]
     },
     "metadata": {
      "needs_background": "light"
     },
     "output_type": "display_data"
    }
   ],
   "source": [
    "plt.figure(figsize=(15,7))\n",
    "sns.catplot(x=\"language_preferred\", y = \"time_spent_on_the_page\", col = \"group\", data=data, kind=\"box\", palette=\"gnuplot2_r\")"
   ]
  },
  {
   "cell_type": "code",
   "execution_count": 18,
   "metadata": {
    "scrolled": true
   },
   "outputs": [
    {
     "data": {
      "text/plain": [
       "<seaborn.axisgrid.FacetGrid at 0x1daf7ec9fa0>"
      ]
     },
     "execution_count": 18,
     "metadata": {},
     "output_type": "execute_result"
    },
    {
     "data": {
      "text/plain": [
       "<Figure size 1080x504 with 0 Axes>"
      ]
     },
     "metadata": {},
     "output_type": "display_data"
    },
    {
     "data": {
      "image/png": "[encoded data removed]",
      "text/plain": [
       "<Figure size 418.375x360 with 1 Axes>"
      ]
     },
     "metadata": {
      "needs_background": "light"
     },
     "output_type": "display_data"
    }
   ],
   "source": [
    "# Bivariate distribution to show the relationship between two variables.  I am using the cat plot for this\n",
    "plt.figure(figsize=(15,7))\n",
    "sns.catplot(x=\"group\", y=\"time_spent_on_the_page\", hue=\"converted\", data=data, palette=\"gnuplot2_r\")"
   ]
  },
  {
   "cell_type": "code",
   "execution_count": 19,
   "metadata": {
    "scrolled": false
   },
   "outputs": [
    {
     "data": {
      "text/plain": [
       "group\n",
       "control      4.5324\n",
       "treatment    6.2232\n",
       "Name: time_spent_on_the_page, dtype: float64"
      ]
     },
     "execution_count": 19,
     "metadata": {},
     "output_type": "execute_result"
    }
   ],
   "source": [
    "data.groupby('group')['time_spent_on_the_page'].mean()"
   ]
  },
  {
   "cell_type": "markdown",
   "metadata": {},
   "source": [
    "#### Observations\n",
    "The average time spent on the page is higher amongst the treatment group\n",
    "\n",
    "Regardless of which page the user receives, it appears that the longer they stay on the landing page, the more likely they are to convert to a subscriber.\n",
    "\n",
    "We can also see here that the time spent on the new landing page (treatment group) is, on average, higher across all languages."
   ]
  },
  {
   "cell_type": "code",
   "execution_count": 20,
   "metadata": {
    "scrolled": true
   },
   "outputs": [
    {
     "data": {
      "text/plain": [
       "language_preferred\n",
       "English    5.559063\n",
       "French     5.253235\n",
       "Spanish    5.331765\n",
       "Name: time_spent_on_the_page, dtype: float64"
      ]
     },
     "execution_count": 20,
     "metadata": {},
     "output_type": "execute_result"
    }
   ],
   "source": [
    "# Does the mean time spent on the page vary based on language preferred?\n",
    "data.groupby('language_preferred')['time_spent_on_the_page'].mean()"
   ]
  },
  {
   "cell_type": "markdown",
   "metadata": {},
   "source": [
    "#### Observation\n",
    "The average time spent on the page is quite similar across all languages when combining groups."
   ]
  },
  {
   "cell_type": "markdown",
   "metadata": {},
   "source": [
    "## Hypothesis Testing"
   ]
  },
  {
   "cell_type": "markdown",
   "metadata": {},
   "source": [
    "### Time Spent on the Landing Page and Preferred Language"
   ]
  },
  {
   "cell_type": "code",
   "execution_count": 21,
   "metadata": {},
   "outputs": [
    {
     "data": {
      "text/plain": [
       "<AxesSubplot:xlabel='language_preferred', ylabel='time_spent_on_the_page'>"
      ]
     },
     "execution_count": 21,
     "metadata": {},
     "output_type": "execute_result"
    },
    {
     "data": {
      "image/png": "[encoded data removed]",
      "text/plain": [
       "<Figure size 432x288 with 1 Axes>"
      ]
     },
     "metadata": {
      "needs_background": "light"
     },
     "output_type": "display_data"
    }
   ],
   "source": [
    "sns.barplot(english['language_preferred'],english['time_spent_on_the_page'], hue=english['group'])"
   ]
  },
  {
   "cell_type": "code",
   "execution_count": 22,
   "metadata": {
    "scrolled": true
   },
   "outputs": [
    {
     "data": {
      "text/plain": [
       "<AxesSubplot:xlabel='language_preferred', ylabel='time_spent_on_the_page'>"
      ]
     },
     "execution_count": 22,
     "metadata": {},
     "output_type": "execute_result"
    },
    {
     "data": {
      "image/png": "[encoded data removed]",
      "text/plain": [
       "<Figure size 432x288 with 1 Axes>"
      ]
     },
     "metadata": {
      "needs_background": "light"
     },
     "output_type": "display_data"
    }
   ],
   "source": [
    "sns.barplot(spanish['language_preferred'],spanish['time_spent_on_the_page'], hue=spanish['group'])"
   ]
  },
  {
   "cell_type": "code",
   "execution_count": 23,
   "metadata": {
    "scrolled": true
   },
   "outputs": [
    {
     "data": {
      "text/plain": [
       "<AxesSubplot:xlabel='language_preferred', ylabel='time_spent_on_the_page'>"
      ]
     },
     "execution_count": 23,
     "metadata": {},
     "output_type": "execute_result"
    },
    {
     "data": {
      "image/png": "[encoded data removed]",
      "text/plain": [
       "<Figure size 432x288 with 1 Axes>"
      ]
     },
     "metadata": {
      "needs_background": "light"
     },
     "output_type": "display_data"
    }
   ],
   "source": [
    "sns.barplot(french['language_preferred'],french['time_spent_on_the_page'], hue=french['group'])"
   ]
  },
  {
   "cell_type": "code",
   "execution_count": 24,
   "metadata": {},
   "outputs": [
    {
     "name": "stdout",
     "output_type": "stream",
     "text": [
      "group\n",
      "control      4.454375\n",
      "treatment    6.663750\n",
      "Name: time_spent_on_the_page, dtype: float64\n",
      "group\n",
      "control      4.828235\n",
      "treatment    5.835294\n",
      "Name: time_spent_on_the_page, dtype: float64\n",
      "group\n",
      "control      4.310000\n",
      "treatment    6.196471\n",
      "Name: time_spent_on_the_page, dtype: float64\n"
     ]
    }
   ],
   "source": [
    "print(english.groupby(\"group\")['time_spent_on_the_page'].mean())\n",
    "print(spanish.groupby(\"group\")['time_spent_on_the_page'].mean())\n",
    "print(french.groupby(\"group\")['time_spent_on_the_page'].mean())"
   ]
  },
  {
   "cell_type": "markdown",
   "metadata": {},
   "source": [
    "### Shapiro-Wilk's Test\n",
    "\n",
    "Null hypothesis \n",
    "\n",
    "$H_0:$ They follow a normal distribution.\n",
    "\n",
    "Alternative hypothesis \n",
    "\n",
    "$H_a:$ They do not follow a normal distribution."
   ]
  },
  {
   "cell_type": "code",
   "execution_count": 25,
   "metadata": {},
   "outputs": [
    {
     "name": "stdout",
     "output_type": "stream",
     "text": [
      "The p-value is 0.5643684267997742\n"
     ]
    }
   ],
   "source": [
    "# Shapiro-Wilk's Test\n",
    "# Importing the function\n",
    "from scipy import stats\n",
    "\n",
    "# finding the p-value\n",
    "w, p_value = stats.shapiro(data['time_spent_on_the_page']) \n",
    "print('The p-value is', p_value)"
   ]
  },
  {
   "cell_type": "markdown",
   "metadata": {},
   "source": [
    "#### Observation\n",
    "\n",
    "Since th p-value is quite large, we fail to reject the null hypothesis."
   ]
  },
  {
   "cell_type": "markdown",
   "metadata": {},
   "source": [
    "### Levene's Test\n",
    "Null hypothesis\n",
    "\n",
    "$H_0$: All of the variances are equal.\n",
    "\n",
    "Alternative hypothesis\n",
    "\n",
    "$H_a$: At least one variance is not equal."
   ]
  },
  {
   "cell_type": "code",
   "execution_count": 26,
   "metadata": {
    "scrolled": true
   },
   "outputs": [
    {
     "name": "stdout",
     "output_type": "stream",
     "text": [
      "0.06515086840327314\n"
     ]
    }
   ],
   "source": [
    "# Levene's Test\n",
    "# Importing the function\n",
    "from scipy.stats import levene\n",
    "statistic, p_value = levene( data['time_spent_on_the_page'][data['language_preferred']==\"English\"], \n",
    "                                   data['time_spent_on_the_page'][data['language_preferred']==\"Spanish\"], \n",
    "                                   data['time_spent_on_the_page'][data['language_preferred']==\"French\"])\n",
    "# find the p-value\n",
    "print(p_value)"
   ]
  },
  {
   "cell_type": "markdown",
   "metadata": {},
   "source": [
    "#### Observation\n",
    "\n",
    "Since the p-value is above the 0.05 level, we fail to reject the null that all variances are equal."
   ]
  },
  {
   "cell_type": "markdown",
   "metadata": {},
   "source": [
    "### ANOVA Test\n",
    "\n",
    "Considering that that they are normally distributed and the variances are equal, we can continue with the ANOVA Test.\n",
    "\n",
    "Null hypothesis is that the means are the same\n",
    "\n",
    "$𝐻_0: 𝜇_1=𝜇_2 \\text{ and } 𝜇_1=𝜇_3 \\text{ and } 𝜇_2=𝜇_3$\n",
    "\n",
    "Alternative hypothesis is that the means are not the same\n",
    "\n",
    "$𝐻_a: 𝜇_1\\neq𝜇_2 \\text{ or } 𝜇_1\\neq𝜇_3 \\text{ or } 𝜇_2\\neq𝜇_3$"
   ]
  },
  {
   "cell_type": "code",
   "execution_count": 27,
   "metadata": {},
   "outputs": [
    {
     "name": "stdout",
     "output_type": "stream",
     "text": [
      " Multiple Comparison of Means - Tukey HSD, FWER=0.05 \n",
      "=====================================================\n",
      " group1  group2 meandiff p-adj   lower  upper  reject\n",
      "-----------------------------------------------------\n",
      "English  French  -0.3058 0.8482 -1.7123 1.1006  False\n",
      "English Spanish  -0.2273    0.9 -1.6338 1.1792  False\n",
      " French Spanish   0.0785    0.9 -1.3065 1.4635  False\n",
      "-----------------------------------------------------\n"
     ]
    }
   ],
   "source": [
    "# ANOVA Test\n",
    "# Importing the function\n",
    "from statsmodels.stats.multicomp import pairwise_tukeyhsd\n",
    "\n",
    "# Multiple Pairwise Conversion Test\n",
    "m_comp = pairwise_tukeyhsd(endog = data['time_spent_on_the_page'], groups = data['language_preferred'], alpha = 0.05)\n",
    "print(m_comp)"
   ]
  },
  {
   "cell_type": "markdown",
   "metadata": {},
   "source": [
    "#### Observation\n",
    "\n",
    "The p-values in column p-adj are all substantially above the 0.05 value.  Because of this, we fail to reject the null hypothesis.\n",
    "\n",
    "It appears that overall, the new landing page keeps all viewers on longer across all languages on average.\n",
    "\n",
    "It appears that French is most likely to have lower time spent on page.  Also, there appears to be less converted.  These results seem to be correlated based on this plot and the previous plots.\n",
    "\n",
    "Longer time spent on the page indicates a stronger conversion rate.  "
   ]
  },
  {
   "cell_type": "markdown",
   "metadata": {},
   "source": [
    "### Time Spent on the Landing Page And Conversion Rate\n",
    "We are testing to see if the new landing page is affective at getting new customers. We will test if the time spent on the page has changed based on which page the user has received."
   ]
  },
  {
   "cell_type": "code",
   "execution_count": 28,
   "metadata": {
    "scrolled": false
   },
   "outputs": [
    {
     "data": {
      "text/plain": [
       "group\n",
       "control      4.5324\n",
       "treatment    6.2232\n",
       "Name: time_spent_on_the_page, dtype: float64"
      ]
     },
     "execution_count": 28,
     "metadata": {},
     "output_type": "execute_result"
    }
   ],
   "source": [
    "# First, let's find the mean of the control and treatment groups\n",
    "data.groupby('group')['time_spent_on_the_page'].mean()"
   ]
  },
  {
   "cell_type": "code",
   "execution_count": 29,
   "metadata": {
    "scrolled": true
   },
   "outputs": [
    {
     "data": {
      "text/plain": [
       "group\n",
       "control      2.581975\n",
       "treatment    1.817031\n",
       "Name: time_spent_on_the_page, dtype: float64"
      ]
     },
     "execution_count": 29,
     "metadata": {},
     "output_type": "execute_result"
    }
   ],
   "source": [
    "# Second, let's find the standard deviation of the control and treatment groups\n",
    "data.groupby('group')['time_spent_on_the_page'].std()"
   ]
  },
  {
   "cell_type": "markdown",
   "metadata": {},
   "source": [
    "#### Observation\n",
    "\n",
    "The standard deviations are NOT equal which means their variances are not equal.  We need to take this into account when doing our hypothesis test."
   ]
  },
  {
   "cell_type": "markdown",
   "metadata": {},
   "source": [
    "### T-Test for Equality of Means (When Standard Deviation is Known)\n",
    "The null hypothesis is that the mean wait time is equal with the new landing page.\n",
    "\n",
    "$H_0:\\mu_1=\\mu_2$\n",
    "    \n",
    "The alternative hypothesis is that the mean wait time HAS increased with the new landing page.\n",
    "\n",
    "$H_a:\\mu_1>\\mu_2$\n",
    "\n",
    "\n",
    "We assume the following:\n",
    "\n",
    "-The sample is random.\n",
    "\n",
    "-The distribution is normally distributed.\n",
    "\n",
    "-The data is continuous.\n",
    "\n",
    "-The populations are two different groups.\n",
    "\n",
    "Considering we know the standard deviation, we will use a t-test.  We use a t-test over a z-test because we do not know the population values."
   ]
  },
  {
   "cell_type": "code",
   "execution_count": 30,
   "metadata": {},
   "outputs": [
    {
     "name": "stdout",
     "output_type": "stream",
     "text": [
      "0.0001392381225166549\n"
     ]
    }
   ],
   "source": [
    "#import the t-test function from scipy\n",
    "from scipy.stats import ttest_ind\n",
    "\n",
    "# I used \"greater\" because this is a one sided test.  We are trying to see if the time spent has increased.\n",
    "test_stat, p_value = ttest_ind(treatment['time_spent_on_the_page'], control['time_spent_on_the_page'].dropna(), equal_var = False, alternative=\"greater\")\n",
    "print(p_value)"
   ]
  },
  {
   "cell_type": "markdown",
   "metadata": {},
   "source": [
    "#### Observation\n",
    "\n",
    "The p-value is significantly below the significance level of 0.05.  Considering it is less than the level of significance, we reject the null hypothesis.\n",
    "\n",
    "Users spend more time on the new landing page."
   ]
  },
  {
   "cell_type": "markdown",
   "metadata": {},
   "source": [
    "### Two Proportion Test for Conversion Rate and the Landing Page\n",
    "The null hypothesis is that the new landing page has NOT made an impact on conversion.\n",
    "\n",
    "$H_0:p_1 =p_2$\n",
    "    \n",
    "The alternative hypothesis is that the new landing page has made an impact on conversion.\n",
    "\n",
    "$H_a:p_1 \\neq p_2$\n",
    "\n",
    "\n",
    "\n",
    "#### Considering these values are percentages, I will use a two proportion z-test"
   ]
  },
  {
   "cell_type": "markdown",
   "metadata": {},
   "source": [
    "On the old landing page, 21 converted out of 50. 29 DIDN'T convert.\n",
    "\n",
    "On the new landing page, 33 converted out of 50. 17 DIDN'T convert."
   ]
  },
  {
   "cell_type": "code",
   "execution_count": 31,
   "metadata": {},
   "outputs": [
    {
     "name": "stdout",
     "output_type": "stream",
     "text": [
      "0.016052616408112598\n"
     ]
    }
   ],
   "source": [
    "# Importing the function\n",
    "from statsmodels.stats.proportion import proportions_ztest\n",
    "\n",
    "# Setting the number that didn't convert\n",
    "nonconvert = np.array([29, 17])\n",
    "\n",
    "# Setting the sample size of the two groups\n",
    "samples = np.array([50, 50])\n",
    "\n",
    "# Finding the p-value for our conversion rates\n",
    "test_stat, p_value = proportions_ztest(nonconvert, samples)\n",
    "print(p_value)"
   ]
  },
  {
   "cell_type": "markdown",
   "metadata": {},
   "source": [
    "#### Observation\n",
    "\n",
    "The p-value is significantly below the significance level of 0.05.  Considering it is less than the level of significance, we reject the null hypothesis.\n",
    "\n",
    "The conversion rate of the new landing page is greater than the conversion rate of the old landing page."
   ]
  },
  {
   "cell_type": "markdown",
   "metadata": {},
   "source": [
    "## Language Preferred and Conversion"
   ]
  },
  {
   "cell_type": "code",
   "execution_count": 32,
   "metadata": {
    "scrolled": false
   },
   "outputs": [
    {
     "name": "stdout",
     "output_type": "stream",
     "text": [
      "For the control group: \n",
      " language_preferred\n",
      "English    16\n",
      "French     17\n",
      "Spanish    17\n",
      "Name: converted, dtype: int64\n",
      "\n",
      "\n",
      "For the treatment group: \n",
      " language_preferred\n",
      "English    16\n",
      "French     17\n",
      "Spanish    17\n",
      "Name: converted, dtype: int64\n"
     ]
    }
   ],
   "source": [
    "#First, I will count the amounts of each language for the two groups\n",
    "print(\"For the control group: \\n\", control.groupby('language_preferred')['converted'].count())\n",
    "print(\"\\n\")\n",
    "print(\"For the treatment group: \\n\", treatment.groupby('language_preferred')['converted'].count())"
   ]
  },
  {
   "cell_type": "markdown",
   "metadata": {},
   "source": [
    "#### Observation\n",
    "It looks like the ratios are exactly even for each group in regards to the count."
   ]
  },
  {
   "cell_type": "markdown",
   "metadata": {},
   "source": [
    "### English and Conversion Rate"
   ]
  },
  {
   "cell_type": "code",
   "execution_count": 33,
   "metadata": {},
   "outputs": [
    {
     "name": "stdout",
     "output_type": "stream",
     "text": [
      "converted\n",
      "no      5\n",
      "yes    11\n",
      "Name: group, dtype: int64\n",
      "\n",
      "\n",
      "converted\n",
      "no      6\n",
      "yes    10\n",
      "Name: group, dtype: int64\n"
     ]
    }
   ],
   "source": [
    "print(oldenglish.groupby('converted')['group'].count())\n",
    "print(\"\\n\")\n",
    "print(newenglish.groupby('converted')['group'].count())"
   ]
  },
  {
   "cell_type": "code",
   "execution_count": 34,
   "metadata": {
    "scrolled": false
   },
   "outputs": [
    {
     "data": {
      "image/png": "[encoded data removed]",
      "text/plain": [
       "<Figure size 432x288 with 2 Axes>"
      ]
     },
     "metadata": {
      "needs_background": "light"
     },
     "output_type": "display_data"
    }
   ],
   "source": [
    "fig, ax =plt.subplots(1,2)\n",
    "sns.countplot(oldenglish[\"converted\"], palette=\"gnuplot2_r\", ax=ax[0])\n",
    "sns.countplot(newenglish[\"converted\"], palette=\"gnuplot2_r\", ax=ax[1])\n",
    "fig.show()"
   ]
  },
  {
   "cell_type": "markdown",
   "metadata": {},
   "source": [
    "#### Observation\n",
    "\n",
    "When looking at the counts, English as language preferred seems to convert well across both pages."
   ]
  },
  {
   "cell_type": "markdown",
   "metadata": {},
   "source": [
    "### Spanish and Conversion Rate"
   ]
  },
  {
   "cell_type": "code",
   "execution_count": 35,
   "metadata": {
    "scrolled": true
   },
   "outputs": [
    {
     "name": "stdout",
     "output_type": "stream",
     "text": [
      "converted\n",
      "no     10\n",
      "yes     7\n",
      "Name: group, dtype: int64\n",
      "\n",
      "\n",
      "converted\n",
      "no      6\n",
      "yes    11\n",
      "Name: group, dtype: int64\n"
     ]
    }
   ],
   "source": [
    "print(oldspanish.groupby('converted')['group'].count())\n",
    "print(\"\\n\")\n",
    "print(newspanish.groupby('converted')['group'].count())"
   ]
  },
  {
   "cell_type": "code",
   "execution_count": 36,
   "metadata": {
    "scrolled": true
   },
   "outputs": [
    {
     "data": {
      "image/png": "[encoded data removed]",
      "text/plain": [
       "<Figure size 432x288 with 2 Axes>"
      ]
     },
     "metadata": {
      "needs_background": "light"
     },
     "output_type": "display_data"
    }
   ],
   "source": [
    "fig, ax =plt.subplots(1,2)\n",
    "sns.countplot(oldspanish[\"converted\"], palette=\"gnuplot2_r\", ax=ax[0])\n",
    "sns.countplot(newspanish[\"converted\"], palette=\"gnuplot2_r\", ax=ax[1])\n",
    "fig.show()"
   ]
  },
  {
   "cell_type": "markdown",
   "metadata": {},
   "source": [
    "#### Observation\n",
    "\n",
    "Spanish as language preferred are more likely to convert on the new landing page.\n",
    "\n",
    "The new website make a tremendous impact when it comes to converting the Spanish audience."
   ]
  },
  {
   "cell_type": "markdown",
   "metadata": {},
   "source": [
    "### French and Conversion Rate"
   ]
  },
  {
   "cell_type": "code",
   "execution_count": 37,
   "metadata": {
    "scrolled": true
   },
   "outputs": [
    {
     "name": "stdout",
     "output_type": "stream",
     "text": [
      "converted\n",
      "no     14\n",
      "yes     3\n",
      "Name: group, dtype: int64\n",
      "\n",
      "\n",
      "converted\n",
      "no      5\n",
      "yes    12\n",
      "Name: group, dtype: int64\n"
     ]
    }
   ],
   "source": [
    "print(oldfrench.groupby('converted')['group'].count())\n",
    "print(\"\\n\")\n",
    "print(newfrench.groupby('converted')['group'].count())"
   ]
  },
  {
   "cell_type": "code",
   "execution_count": 38,
   "metadata": {
    "scrolled": true
   },
   "outputs": [
    {
     "data": {
      "image/png": "[encoded data removed]",
      "text/plain": [
       "<Figure size 432x288 with 2 Axes>"
      ]
     },
     "metadata": {
      "needs_background": "light"
     },
     "output_type": "display_data"
    }
   ],
   "source": [
    "fig, ax =plt.subplots(1,2)\n",
    "sns.countplot(oldfrench[\"converted\"], palette=\"gnuplot2_r\", ax=ax[0])\n",
    "sns.countplot(newfrench[\"converted\"], palette=\"gnuplot2_r\", ax=ax[1])\n",
    "fig.show()"
   ]
  },
  {
   "cell_type": "markdown",
   "metadata": {},
   "source": [
    "### Chi-Square Test for Independence"
   ]
  },
  {
   "cell_type": "markdown",
   "metadata": {},
   "source": [
    "Null hypothesis\n",
    "\n",
    "$H_0:$ Conversion is independent of Language Preferred\n",
    "\n",
    "Alternate hypothesis\n",
    "\n",
    "$H_a:$ Conversion depends on Language Preferred"
   ]
  },
  {
   "cell_type": "code",
   "execution_count": 51,
   "metadata": {
    "scrolled": true
   },
   "outputs": [
    {
     "data": {
      "text/html": [
       "<div>\n",
       "<style scoped>\n",
       "    .dataframe tbody tr th:only-of-type {\n",
       "        vertical-align: middle;\n",
       "    }\n",
       "\n",
       "    .dataframe tbody tr th {\n",
       "        vertical-align: top;\n",
       "    }\n",
       "\n",
       "    .dataframe thead th {\n",
       "        text-align: right;\n",
       "    }\n",
       "</style>\n",
       "<table border=\"1\" class=\"dataframe\">\n",
       "  <thead>\n",
       "    <tr style=\"text-align: right;\">\n",
       "      <th>language_preferred</th>\n",
       "      <th>English</th>\n",
       "      <th>French</th>\n",
       "      <th>Spanish</th>\n",
       "    </tr>\n",
       "    <tr>\n",
       "      <th>converted</th>\n",
       "      <th></th>\n",
       "      <th></th>\n",
       "      <th></th>\n",
       "    </tr>\n",
       "  </thead>\n",
       "  <tbody>\n",
       "    <tr>\n",
       "      <th>no</th>\n",
       "      <td>11</td>\n",
       "      <td>19</td>\n",
       "      <td>16</td>\n",
       "    </tr>\n",
       "    <tr>\n",
       "      <th>yes</th>\n",
       "      <td>21</td>\n",
       "      <td>15</td>\n",
       "      <td>18</td>\n",
       "    </tr>\n",
       "  </tbody>\n",
       "</table>\n",
       "</div>"
      ],
      "text/plain": [
       "language_preferred  English  French  Spanish\n",
       "converted                                   \n",
       "no                       11      19       16\n",
       "yes                      21      15       18"
      ]
     },
     "execution_count": 51,
     "metadata": {},
     "output_type": "execute_result"
    }
   ],
   "source": [
    "# Making a table for our variables\n",
    "languageconvert=pd.crosstab(index=data[\"converted\"], columns=data[\"language_preferred\"])\n",
    "languageconvert"
   ]
  },
  {
   "cell_type": "code",
   "execution_count": 52,
   "metadata": {},
   "outputs": [
    {
     "name": "stdout",
     "output_type": "stream",
     "text": [
      "0.21298887487543447\n"
     ]
    }
   ],
   "source": [
    "# Importing the function\n",
    "from scipy.stats import chi2_contingency\n",
    "\n",
    "# Finding our p-value\n",
    "chi, p_value, dof, expected = chi2_contingency(languageconvert)\n",
    "print(p_value)"
   ]
  },
  {
   "cell_type": "markdown",
   "metadata": {},
   "source": [
    "#### Observation\n",
    "Considering the p-value is above the level of significance, we fail to reject the null hypothesis "
   ]
  },
  {
   "cell_type": "code",
   "execution_count": 39,
   "metadata": {
    "scrolled": true
   },
   "outputs": [
    {
     "name": "stdout",
     "output_type": "stream",
     "text": [
      "The conversion rate for Old site's English viewers is: 69 %\n",
      "The conversion rate for New site's English viewers is: 62 %\n",
      "The conversion rate for Old site's Spanish viewers is: 41 %\n",
      "The conversion rate for New site's Spanish viewers is: 65 %\n",
      "The conversion rate for Old site's French viewers is: 18 %\n",
      "The conversion rate for New site's French viewers is: 71 %\n"
     ]
    }
   ],
   "source": [
    "print(\"The conversion rate for Old site's English viewers is:\", round((11/16)*100),\"%\")\n",
    "print(\"The conversion rate for New site's English viewers is:\", round((10/16)*100),\"%\")\n",
    "print(\"The conversion rate for Old site's Spanish viewers is:\", round((7/17)*100),\"%\")\n",
    "print(\"The conversion rate for New site's Spanish viewers is:\", round((11/17)*100),\"%\")\n",
    "print(\"The conversion rate for Old site's French viewers is:\", round((3/17)*100),\"%\")\n",
    "print(\"The conversion rate for New site's French viewers is:\", round((12/17)*100),\"%\")"
   ]
  },
  {
   "cell_type": "markdown",
   "metadata": {},
   "source": [
    "#### Observation\n",
    "\n",
    "When looking at language, it appears that the new site has similar conversion for English, and substantially BETTER conversion for Spanish and French.\n"
   ]
  },
  {
   "cell_type": "markdown",
   "metadata": {},
   "source": [
    "## Conclusion and Recommendations\n",
    "\n",
    "It appears that people who spend more time on the landing page will convert at a higher rate.  I advise E-News express to not only keep the new landing page, but look for other methods to keep the user on the landing page.  There is statistical significance showing that the longer they are kept on the page, they are more likely to convert.  E-News could look at other methods to improve the landing page further.\n",
    "\n",
    "For example: They could implement better visuals to engage the viewer.  They want to have captivating captions, and they want to do everything that does not bore the viewer.  By having colors that are not hard on the eyes, appeasing fonts, and other methods, E-News could go even further at captivating the audience.\n",
    "\n",
    "They could implement polls, chatboxs, comment sections, and other widgets to keep the reader occupied (If they haven't already)."
   ]
  }
 ],
 "metadata": {
  "kernelspec": {
   "display_name": "Python 3",
   "language": "python",
   "name": "python3"
  },
  "language_info": {
   "codemirror_mode": {
    "name": "ipython",
    "version": 3
   },
   "file_extension": ".py",
   "mimetype": "text/x-python",
   "name": "python",
   "nbconvert_exporter": "python",
   "pygments_lexer": "ipython3",
   "version": "3.8.5"
  }
 },
 "nbformat": 4,
 "nbformat_minor": 4
}
